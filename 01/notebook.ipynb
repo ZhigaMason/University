{
 "cells": [
  {
   "cell_type": "markdown",
   "id": "11a4dafd-0e7d-44ae-a9d9-e305e10da18b",
   "metadata": {},
   "source": [
    "# Homework 01: Systematic state space traversal\n",
    "\n",
    "In this homework we will explore state space traversals, to be precise we will imlement: random search, breadth-first search, depth-first search, heuristic greedy best-first search and A-star.\n",
    "\n",
    "## Maze & auxillary classes\n",
    "\n",
    "We will define two custom handy classes. One will be **ResultDict** class, it will represent result of path-finding algorithm. Another one will be **Maze** class, it will encapsulate file reading and present graph abstract node's neighborhood, **Maze** will also have **display** method to show path and maze itself with the following map legend:\n",
    "\n",
    "    '█' - Wall cell\n",
    "    'S' - Start of path\n",
    "    'E' - End of path\n",
    "    '+' - Cell included in the path\n",
    "    '.' - Visited cell that was not included in a path\n",
    "    ' ' - empty cell"
   ]
  },
  {
   "cell_type": "code",
   "execution_count": 1,
   "id": "5a3161d5-86a6-4e8c-a467-925e7948b733",
   "metadata": {},
   "outputs": [],
   "source": [
    "from dataclasses import dataclass\n",
    "\n",
    "Node = tuple[int, int]\n",
    "\n",
    "@dataclass(frozen=True)\n",
    "class ResultDictionary:\n",
    "    \"\"\"Class representing result of pathfinding algorithm\"\"\"\n",
    "    distance : dict[Node, int]\n",
    "    path : list[Node]\n",
    "\n",
    "EMPTY_RESULT = ResultDictionary({}, [])"
   ]
  },
  {
   "cell_type": "code",
   "execution_count": 2,
   "id": "d9fa38d0-a8f8-4fc5-b78e-3dbb9a7084d3",
   "metadata": {},
   "outputs": [],
   "source": [
    "class Maze:\n",
    "\n",
    "    def __init__(self, file_name:str, wall_char:str='X', empty_char:str=' '):\n",
    "        self.maze = []\n",
    "        self.height = 0\n",
    "        self.width  =  0\n",
    "        self.start  = None\n",
    "        self.end    = None\n",
    "        self._read_maze(file_name, wall_char, empty_char)\n",
    "\n",
    "    def _read_maze(self, filename : str, wall_char:str, empty_char:str):\n",
    "        with open(filename) as f:\n",
    "            for line in f:\n",
    "                match line[0]:\n",
    "                    case 's':\n",
    "                        self.start = eval('(' + line[6:] + ')') # LISP cursed\n",
    "                    case 'e':\n",
    "                        self.end = eval('(' + line[4:] + ')')\n",
    "                    case _:\n",
    "                        self.maze.append(list(map(lambda c: c == empty_char, line)))\n",
    "        self.height = len(self.maze)\n",
    "        self.width = len(self.maze[0])\n",
    "\n",
    "    def neighbors(self, n:Node):\n",
    "        for dx, dy in [(-1, 0), (0, -1), (1, 0), (0, 1)]:\n",
    "            if self.maze[n[1] + dy][n[0] + dx]:\n",
    "                yield (n[0] + dx, n[1] + dy)\n",
    "\n",
    "    def display(self, result:ResultDictionary=EMPTY_RESULT):\n",
    "        path_set = set(result.path)\n",
    "        for i in range(self.height):\n",
    "            for j in range(self.width):\n",
    "                if not self.maze[i][j]:\n",
    "                    print('█', end='')\n",
    "                elif (j, i) == self.start:\n",
    "                    print('S', end='')\n",
    "                elif (j, i) == self.end:\n",
    "                    print('E', end='')\n",
    "                elif (j, i) in path_set:\n",
    "                    print('+', end='')\n",
    "                elif (j, i) in result.distance:\n",
    "                    print('.', end='')\n",
    "                else:\n",
    "                    print(' ', end='')\n",
    "            print('')\n",
    "        if result.distance:\n",
    "            print('Cells opened: ', len(result.distance))\n",
    "            if result.path:\n",
    "                print('Path length: ', len(result.path) - 1)\n",
    "            else:\n",
    "                print('End is unreacheable from start')"
   ]
  },
  {
   "cell_type": "code",
   "execution_count": 3,
   "id": "f87477ce-8d6c-4a88-babc-9f717c8a6996",
   "metadata": {},
   "outputs": [
    {
     "name": "stdout",
     "output_type": "stream",
     "text": [
      "████████████████████████████████████████████████████████\n",
      "█                                                 █   ██\n",
      "█  ██ ████   █  █████ █████  █  ████   ████ █ █   █ █ ██\n",
      "█ █                   █   █   █       █      S█ █ █ █ ██\n",
      "█   ██ █  ██████ ████ █   ██  ███  █    ██ ███  █ ███ ██\n",
      "█       █    E          █             █         █     ██\n",
      "████████████████████████████████████████████████████████\n"
     ]
    }
   ],
   "source": [
    "m36 = Maze('data/36.txt')\n",
    "m36.display()"
   ]
  },
  {
   "cell_type": "markdown",
   "id": "0615795e-54b6-48c2-87d7-92b386536602",
   "metadata": {},
   "source": [
    "## Implementing uninformed algorithms\n",
    "\n",
    "Let's define a custom function to reconstruct path"
   ]
  },
  {
   "cell_type": "code",
   "execution_count": 4,
   "id": "c09a00fc-ce73-45ae-8af4-96863f861bc4",
   "metadata": {},
   "outputs": [],
   "source": [
    "def make_result(maze:Maze, distance:dict[Node, int], pred:dict[Node, Node]):\n",
    "    path = [maze.end]\n",
    "    while path[-1] != maze.start:\n",
    "        path.append(pred[path[-1]])\n",
    "    return ResultDictionary(distance, path[::-1])"
   ]
  },
  {
   "cell_type": "markdown",
   "id": "bc32f939-2602-40bb-b964-927a431b4ba4",
   "metadata": {},
   "source": [
    "### Random Search\n",
    "\n",
    "We operate with array of open vertices, which will have starting cell at the beginning and distance map.\n",
    "We will choose random element of open array, swap it with last and then pop from the list. Then we will open each of its neighbors and add them to open array. We will repeat this until exit is found during discovery fase or there is no new cells to visit i.e. we have exhausted our component."
   ]
  },
  {
   "cell_type": "code",
   "execution_count": 5,
   "id": "b174406a-62b2-4a28-95c5-6f013b120a89",
   "metadata": {},
   "outputs": [],
   "source": [
    "from random import randint, seed\n",
    "\n",
    "seed(42)\n",
    "\n",
    "def RandomSearch(maze : Maze) -> ResultDictionary:\n",
    "    distance = {maze.start:0}\n",
    "    pred = {maze.start:maze.start}\n",
    "    tovisit = [maze.start]\n",
    "    if maze.start == maze.end:\n",
    "        return ResultDictionary(distance, tovisit)\n",
    "    \n",
    "    while tovisit:\n",
    "        idx = randint(0, len(tovisit) - 1)\n",
    "        tovisit[idx], tovisit[-1] = tovisit[-1], tovisit[idx]\n",
    "        current = tovisit.pop()\n",
    "\n",
    "        for n in maze.neighbors(current):\n",
    "            if n not in distance:\n",
    "                tovisit.append(n)\n",
    "                pred[n] = current\n",
    "                distance[n] = distance[current] + 1\n",
    "                if n == maze.end:\n",
    "                    return make_result(maze,  distance, pred)\n",
    "    return ResultDictionary(distance, [])\n",
    "        "
   ]
  },
  {
   "cell_type": "code",
   "execution_count": 6,
   "id": "43337ce9-ef45-405a-9999-85dfa61336ab",
   "metadata": {},
   "outputs": [
    {
     "name": "stdout",
     "output_type": "stream",
     "text": [
      "████████████████████████████████████████████████████████\n",
      "█.........+++++++++++++++++++++++++++.++++++......█...██\n",
      "█..██.████+..█..█████.█████..█..████+++████+█.█...█.█.██\n",
      "█.█......++...........█...█...█.......█....++S█.█.█.█.██\n",
      "█...██.█.+██████.████.█...██..███..█....██.███..█.███.██\n",
      "█..  ...█++++E .........█.............█.........█.....██\n",
      "████████████████████████████████████████████████████████\n",
      "Cells opened:  189\n",
      "Path length:  48\n"
     ]
    }
   ],
   "source": [
    "rs = RandomSearch(m36)\n",
    "m36.display(rs)"
   ]
  },
  {
   "cell_type": "markdown",
   "id": "9cdc8bef-fbf4-4ce0-81f4-9647a57f8f40",
   "metadata": {},
   "source": [
    "### BFS\n",
    "\n",
    "BFS is very similiar to Random Search, the only difference is that we will pop not random element, but the first pushed. In other words elements will be added and removed in \"first in, first out\" fashion."
   ]
  },
  {
   "cell_type": "code",
   "execution_count": 7,
   "id": "e7ff9e7e-518b-4ae6-a3c4-0c3fa9bd8e02",
   "metadata": {},
   "outputs": [],
   "source": [
    "from collections import deque\n",
    "\n",
    "def BFS(maze : Maze) -> ResultDictionary:\n",
    "    distance = {maze.start:0}\n",
    "    pred = {maze.start:maze.start}\n",
    "    tovisit = deque([maze.start])\n",
    "    if maze.start == maze.end:\n",
    "        return ResultDictionary(distance, tovisit)\n",
    "\n",
    "    while tovisit:\n",
    "        current = tovisit.popleft()\n",
    "\n",
    "        for n in maze.neighbors(current):\n",
    "            if n not in distance:\n",
    "                tovisit.append(n)\n",
    "                pred[n] = current\n",
    "                distance[n] = distance[current] + 1\n",
    "                if n == maze.end:\n",
    "                    return make_result(maze,  distance, pred)\n",
    "    return ResultDictionary(distance, [])"
   ]
  },
  {
   "cell_type": "code",
   "execution_count": 8,
   "id": "066efe19-8e6a-4b8d-890c-698d6ca37347",
   "metadata": {},
   "outputs": [
    {
     "name": "stdout",
     "output_type": "stream",
     "text": [
      "████████████████████████████████████████████████████████\n",
      "█           ......................................█...██\n",
      "█  ██ ████   █..█████.█████..█..████...████.█.█...█.█.██\n",
      "█ █           ........█...█...█.......█++++++S█.█.█.█.██\n",
      "█   ██ █  ██████.████.█+++██..███..█++++██.███..█.███.██\n",
      "█       █    E++++++++++█++++++++++++.█.........█.....██\n",
      "████████████████████████████████████████████████████████\n",
      "Cells opened:  146\n",
      "Path length:  36\n"
     ]
    }
   ],
   "source": [
    "bfs = BFS(m36)\n",
    "m36.display(bfs)"
   ]
  },
  {
   "cell_type": "markdown",
   "id": "dd89a120-7450-4406-8f5b-1929a6b48c88",
   "metadata": {},
   "source": [
    "### DFS\n",
    "\n",
    "We will implement iterative DFS with stack. On every iteration we will look at stack top's neighbors, if at least one of its neighbors is not visited, it will be pushed into stack and iterations will conitinue, otherwise stack will be popped."
   ]
  },
  {
   "cell_type": "code",
   "execution_count": 9,
   "id": "fca8087e-5d83-4e79-b5b9-58f6c3f122a6",
   "metadata": {},
   "outputs": [],
   "source": [
    "def DFS(maze:Maze) -> ResultDictionary:\n",
    "    distance = {maze.start:0}\n",
    "    pred = {maze.start:maze.start}\n",
    "    stack = [maze.start]\n",
    "    if maze.start == maze.end:\n",
    "        return ResultDictionary(distance, stack)\n",
    "        \n",
    "    while stack:\n",
    "        current = stack[-1]\n",
    "        do_pop = True\n",
    "\n",
    "        for n in maze.neighbors(current):\n",
    "            if n not in distance:\n",
    "                do_pop = False\n",
    "                stack.append(n)\n",
    "                pred[n] = current\n",
    "                distance[n] = distance[current] + 1\n",
    "                if n == maze.end:\n",
    "                    return make_result(maze,  distance, pred)\n",
    "        if do_pop:\n",
    "            stack.pop()\n",
    "    return ResultDictionary(distance, [])"
   ]
  },
  {
   "cell_type": "code",
   "execution_count": 10,
   "id": "341b9788-87bc-4a48-b801-de38d378cbf2",
   "metadata": {},
   "outputs": [
    {
     "name": "stdout",
     "output_type": "stream",
     "text": [
      "████████████████████████████████████████████████████████\n",
      "█             .+++++++......++++......++++++.+++. █   ██\n",
      "█  ██ ████   █.+█████+█████.+█.+████.++████+█+█+. █ █ ██\n",
      "█ █           .++.  .+█+++█.+.█++++..+█  .++.S█+█ █ █ ██\n",
      "█   ██ █  ██████+████+█+.+██+.███.+█.+. ██+███.+█ ███ ██\n",
      "█       █    E+++....+++█++++.....++++█  .++++++█     ██\n",
      "████████████████████████████████████████████████████████\n",
      "Cells opened:  120\n",
      "Path length:  74\n"
     ]
    }
   ],
   "source": [
    "dfs = DFS(m36)\n",
    "m36.display(dfs)"
   ]
  },
  {
   "cell_type": "markdown",
   "id": "d1628541-8286-461e-85fd-9d8e12401722",
   "metadata": {},
   "source": [
    "## Implementing informed algorithms\n",
    "\n",
    "We will create utility dataclass **PrioritizedNode** to use it in heap. Additionally we will define three heuristics coresponding to $l_1$, $l_2$ and $l_{+\\infty}$ distance to maze exit."
   ]
  },
  {
   "cell_type": "code",
   "execution_count": 11,
   "id": "707ea5ca-780a-443b-a45f-5154cdd86bdf",
   "metadata": {},
   "outputs": [],
   "source": [
    "from heapq import heappush, heappop\n",
    "from dataclasses import field\n",
    "from math import sqrt\n",
    "\n",
    "@dataclass(order=True)\n",
    "class PrioritizedNode:\n",
    "    node: Node=field(compare=False)\n",
    "    priority: float|int = 0.0\n",
    "    distance:int=field(compare=False, default=0)\n",
    "    \n",
    "    def __iter__(self):\n",
    "        return iter((self.node, self.distance))\n",
    "\n",
    "def L1_dist(maze : Maze):\n",
    "    def l1(n : Node):\n",
    "        return abs(n[0] - maze.end[0]) + abs(n[1] - maze.end[1])\n",
    "    return l1\n",
    "\n",
    "def L2_dist(maze : Maze):\n",
    "    def l2(n : Node):\n",
    "        return sqrt((n[0] - maze.end[0])**2 + (n[1] - maze.end[1])**2)\n",
    "    return l2\n",
    "\n",
    "def Chebyshev_dist(maze : Maze):\n",
    "    def chebyshev(n : Node):\n",
    "        return max((n[0] - maze.end[0]), abs(n[1] - maze.end[1]))\n",
    "    return chebyshev"
   ]
  },
  {
   "cell_type": "markdown",
   "id": "3f0b1bd1-84c2-43a4-8f4d-61c8d5bd229f",
   "metadata": {},
   "source": [
    "### Greedy best-first search\n",
    "\n",
    "Our implementation of Greedy Search will use heap to keep track of a cell closest to end."
   ]
  },
  {
   "cell_type": "code",
   "execution_count": 12,
   "id": "e58095a9-c2c9-41a7-a139-530fbfaf2a7c",
   "metadata": {},
   "outputs": [],
   "source": [
    "def GreedySearch(maze:Maze, heuristic) -> ResultDictionary:\n",
    "    distance = {maze.start:0}\n",
    "    pred = {maze.start:maze.start}\n",
    "    heap = [PrioritizedNode(maze.start)]\n",
    "    if maze.start == maze.end:\n",
    "        return ResultDictionary(distance, heap)\n",
    "\n",
    "    while heap:\n",
    "        current = heappop(heap).node\n",
    "        for n in maze.neighbors(current):\n",
    "            if n not in distance:\n",
    "                pred[n] = current\n",
    "                distance[n] = distance[current] + 1\n",
    "                heappush(heap, PrioritizedNode(n, priority=heuristic(n)))\n",
    "                if n == maze.end:\n",
    "                    return make_result(maze,  distance, pred)\n",
    "    return ResultDictionary(distance, [])"
   ]
  },
  {
   "cell_type": "code",
   "execution_count": 13,
   "id": "0700b29b-fb97-4e5d-a494-f0d5e82726e4",
   "metadata": {},
   "outputs": [
    {
     "name": "stdout",
     "output_type": "stream",
     "text": [
      "████████████████████████████████████████████████████████\n",
      "█             .++++++++++++++++.                  █   ██\n",
      "█  ██ ████...█.+█████.█████..█++████.  ████.█.█   █ █ ██\n",
      "█ █     .+++++++.     █   █   █++++++.█++++++S█ █ █ █ ██\n",
      "█   ██ █.+██████ ████ █   ██  ███..█++++██.███  █ ███ ██\n",
      "█       █++++E          █           ..█.        █     ██\n",
      "████████████████████████████████████████████████████████\n",
      "Cells opened:  71\n",
      "Path length:  48\n"
     ]
    }
   ],
   "source": [
    "gs = GreedySearch(m36, Chebyshev_dist(m36))\n",
    "m36.display(gs)"
   ]
  },
  {
   "cell_type": "markdown",
   "id": "4b468e9d-8675-4c89-bb36-ba61f85f8ca9",
   "metadata": {},
   "source": [
    "### A*\n",
    "\n",
    "A-star's implementation is very similiar to one of Greedy search. Differences are that our priority will be a sum of heuristic and length of path to opened node and introduction of relaxation. We will not use decrease key, but rather skip already node if we try to process it, when it was already closed."
   ]
  },
  {
   "cell_type": "code",
   "execution_count": 14,
   "id": "9e189a53-e4a9-4525-b20b-ba5ff884d7fe",
   "metadata": {},
   "outputs": [],
   "source": [
    "def Astar(maze:Maze, heuristic) -> ResultDictionary:\n",
    "    distance = {maze.start:0}\n",
    "    pred = {maze.start:maze.start}\n",
    "    heap = [PrioritizedNode(maze.start)]\n",
    "    if maze.start == maze.end:\n",
    "        return ResultDictionary(distance, heap)\n",
    "        \n",
    "    while heap:\n",
    "        current, current_distance = heappop(heap)\n",
    "        if current_distance > distance[current]:\n",
    "            continue\n",
    "        for n in maze.neighbors(current):\n",
    "            if n not in distance or distance[n] > distance[current] + 1:\n",
    "                pred[n] = current\n",
    "                distance[n] = distance[current] + 1\n",
    "                heappush(heap, PrioritizedNode(n, distance=distance[n], priority=heuristic(n)+distance[n]))\n",
    "                if n == maze.end:\n",
    "                    return make_result(maze,  distance, pred)\n",
    "    return ResultDictionary(distance, [])"
   ]
  },
  {
   "cell_type": "code",
   "execution_count": 15,
   "id": "26ceca0d-7c67-4cc1-b3ad-ff559abdc967",
   "metadata": {},
   "outputs": [
    {
     "name": "stdout",
     "output_type": "stream",
     "text": [
      "████████████████████████████████████████████████████████\n",
      "█                                          . .    █   ██\n",
      "█  ██ ████   █  █████ █████  █ .████.. ████.█.█   █ █ ██\n",
      "█ █                   █...█ ..█.......█++++++S█ █ █ █ ██\n",
      "█   ██ █  ██████.████.█+++██..███..█++++██.███  █ ███ ██\n",
      "█       █    E++++++++++█++++++++++++.█......   █     ██\n",
      "████████████████████████████████████████████████████████\n",
      "Cells opened:  70\n",
      "Path length:  36\n"
     ]
    }
   ],
   "source": [
    "astar = Astar(m36, L1_dist(m36))\n",
    "m36.display(astar)"
   ]
  },
  {
   "cell_type": "markdown",
   "id": "caec05d4-43d3-49a9-8121-b7d907de0d80",
   "metadata": {},
   "source": [
    "## Heuristic analysis\n",
    "\n",
    "This is part is not obligatory, but I thought it would be interesting to investigate this topic ($S$ is space of maze cells).\n",
    "\n",
    "For further discussion let us define two important heuristics, for all $n \\in S$:\n",
    "\n",
    "$$\n",
    "    h^0(n) = 0 = \\text{trivial heuristic}\n",
    "$$\n",
    "\n",
    "$$\n",
    "    h^*(n) = \\text{length of the shortest path from $n$ to maze's end} = \\text{optimal heuristic}\n",
    "$$\n",
    "\n",
    "And define $h_1, h_2, h_\\infty$ to be $l_1$, $l_2$ and $l_\\infty$ heurstics respectivly. Then for all $n \\in S$ one can easily show following.\n",
    "\n",
    "$$\n",
    "    h^0(n) \\leq h_\\infty(n) \\leq h_2(n) \\leq h_1(n) \\leq h^*(n)\n",
    "$$\n",
    "\n",
    "All those heuristics are then admissible. One can expect that the closer heuristic is to perfect heuristic, the less cells will open, because this heuristic are more \"informative\".\n",
    "\n",
    "Let's implement $h_0$ and $h^*$."
   ]
  },
  {
   "cell_type": "code",
   "execution_count": 16,
   "id": "763f8d11-db1f-4253-b1ac-bd5dfbe707a0",
   "metadata": {},
   "outputs": [],
   "source": [
    "def TrivialHeuristic(*_):\n",
    "    return lambda x: 0\n",
    "\n",
    "def OptimalHeuristic(maze : Maze):\n",
    "    distance = {maze.end:0}\n",
    "    tovisit = deque([maze.end])\n",
    "    \n",
    "    while tovisit:\n",
    "        current = tovisit.popleft()\n",
    "        for n in maze.neighbors(current):\n",
    "            if n not in distance:\n",
    "                tovisit.append(n)\n",
    "                distance[n] = distance[current] + 1\n",
    "    return lambda n : distance[n]"
   ]
  },
  {
   "cell_type": "code",
   "execution_count": 17,
   "id": "6060b7af-4bf2-472c-b3dc-8c3a9ec4963c",
   "metadata": {},
   "outputs": [
    {
     "name": "stdout",
     "output_type": "stream",
     "text": [
      "████████████████████████████████████████████████████████\n",
      "█                                                 █   ██\n",
      "█  ██ ████   █  █████ █████  █  ████   ████.█.█   █ █ ██\n",
      "█ █                   █...█   █     ..█++++++S█ █ █ █ ██\n",
      "█   ██ █  ██████.████.█+++██..███..█++++██.███  █ ███ ██\n",
      "█       █    E++++++++++█++++++++++++.█.        █     ██\n",
      "████████████████████████████████████████████████████████\n",
      "Cells opened:  53\n",
      "Path length:  36\n"
     ]
    }
   ],
   "source": [
    "gs_star = GreedySearch(m36, OptimalHeuristic(m36))\n",
    "m36.display(gs_star)"
   ]
  },
  {
   "cell_type": "code",
   "execution_count": 18,
   "id": "0466fc1f-845c-4ec9-ad89-da89235e6747",
   "metadata": {},
   "outputs": [
    {
     "name": "stdout",
     "output_type": "stream",
     "text": [
      "████████████████████████████████████████████████████████\n",
      "█           ......................................█...██\n",
      "█  ██ ████   █..█████.█████..█..████...████.█.█...█.█.██\n",
      "█ █          .........█...█...█.......█++++++S█.█.█.█.██\n",
      "█   ██ █  ██████.████.█+++██..███..█++++██.███..█.███.██\n",
      "█       █    E++++++++++█++++++++++++.█.........█.....██\n",
      "████████████████████████████████████████████████████████\n",
      "Cells opened:  147\n",
      "Path length:  36\n"
     ]
    }
   ],
   "source": [
    "dijkstra = Astar(m36, TrivialHeuristic(m36))\n",
    "m36.display(dijkstra)"
   ]
  },
  {
   "cell_type": "markdown",
   "id": "4acadb51-9f1f-4655-bc3f-4ebb2038db63",
   "metadata": {},
   "source": [
    "## Display functions & data"
   ]
  },
  {
   "cell_type": "code",
   "execution_count": 19,
   "id": "d9dadb02-1b6e-48db-9ac0-f347c6cad482",
   "metadata": {},
   "outputs": [
    {
     "name": "stdout",
     "output_type": "stream",
     "text": [
      "Random Search: Opened: 153      Path: 42    Time: 1.23ms\n",
      "BFS:           Opened: 146      Path: 36    Time: 0.90ms\n",
      "DFS:           Opened: 120      Path: 74    Time: 0.60ms\n",
      "\n",
      "Greedy Search with L_inf: Opened: 71       Path: 48    Time: 1.04ms\n",
      "Greedy Search with L2:    Opened: 53       Path: 36    Time: 0.71ms\n",
      "Greedy Search with L1:    Opened: 53       Path: 36    Time: 0.68ms\n",
      "\n",
      "A* with L_inf:            Opened: 118      Path: 36    Time: 2.01ms\n",
      "A* with L2:               Opened: 107      Path: 36    Time: 1.80ms\n",
      "A* with L1:               Opened: 70       Path: 36    Time: 1.15ms\n",
      "\n",
      "Greedy Search with trivial heuristic: Opened: 150      Path: 38    Time: 1.56ms\n",
      "Greedy Search with optimal heuristic: Opened: 53       Path: 36    Time: 1.44ms\n",
      "\n",
      "A* with trivial heuristic:            Opened: 147      Path: 36    Time: 4.51ms\n",
      "A* with optimal heuristic:            Opened: 53       Path: 36    Time: 1.80ms\n"
     ]
    }
   ],
   "source": [
    "import time\n",
    "\n",
    "def display_uninformed(maze : Maze):\n",
    "    for algo, name in zip([RandomSearch, BFS, DFS], ['Random Search:', 'BFS:          ', 'DFS:          ']):\n",
    "        start = time.time()\n",
    "        res = algo(maze)\n",
    "        end = time.time()\n",
    "        print(f\"{name} Opened: {len(res.distance):<7}  Path: {len(res.path) - 1:<4}  Time: {1000*(end-start):.2f}ms\")\n",
    "\n",
    "def display_informed(maze : Maze):\n",
    "    for heur, name in zip([Chebyshev_dist, L2_dist, L1_dist], ['L_inf:', 'L2:   ', 'L1:   ']):\n",
    "        start = time.time()\n",
    "        res = GreedySearch(maze, heur(maze))\n",
    "        end = time.time()\n",
    "        print(f\"Greedy Search with {name} Opened: {len(res.distance):<7}  Path: {len(res.path) - 1:<4}  Time: {1000*(end-start):.2f}ms\")\n",
    "    \n",
    "    print('')\n",
    "    for heur, name in zip([Chebyshev_dist, L2_dist, L1_dist], ['L_inf:', 'L2:   ', 'L1:   ']):\n",
    "        start = time.time()\n",
    "        res = Astar(maze, heur(maze))\n",
    "        end = time.time()\n",
    "        print(f\"A* with {name}            Opened: {len(res.distance):<7}  Path: {len(res.path) - 1:<4}  Time: {1000*(end-start):.2f}ms\")\n",
    "    \n",
    "    print('')\n",
    "    for heur, name in zip([TrivialHeuristic, OptimalHeuristic], ['trivial heuristic:', 'optimal heuristic:']):\n",
    "        start = time.time()\n",
    "        res = GreedySearch(maze, heur(maze))\n",
    "        end = time.time()\n",
    "        print(f\"Greedy Search with {name} Opened: {len(res.distance):<7}  Path: {len(res.path) - 1:<4}  Time: {1000*(end-start):.2f}ms\")\n",
    "    print('')\n",
    "    for heur, name in zip([TrivialHeuristic, OptimalHeuristic], ['trivial heuristic:', 'optimal heuristic:']):\n",
    "        start = time.time()\n",
    "        res = Astar(maze, heur(maze))\n",
    "        end = time.time()\n",
    "        print(f\"A* with {name}            Opened: {len(res.distance):<7}  Path: {len(res.path) - 1:<4}  Time: {1000*(end-start):.2f}ms\")\n",
    "\n",
    "def display_algos(maze : Maze):\n",
    "    display_uninformed(maze)\n",
    "    print('')\n",
    "    display_informed(maze)\n",
    "\n",
    "display_algos(m36)"
   ]
  },
  {
   "cell_type": "markdown",
   "id": "33be8d3e-92d2-4299-ab89-fdced3352984",
   "metadata": {},
   "source": [
    "Let's check our algorithms on the largest maze we have."
   ]
  },
  {
   "cell_type": "code",
   "execution_count": 20,
   "id": "370f3095-1d18-406c-96e0-59e0731ee35b",
   "metadata": {},
   "outputs": [
    {
     "name": "stdout",
     "output_type": "stream",
     "text": [
      "Random Search: Opened: 99824    Path: 374   Time: 401.46ms\n",
      "BFS:           Opened: 103733   Path: 332   Time: 241.03ms\n",
      "DFS:           Opened: 1380752  Path: 9664  Time: 5365.02ms\n",
      "\n",
      "Greedy Search with L_inf: Opened: 1850     Path: 538   Time: 12.30ms\n",
      "Greedy Search with L2:    Opened: 646      Path: 386   Time: 4.34ms\n",
      "Greedy Search with L1:    Opened: 687      Path: 392   Time: 4.11ms\n",
      "\n",
      "A* with L_inf:            Opened: 45199    Path: 332   Time: 403.80ms\n",
      "A* with L2:               Opened: 21602    Path: 332   Time: 197.06ms\n",
      "A* with L1:               Opened: 2337     Path: 332   Time: 19.48ms\n",
      "\n",
      "Greedy Search with trivial heuristic: Opened: 26037    Path: 1746  Time: 155.93ms\n",
      "Greedy Search with optimal heuristic: Opened: 558      Path: 332   Time: 3238.28ms\n",
      "\n",
      "A* with trivial heuristic:            Opened: 103550   Path: 332   Time: 868.42ms\n",
      "A* with optimal heuristic:            Opened: 1343     Path: 332   Time: 3110.88ms\n"
     ]
    }
   ],
   "source": [
    "m332 = Maze('data/332.txt')\n",
    "display_algos(m332)"
   ]
  },
  {
   "cell_type": "markdown",
   "id": "4ca0b46e-1fd2-444c-bdab-1936b71ab162",
   "metadata": {},
   "source": [
    "As expected only __A*__, **BFS** and **Greedy search with optimal heuristic** found correct solution. The least opened cells were opend by __A*__ with optimal heuristic, but due to its computational inefficency total time was much higher. Optimal for our use case is __A*__ with $l_1$ based heuristic, which compromises heuristic accuracy and speed.\n",
    "\n",
    "## Tests"
   ]
  },
  {
   "cell_type": "code",
   "execution_count": 21,
   "id": "c9e186df-31c7-4b52-8069-0bc138b8876f",
   "metadata": {},
   "outputs": [
    {
     "name": "stdout",
     "output_type": "stream",
     "text": [
      "Passed test #00: time elapsed - 0.01ms\n",
      "Passed test #01: time elapsed - 0.05ms\n",
      "Passed test #02: time elapsed - 0.06ms\n",
      "Passed test #03: time elapsed - 0.60ms\n",
      "Passed test #04: time elapsed - 0.33ms\n",
      "Passed test #05: time elapsed - 0.17ms\n",
      "Passed test #06: time elapsed - 1.87ms\n",
      "Passed test #07: time elapsed - 5.64ms\n",
      "Passed test #08: time elapsed - 8.18ms\n",
      "Passed test #09: time elapsed - 18.95ms\n",
      "Passed test #10: time elapsed - 18.69ms\n",
      "\n",
      "    Total time 54.55ms\n"
     ]
    }
   ],
   "source": [
    "cumulative_time = 0\n",
    "for i, d in enumerate([0, 4, 6, 26, 36, 42, 72, 84, 114, 220, 332]):\n",
    "    maze = Maze('data/' + str(d) + '.txt')\n",
    "    start = time.time()\n",
    "    res = Astar(maze, L1_dist(maze))\n",
    "    end = time.time()\n",
    "    if len(res.path) - 1 == d:\n",
    "        print(f'Passed test #{i:0>2}: time elapsed - {1000*(end - start):.2f}ms')\n",
    "    else:\n",
    "        print(f'Failed test #{i:0>2}')\n",
    "    cumulative_time += 1000*(end - start)\n",
    "print(f'\\n    Total time {cumulative_time:.2f}ms')"
   ]
  },
  {
   "cell_type": "code",
   "execution_count": 22,
   "id": "f572bac7-a031-476d-b089-f73b7e098452",
   "metadata": {},
   "outputs": [
    {
     "name": "stdout",
     "output_type": "stream",
     "text": [
      "██████████████████████████████████\n",
      "█         █   █                 ██\n",
      "█ ███ █   █ █   █████ █   ███ █ ██\n",
      "█     █ █   █ █   █   █ █   █   ██\n",
      "█  ████   ███ ███ █  ███ █  █   ██\n",
      "█     █         █ █         █   ██\n",
      "█  ██  ██ ██ ██ █ █ █.███.████  ██\n",
      "█   █     █       █ ........... ██\n",
      "█ █  ██     █ ███ █████.█.█.█.█.██\n",
      "█   █     █      .......█...█S..██\n",
      "██  █ █ ██ █ ███████.██..███.+█.██\n",
      "█   █               █ █.█...█+█.██\n",
      "█  █ ███████ ██   █ █ █.█.█.█+..██\n",
      "█               █ █   ....█..+█.██\n",
      "████ ████ █ ███.█. █. ███████+█.██\n",
      "█         █  E++++█...█+++++++..██\n",
      "█  ███  █ █ █  .█+██.██+..█..█..██\n",
      "█ █     █ █   █ █+++++++█...... ██\n",
      "█  ██   █ ███   ██.█.█.████.█ █ ██\n",
      "█     █ █     █             █   ██\n",
      "█ █ █  ███████  ████████ █ ██ █ ██\n",
      "█   █                       █   ██\n",
      "██   █████ █  █ █ █ █ █████  ██ ██\n",
      "█   █             █           █ ██\n",
      "█ █   ██ ██ ███ █ █ █   ██    █ ██\n",
      "█   █       █             █     ██\n",
      "█    ██ ███ █  ████ ███   ██ █████\n",
      "█ █     █   █   █               ██\n",
      "█ ████  █    █  █ █ █ █ ███████ ██\n",
      "█         █         █           ██\n",
      "█ █████ █ ██     █  ███ ██ ███ ███\n",
      "█         █           █         ██\n",
      "█████  ███  ██     ██ ██ █   █  ██\n",
      "█         █   █ █         █ █   ██\n",
      "█ ███ ██   ██ █  ████ ███ █  █  ██\n",
      "█     █   █   █           █     ██\n",
      "█ ██     ██ █████████ ███ ██ ██ ██\n",
      "█                               ██\n",
      "██████████████████████████████████\n",
      "Cells opened:  106\n",
      "Path length:  26\n"
     ]
    }
   ],
   "source": [
    "m = Maze('data/26.txt')\n",
    "m.display(Astar(m, L1_dist(m)))"
   ]
  },
  {
   "cell_type": "code",
   "execution_count": null,
   "id": "e8b793f5-56b4-4b21-90f6-03a3e87e60a3",
   "metadata": {},
   "outputs": [],
   "source": []
  }
 ],
 "metadata": {
  "kernelspec": {
   "display_name": "Python 3 (ipykernel)",
   "language": "python",
   "name": "python3"
  },
  "language_info": {
   "codemirror_mode": {
    "name": "ipython",
    "version": 3
   },
   "file_extension": ".py",
   "mimetype": "text/x-python",
   "name": "python",
   "nbconvert_exporter": "python",
   "pygments_lexer": "ipython3",
   "version": "3.10.16"
  }
 },
 "nbformat": 4,
 "nbformat_minor": 5
}
