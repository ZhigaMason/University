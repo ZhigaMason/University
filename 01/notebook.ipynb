{
 "cells": [
  {
   "cell_type": "code",
   "execution_count": 1,
   "id": "5a3161d5-86a6-4e8c-a467-925e7948b733",
   "metadata": {},
   "outputs": [],
   "source": [
    "from dataclasses import dataclass\n",
    "\n",
    "Node = tuple[int, int]\n",
    "\n",
    "@dataclass(frozen=True)\n",
    "class ResultDictionary:\n",
    "    \"\"\"Class representing result of pathfinding algorithm\"\"\"\n",
    "    distance : dict[Node, int]\n",
    "    path : list[Node]\n",
    "\n",
    "empty_result = ResultDictionary({}, [])"
   ]
  },
  {
   "cell_type": "code",
   "execution_count": 2,
   "id": "d9fa38d0-a8f8-4fc5-b78e-3dbb9a7084d3",
   "metadata": {},
   "outputs": [],
   "source": [
    "class Maze:\n",
    "\n",
    "    def __init__(self, file_name:str, wall_char:str='X', empty_char:str=' '):\n",
    "        self.maze = []\n",
    "        self.height = 0\n",
    "        self.width  =  0\n",
    "        self.start  = None\n",
    "        self.end    = None\n",
    "        self._read_maze(file_name, wall_char, empty_char)\n",
    "\n",
    "    def _read_maze(self, filename : str, wall_char:str, empty_char:str):\n",
    "        with open(filename) as f:\n",
    "            for line in f:\n",
    "                match line[0]:\n",
    "                    case 's':\n",
    "                        self.start = eval('(' + line[6:] + ')') # LISP cursed\n",
    "                    case 'e':\n",
    "                        self.end = eval('(' + line[4:] + ')')\n",
    "                    case _:\n",
    "                        self.maze.append(list(map(lambda c: c == empty_char, line)))\n",
    "        self.height = len(self.maze)\n",
    "        self.width = len(self.maze[0])\n",
    "\n",
    "    def neighbors(self, n:Node):\n",
    "        for dx, dy in [(-1, 0), (0, -1), (1, 0), (0, 1)]:\n",
    "            if self.maze[n[1] + dy][n[0] + dx]:\n",
    "                yield (n[0] + dx, n[1] + dy)\n",
    "\n",
    "    def display(self, result:ResultDictionary=empty_result):\n",
    "        path_set = set(result.path)\n",
    "        for i in range(self.height):\n",
    "            for j in range(self.width):\n",
    "                if not self.maze[i][j]:\n",
    "                    print('█', end='')\n",
    "                elif (j, i) == self.start:\n",
    "                    print('S', end='')\n",
    "                elif (j, i) == self.end:\n",
    "                    print('E', end='')\n",
    "                elif (j, i) in path_set:\n",
    "                    print('+', end='')\n",
    "                elif (j, i) in result.distance:\n",
    "                    print('.', end='')\n",
    "                else:\n",
    "                    print(' ', end='')\n",
    "            print('')\n",
    "        if result.distance:\n",
    "            print('Cells opened: ', len(result.distance))\n",
    "            if result.path:\n",
    "                print('Path length: ', len(result.path))\n",
    "            else:\n",
    "                print('End is unreacheable from start')"
   ]
  },
  {
   "cell_type": "code",
   "execution_count": 3,
   "id": "f87477ce-8d6c-4a88-babc-9f717c8a6996",
   "metadata": {},
   "outputs": [
    {
     "name": "stdout",
     "output_type": "stream",
     "text": [
      "████████████████████████████████████████████████████████\n",
      "█                                                 █   ██\n",
      "█  ██ ████   █  █████ █████  █  ████   ████ █ █   █ █ ██\n",
      "█ █                   █   █   █       █      S█ █ █ █ ██\n",
      "█   ██ █  ██████ ████ █   ██  ███  █    ██ ███  █ ███ ██\n",
      "█       █    E          █             █         █     ██\n",
      "████████████████████████████████████████████████████████\n"
     ]
    }
   ],
   "source": [
    "m36 = Maze('data/36.txt')\n",
    "m36.display()"
   ]
  },
  {
   "cell_type": "code",
   "execution_count": 4,
   "id": "c09a00fc-ce73-45ae-8af4-96863f861bc4",
   "metadata": {},
   "outputs": [],
   "source": [
    "def make_result(maze:Maze, distance:dict[Node, int], pred:dict[Node, Node]):\n",
    "    path = [maze.end]\n",
    "    while path[-1] != maze.start:\n",
    "        path.append(pred[path[-1]])\n",
    "    return ResultDictionary(distance, path[::-1])"
   ]
  },
  {
   "cell_type": "code",
   "execution_count": 5,
   "id": "b174406a-62b2-4a28-95c5-6f013b120a89",
   "metadata": {},
   "outputs": [],
   "source": [
    "from random import randint\n",
    "\n",
    "def RandomSearch(maze : Maze) -> ResultDictionary:\n",
    "    distance = {maze.start:0}\n",
    "    pred = {maze.start:maze.start}\n",
    "    tovisit = [maze.start]\n",
    "    if maze.start == maze.end:\n",
    "        return ResultDictionary(distance, tovisit)\n",
    "    \n",
    "    while tovisit:\n",
    "        idx = randint(0, len(tovisit) - 1)\n",
    "        tovisit[idx], tovisit[-1] = tovisit[-1], tovisit[idx]\n",
    "        current = tovisit.pop()\n",
    "\n",
    "        for n in maze.neighbors(current):\n",
    "            if n not in distance:\n",
    "                tovisit.append(n)\n",
    "                pred[n] = current\n",
    "                distance[n] = distance[current] + 1\n",
    "                if n == maze.end:\n",
    "                    return make_result(maze,  distance, pred)\n",
    "    return ResultDictionary(distance, [])\n",
    "        "
   ]
  },
  {
   "cell_type": "code",
   "execution_count": 6,
   "id": "43337ce9-ef45-405a-9999-85dfa61336ab",
   "metadata": {},
   "outputs": [
    {
     "name": "stdout",
     "output_type": "stream",
     "text": [
      "████████████████████████████████████████████████████████\n",
      "█      ..............+++++++++++++++++++++++++....█...██\n",
      "█  ██ ████...█..█████+█████..█..████...████.█+█...█.█.██\n",
      "█ █  ...........++++++█...█...█.......█......S█.█.█.█.██\n",
      "█   ██.█..██████+████.█...██..███..█....██.███..█.███.██\n",
      "█       █    E+++.......█.............█.........█.....██\n",
      "████████████████████████████████████████████████████████\n",
      "Cells opened:  166\n",
      "Path length:  39\n"
     ]
    }
   ],
   "source": [
    "rs = RandomSearch(m36)\n",
    "m36.display(rs)"
   ]
  },
  {
   "cell_type": "code",
   "execution_count": 7,
   "id": "e7ff9e7e-518b-4ae6-a3c4-0c3fa9bd8e02",
   "metadata": {},
   "outputs": [],
   "source": [
    "from collections import deque\n",
    "\n",
    "def BFS(maze : Maze) -> ResultDictionary:\n",
    "    distance = {maze.start:0}\n",
    "    pred = {maze.start:maze.start}\n",
    "    tovisit = deque([maze.start])\n",
    "\n",
    "    while tovisit:\n",
    "        current = tovisit.popleft()\n",
    "\n",
    "        for n in maze.neighbors(current):\n",
    "            if n not in distance:\n",
    "                tovisit.append(n)\n",
    "                pred[n] = current\n",
    "                distance[n] = distance[current] + 1\n",
    "                if n == maze.end:\n",
    "                    return make_result(maze,  distance, pred)\n",
    "    return ResultDictionary(distance, [])"
   ]
  },
  {
   "cell_type": "code",
   "execution_count": 8,
   "id": "066efe19-8e6a-4b8d-890c-698d6ca37347",
   "metadata": {},
   "outputs": [
    {
     "name": "stdout",
     "output_type": "stream",
     "text": [
      "████████████████████████████████████████████████████████\n",
      "█           ......................................█...██\n",
      "█  ██ ████   █..█████.█████..█..████...████.█.█...█.█.██\n",
      "█ █           ........█...█...█.......█++++++S█.█.█.█.██\n",
      "█   ██ █  ██████.████.█+++██..███..█++++██.███..█.███.██\n",
      "█       █    E++++++++++█++++++++++++.█.........█.....██\n",
      "████████████████████████████████████████████████████████\n",
      "Cells opened:  146\n",
      "Path length:  37\n"
     ]
    }
   ],
   "source": [
    "bfs = BFS(m36)\n",
    "m36.display(bfs)"
   ]
  },
  {
   "cell_type": "code",
   "execution_count": 9,
   "id": "fca8087e-5d83-4e79-b5b9-58f6c3f122a6",
   "metadata": {},
   "outputs": [],
   "source": [
    "def DFS(maze:Maze) -> ResultDictionary:\n",
    "    distance = {maze.start:0}\n",
    "    pred = {maze.start:maze.start}\n",
    "    stack = [maze.start]\n",
    "\n",
    "    while stack:\n",
    "        current = stack[-1]\n",
    "        do_pop = True\n",
    "\n",
    "        for n in maze.neighbors(current):\n",
    "            if n not in distance:\n",
    "                do_pop = False\n",
    "                stack.append(n)\n",
    "                pred[n] = current\n",
    "                distance[n] = distance[current] + 1\n",
    "                if n == maze.end:\n",
    "                    return make_result(maze,  distance, pred)\n",
    "        if do_pop:\n",
    "            stack.pop()\n",
    "    return ResultDictionary(distance, [])"
   ]
  },
  {
   "cell_type": "code",
   "execution_count": 10,
   "id": "341b9788-87bc-4a48-b801-de38d378cbf2",
   "metadata": {},
   "outputs": [
    {
     "name": "stdout",
     "output_type": "stream",
     "text": [
      "████████████████████████████████████████████████████████\n",
      "█             .+++++++......++++......++++++.+++. █   ██\n",
      "█  ██ ████   █.+█████+█████.+█.+████.++████+█+█+. █ █ ██\n",
      "█ █           .++.  .+█+++█.+.█++++..+█  .++.S█+█ █ █ ██\n",
      "█   ██ █  ██████+████+█+.+██+.███.+█.+. ██+███.+█ ███ ██\n",
      "█       █    E+++....+++█++++.....++++█  .++++++█     ██\n",
      "████████████████████████████████████████████████████████\n",
      "Cells opened:  120\n",
      "Path length:  75\n"
     ]
    }
   ],
   "source": [
    "dfs = DFS(m36)\n",
    "m36.display(dfs)"
   ]
  },
  {
   "cell_type": "code",
   "execution_count": 11,
   "id": "707ea5ca-780a-443b-a45f-5154cdd86bdf",
   "metadata": {},
   "outputs": [],
   "source": [
    "from heapq import heappush, heappop\n",
    "from dataclasses import field\n",
    "from math import sqrt\n",
    "\n",
    "@dataclass(order=True)\n",
    "class PrioritizedNode:\n",
    "    node: Node=field(compare=False)\n",
    "    priority: float|int = 0.0\n",
    "    distance:int=field(compare=False, default=0)\n",
    "    \n",
    "    def __iter__(self):\n",
    "        return iter((self.node, self.distance))\n",
    "\n",
    "def L1_dist(maze : Maze):\n",
    "    def l1(n : Node):\n",
    "        return abs(n[0] - maze.end[0]) + abs(n[1] - maze.end[1])\n",
    "    return l1\n",
    "\n",
    "def L2_dist(maze : Maze):\n",
    "    def l2(n : Node):\n",
    "        return sqrt((n[0] - maze.end[0])**2 + (n[1] - maze.end[1])**2)\n",
    "    return l2\n",
    "\n",
    "def Chebyshev_dist(maze : Maze):\n",
    "    def chebyshev(n : Node):\n",
    "        return max((n[0] - maze.end[0]), abs(n[1] - maze.end[1]))\n",
    "    return chebyshev"
   ]
  },
  {
   "cell_type": "code",
   "execution_count": 12,
   "id": "e58095a9-c2c9-41a7-a139-530fbfaf2a7c",
   "metadata": {},
   "outputs": [],
   "source": [
    "def GreedySearch(maze:Maze, heuristic) -> ResultDictionary:\n",
    "    distance = {maze.start:0}\n",
    "    pred = {maze.start:maze.start}\n",
    "    heap = [PrioritizedNode(maze.start)]\n",
    "\n",
    "    while heap:\n",
    "        current = heappop(heap).node\n",
    "        for n in maze.neighbors(current):\n",
    "            if n not in distance:\n",
    "                pred[n] = current\n",
    "                distance[n] = distance[current] + 1\n",
    "                heappush(heap, PrioritizedNode(n, priority=heuristic(n)))\n",
    "                if n == maze.end:\n",
    "                    return make_result(maze,  distance, pred)\n",
    "    return ResultDictionary(distance, [])"
   ]
  },
  {
   "cell_type": "code",
   "execution_count": 13,
   "id": "0700b29b-fb97-4e5d-a494-f0d5e82726e4",
   "metadata": {},
   "outputs": [
    {
     "name": "stdout",
     "output_type": "stream",
     "text": [
      "████████████████████████████████████████████████████████\n",
      "█             .++++++++++++++++.                  █   ██\n",
      "█  ██ ████...█.+█████.█████..█++████.  ████.█.█   █ █ ██\n",
      "█ █     .+++++++.     █   █   █++++++.█++++++S█ █ █ █ ██\n",
      "█   ██ █.+██████ ████ █   ██  ███..█++++██.███  █ ███ ██\n",
      "█       █++++E          █           ..█.        █     ██\n",
      "████████████████████████████████████████████████████████\n",
      "Cells opened:  71\n",
      "Path length:  49\n"
     ]
    }
   ],
   "source": [
    "gs = GreedySearch(m36, Chebyshev_dist(m36))\n",
    "m36.display(gs)"
   ]
  },
  {
   "cell_type": "code",
   "execution_count": 14,
   "id": "9e189a53-e4a9-4525-b20b-ba5ff884d7fe",
   "metadata": {},
   "outputs": [],
   "source": [
    "def Astar(maze:Maze, heuristic) -> ResultDictionary:\n",
    "    distance = {maze.start:0}\n",
    "    pred = {maze.start:maze.start}\n",
    "    heap = [PrioritizedNode(maze.start)]\n",
    "\n",
    "    while heap:\n",
    "        current, current_distance = heappop(heap)\n",
    "        if current_distance > distance[current]:\n",
    "            continue\n",
    "        for n in maze.neighbors(current):\n",
    "            if n not in distance or distance[n] > distance[current] + 1:\n",
    "                pred[n] = current\n",
    "                distance[n] = distance[current] + 1\n",
    "                heappush(heap, PrioritizedNode(n, distance=distance[n], priority=heuristic(n)+distance[n]))\n",
    "                if n == maze.end:\n",
    "                    return make_result(maze,  distance, pred)\n",
    "    return ResultDictionary(distance, [])"
   ]
  },
  {
   "cell_type": "code",
   "execution_count": 15,
   "id": "26ceca0d-7c67-4cc1-b3ad-ff559abdc967",
   "metadata": {},
   "outputs": [
    {
     "name": "stdout",
     "output_type": "stream",
     "text": [
      "████████████████████████████████████████████████████████\n",
      "█                                          . .    █   ██\n",
      "█  ██ ████   █  █████ █████  █ .████.. ████.█.█   █ █ ██\n",
      "█ █                   █...█ ..█.......█++++++S█ █ █ █ ██\n",
      "█   ██ █  ██████.████.█+++██..███..█++++██.███  █ ███ ██\n",
      "█       █    E++++++++++█++++++++++++.█......   █     ██\n",
      "████████████████████████████████████████████████████████\n",
      "Cells opened:  70\n",
      "Path length:  37\n"
     ]
    }
   ],
   "source": [
    "astar = Astar(m36, L1_dist(m36))\n",
    "m36.display(astar)"
   ]
  },
  {
   "cell_type": "code",
   "execution_count": null,
   "id": "4eebc602-cf82-4934-a733-8def8bb761cb",
   "metadata": {},
   "outputs": [],
   "source": []
  }
 ],
 "metadata": {
  "kernelspec": {
   "display_name": "Python 3 (ipykernel)",
   "language": "python",
   "name": "python3"
  },
  "language_info": {
   "codemirror_mode": {
    "name": "ipython",
    "version": 3
   },
   "file_extension": ".py",
   "mimetype": "text/x-python",
   "name": "python",
   "nbconvert_exporter": "python",
   "pygments_lexer": "ipython3",
   "version": "3.10.16"
  }
 },
 "nbformat": 4,
 "nbformat_minor": 5
}
