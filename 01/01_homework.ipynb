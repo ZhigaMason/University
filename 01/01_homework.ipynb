{
 "cells": [
  {
   "cell_type": "markdown",
   "metadata": {
    "cell_id": "260ab249593a43b7b6e55bb0fef946b3",
    "deepnote_cell_height": 2002,
    "deepnote_cell_type": "markdown",
    "tags": []
   },
   "source": [
    "# Homework 1 - data validation & cleaning (deadline 3. 11. 2024, 23:59)\n",
    "\n",
    "In short, the main task is to clean The Metropolitan Museum of Art Open Access dataset.\n",
    "  \n",
    "> The instructions are not given in detail: It is up to you to come up with ideas on how to fulfill the particular tasks as best as possible!\n",
    "\n",
    "However, we **strongly recommend and require** the following:\n",
    "* Follow the assignment step by step. Number each step.\n",
    "* Most steps contain the number of features that should be treated. You can preprocess more features. However, it does not mean the teacher will give you more points. Focus on quality, not quantity.\n",
    "* Properly comment on all your steps. Use Markdown cells and visualizations. Comments are evaluated for 2 points of the total, together with the final presentation of the solution. However, it is not desirable to write novels! \n",
    "* This task is timewise and computationally intensive. Do not leave it to the last minute.\n",
    "* Hand in a notebook that has already been run (i.e., do not delete outputs before handing in).\n",
    "\n",
    "## What are you supposed to do:\n",
    "\n",
    "  1. Download the dataset MetObjects.csv from the repository https://github.com/metmuseum/openaccess/.\n",
    "  1. Check consistency (i.e., that the same things are represented in the same way) of at least **three features** where you expect problems (including the \"Object Name\" feature). You can propose how to clean the selected features. However, **do not apply cleaning** (in your interest) 🙂 _(1.5 points)_\n",
    "  1. Select at least **two features** (i.e., one couple) where you expect integrity problems (describe your choice) and check the integrity of those features. By integrity, we mean correct logical relations between features (e.g., female names for females only). _(2 points)_\n",
    "  1. Convert at least **five features** to a proper data type. Choose at least one numeric, one categorical (i.e., ordinal or nominal), and one datetime. _(1.5 points)_\n",
    "  1. Find some outliers and describe your method. _(3 points, depends on creativity)_\n",
    "  1. Detect missing data in at least **three features**, convert them to a proper representation (if they are already not), and impute missing values in at least **one feature** using some imputation method (i.e., imputation by mean or median is too trivial to obtain any points). _(2 + 3 points, depends on creativity)_\n",
    "  1. Focus more precisely on cleaning the \"Medium\" feature. As if you were to use it in the KNN classification algorithm later. _(3 points)_\n",
    "  1. Focus on the extraction of the physical dimensions of each item (width, depth, and height in centimeters) from the \"Dimensions\" feature. _(2 points)_\n",
    "  \n",
    "All your steps, your choices of methods, and the following code **must be commented on!** For text comments (discussion, etc., not code comments), use **Markdown cells**. Comments are evaluated for 2 points together with the final presentation of the solution. \n",
    "\n",
    "**If you do all this properly, you will obtain 20 points.**\n",
    "\n",
    "## Comments\n",
    "\n",
    "  * Please follow the technical instructions from https://courses.fit.cvut.cz/NI-PDD/homeworks/index.html.\n",
    "  * Methods that are more complex and were not shown during the tutorials are considered more creative and should be described in detail.\n",
    "  * English is not compulsory."
   ]
  },
  {
   "cell_type": "code",
   "execution_count": 1,
   "metadata": {
    "cell_id": "ed43ace9ad2e47459bd752a214ada334",
    "deepnote_cell_height": 76,
    "deepnote_cell_type": "code",
    "deepnote_to_be_reexecuted": false,
    "execution_millis": 43,
    "execution_start": 1662743365252,
    "source_hash": "9e2da255",
    "tags": []
   },
   "outputs": [],
   "source": [
    "import re\n",
    "import pandas as pd\n",
    "import numpy as np\n",
    "\n",
    "import matplotlib.pyplot as plt\n",
    "import seaborn as sns"
   ]
  },
  {
   "cell_type": "markdown",
   "metadata": {},
   "source": [
    "## 1. Downloading the dataset\n",
    "We will download it via url (hoping it will not change in next two monthes [30.09]). Either way it will be downloaded and read by pandas"
   ]
  },
  {
   "cell_type": "code",
   "execution_count": 2,
   "metadata": {},
   "outputs": [
    {
     "name": "stderr",
     "output_type": "stream",
     "text": [
      "/tmp/ipykernel_8308/2321844807.py:2: DtypeWarning: Columns (5,7,10,11,12,13,14,34,35,36,37,38,39,40,41,42,43,44,45,46) have mixed types. Specify dtype option on import or set low_memory=False.\n",
      "  df = pd.read_csv('MetObjects.csv', index_col='Object ID')\n"
     ]
    },
    {
     "data": {
      "text/html": [
       "<div>\n",
       "<style scoped>\n",
       "    .dataframe tbody tr th:only-of-type {\n",
       "        vertical-align: middle;\n",
       "    }\n",
       "\n",
       "    .dataframe tbody tr th {\n",
       "        vertical-align: top;\n",
       "    }\n",
       "\n",
       "    .dataframe thead th {\n",
       "        text-align: right;\n",
       "    }\n",
       "</style>\n",
       "<table border=\"1\" class=\"dataframe\">\n",
       "  <thead>\n",
       "    <tr style=\"text-align: right;\">\n",
       "      <th></th>\n",
       "      <th>Object Number</th>\n",
       "      <th>Is Highlight</th>\n",
       "      <th>Is Timeline Work</th>\n",
       "      <th>Is Public Domain</th>\n",
       "      <th>Gallery Number</th>\n",
       "      <th>Department</th>\n",
       "      <th>AccessionYear</th>\n",
       "      <th>Object Name</th>\n",
       "      <th>Title</th>\n",
       "      <th>Culture</th>\n",
       "      <th>...</th>\n",
       "      <th>River</th>\n",
       "      <th>Classification</th>\n",
       "      <th>Rights and Reproduction</th>\n",
       "      <th>Link Resource</th>\n",
       "      <th>Object Wikidata URL</th>\n",
       "      <th>Metadata Date</th>\n",
       "      <th>Repository</th>\n",
       "      <th>Tags</th>\n",
       "      <th>Tags AAT URL</th>\n",
       "      <th>Tags Wikidata URL</th>\n",
       "    </tr>\n",
       "    <tr>\n",
       "      <th>Object ID</th>\n",
       "      <th></th>\n",
       "      <th></th>\n",
       "      <th></th>\n",
       "      <th></th>\n",
       "      <th></th>\n",
       "      <th></th>\n",
       "      <th></th>\n",
       "      <th></th>\n",
       "      <th></th>\n",
       "      <th></th>\n",
       "      <th></th>\n",
       "      <th></th>\n",
       "      <th></th>\n",
       "      <th></th>\n",
       "      <th></th>\n",
       "      <th></th>\n",
       "      <th></th>\n",
       "      <th></th>\n",
       "      <th></th>\n",
       "      <th></th>\n",
       "      <th></th>\n",
       "    </tr>\n",
       "  </thead>\n",
       "  <tbody>\n",
       "    <tr>\n",
       "      <th>1</th>\n",
       "      <td>1979.486.1</td>\n",
       "      <td>False</td>\n",
       "      <td>False</td>\n",
       "      <td>False</td>\n",
       "      <td>NaN</td>\n",
       "      <td>The American Wing</td>\n",
       "      <td>1979.0</td>\n",
       "      <td>Coin</td>\n",
       "      <td>One-dollar Liberty Head Coin</td>\n",
       "      <td>NaN</td>\n",
       "      <td>...</td>\n",
       "      <td>NaN</td>\n",
       "      <td>NaN</td>\n",
       "      <td>NaN</td>\n",
       "      <td>http://www.metmuseum.org/art/collection/search/1</td>\n",
       "      <td>NaN</td>\n",
       "      <td>NaN</td>\n",
       "      <td>Metropolitan Museum of Art, New York, NY</td>\n",
       "      <td>NaN</td>\n",
       "      <td>NaN</td>\n",
       "      <td>NaN</td>\n",
       "    </tr>\n",
       "    <tr>\n",
       "      <th>2</th>\n",
       "      <td>1980.264.5</td>\n",
       "      <td>False</td>\n",
       "      <td>False</td>\n",
       "      <td>False</td>\n",
       "      <td>NaN</td>\n",
       "      <td>The American Wing</td>\n",
       "      <td>1980.0</td>\n",
       "      <td>Coin</td>\n",
       "      <td>Ten-dollar Liberty Head Coin</td>\n",
       "      <td>NaN</td>\n",
       "      <td>...</td>\n",
       "      <td>NaN</td>\n",
       "      <td>NaN</td>\n",
       "      <td>NaN</td>\n",
       "      <td>http://www.metmuseum.org/art/collection/search/2</td>\n",
       "      <td>NaN</td>\n",
       "      <td>NaN</td>\n",
       "      <td>Metropolitan Museum of Art, New York, NY</td>\n",
       "      <td>NaN</td>\n",
       "      <td>NaN</td>\n",
       "      <td>NaN</td>\n",
       "    </tr>\n",
       "    <tr>\n",
       "      <th>3</th>\n",
       "      <td>67.265.9</td>\n",
       "      <td>False</td>\n",
       "      <td>False</td>\n",
       "      <td>False</td>\n",
       "      <td>NaN</td>\n",
       "      <td>The American Wing</td>\n",
       "      <td>1967.0</td>\n",
       "      <td>Coin</td>\n",
       "      <td>Two-and-a-Half Dollar Coin</td>\n",
       "      <td>NaN</td>\n",
       "      <td>...</td>\n",
       "      <td>NaN</td>\n",
       "      <td>NaN</td>\n",
       "      <td>NaN</td>\n",
       "      <td>http://www.metmuseum.org/art/collection/search/3</td>\n",
       "      <td>NaN</td>\n",
       "      <td>NaN</td>\n",
       "      <td>Metropolitan Museum of Art, New York, NY</td>\n",
       "      <td>NaN</td>\n",
       "      <td>NaN</td>\n",
       "      <td>NaN</td>\n",
       "    </tr>\n",
       "    <tr>\n",
       "      <th>4</th>\n",
       "      <td>67.265.10</td>\n",
       "      <td>False</td>\n",
       "      <td>False</td>\n",
       "      <td>False</td>\n",
       "      <td>NaN</td>\n",
       "      <td>The American Wing</td>\n",
       "      <td>1967.0</td>\n",
       "      <td>Coin</td>\n",
       "      <td>Two-and-a-Half Dollar Coin</td>\n",
       "      <td>NaN</td>\n",
       "      <td>...</td>\n",
       "      <td>NaN</td>\n",
       "      <td>NaN</td>\n",
       "      <td>NaN</td>\n",
       "      <td>http://www.metmuseum.org/art/collection/search/4</td>\n",
       "      <td>NaN</td>\n",
       "      <td>NaN</td>\n",
       "      <td>Metropolitan Museum of Art, New York, NY</td>\n",
       "      <td>NaN</td>\n",
       "      <td>NaN</td>\n",
       "      <td>NaN</td>\n",
       "    </tr>\n",
       "    <tr>\n",
       "      <th>5</th>\n",
       "      <td>67.265.11</td>\n",
       "      <td>False</td>\n",
       "      <td>False</td>\n",
       "      <td>False</td>\n",
       "      <td>NaN</td>\n",
       "      <td>The American Wing</td>\n",
       "      <td>1967.0</td>\n",
       "      <td>Coin</td>\n",
       "      <td>Two-and-a-Half Dollar Coin</td>\n",
       "      <td>NaN</td>\n",
       "      <td>...</td>\n",
       "      <td>NaN</td>\n",
       "      <td>NaN</td>\n",
       "      <td>NaN</td>\n",
       "      <td>http://www.metmuseum.org/art/collection/search/5</td>\n",
       "      <td>NaN</td>\n",
       "      <td>NaN</td>\n",
       "      <td>Metropolitan Museum of Art, New York, NY</td>\n",
       "      <td>NaN</td>\n",
       "      <td>NaN</td>\n",
       "      <td>NaN</td>\n",
       "    </tr>\n",
       "  </tbody>\n",
       "</table>\n",
       "<p>5 rows × 53 columns</p>\n",
       "</div>"
      ],
      "text/plain": [
       "          Object Number  Is Highlight  Is Timeline Work  Is Public Domain  \\\n",
       "Object ID                                                                   \n",
       "1            1979.486.1         False             False             False   \n",
       "2            1980.264.5         False             False             False   \n",
       "3              67.265.9         False             False             False   \n",
       "4             67.265.10         False             False             False   \n",
       "5             67.265.11         False             False             False   \n",
       "\n",
       "          Gallery Number         Department AccessionYear Object Name  \\\n",
       "Object ID                                                               \n",
       "1                    NaN  The American Wing        1979.0        Coin   \n",
       "2                    NaN  The American Wing        1980.0        Coin   \n",
       "3                    NaN  The American Wing        1967.0        Coin   \n",
       "4                    NaN  The American Wing        1967.0        Coin   \n",
       "5                    NaN  The American Wing        1967.0        Coin   \n",
       "\n",
       "                                  Title Culture  ... River Classification  \\\n",
       "Object ID                                        ...                        \n",
       "1          One-dollar Liberty Head Coin     NaN  ...   NaN            NaN   \n",
       "2          Ten-dollar Liberty Head Coin     NaN  ...   NaN            NaN   \n",
       "3            Two-and-a-Half Dollar Coin     NaN  ...   NaN            NaN   \n",
       "4            Two-and-a-Half Dollar Coin     NaN  ...   NaN            NaN   \n",
       "5            Two-and-a-Half Dollar Coin     NaN  ...   NaN            NaN   \n",
       "\n",
       "          Rights and Reproduction  \\\n",
       "Object ID                           \n",
       "1                             NaN   \n",
       "2                             NaN   \n",
       "3                             NaN   \n",
       "4                             NaN   \n",
       "5                             NaN   \n",
       "\n",
       "                                              Link Resource  \\\n",
       "Object ID                                                     \n",
       "1          http://www.metmuseum.org/art/collection/search/1   \n",
       "2          http://www.metmuseum.org/art/collection/search/2   \n",
       "3          http://www.metmuseum.org/art/collection/search/3   \n",
       "4          http://www.metmuseum.org/art/collection/search/4   \n",
       "5          http://www.metmuseum.org/art/collection/search/5   \n",
       "\n",
       "          Object Wikidata URL Metadata Date  \\\n",
       "Object ID                                     \n",
       "1                         NaN           NaN   \n",
       "2                         NaN           NaN   \n",
       "3                         NaN           NaN   \n",
       "4                         NaN           NaN   \n",
       "5                         NaN           NaN   \n",
       "\n",
       "                                         Repository Tags Tags AAT URL  \\\n",
       "Object ID                                                               \n",
       "1          Metropolitan Museum of Art, New York, NY  NaN          NaN   \n",
       "2          Metropolitan Museum of Art, New York, NY  NaN          NaN   \n",
       "3          Metropolitan Museum of Art, New York, NY  NaN          NaN   \n",
       "4          Metropolitan Museum of Art, New York, NY  NaN          NaN   \n",
       "5          Metropolitan Museum of Art, New York, NY  NaN          NaN   \n",
       "\n",
       "          Tags Wikidata URL  \n",
       "Object ID                    \n",
       "1                       NaN  \n",
       "2                       NaN  \n",
       "3                       NaN  \n",
       "4                       NaN  \n",
       "5                       NaN  \n",
       "\n",
       "[5 rows x 53 columns]"
      ]
     },
     "execution_count": 2,
     "metadata": {},
     "output_type": "execute_result"
    }
   ],
   "source": [
    "# url = 'https://github.com/metmuseum/openaccess/raw/refs/heads/master/MetObjects.csv?download='\n",
    "df = pd.read_csv('MetObjects.csv', index_col='Object ID')\n",
    "df.head()"
   ]
  },
  {
   "cell_type": "code",
   "execution_count": 3,
   "metadata": {
    "scrolled": true
   },
   "outputs": [
    {
     "name": "stdout",
     "output_type": "stream",
     "text": [
      "<class 'pandas.core.frame.DataFrame'>\n",
      "Index: 484956 entries, 1 to 900748\n",
      "Data columns (total 53 columns):\n",
      " #   Column                   Non-Null Count   Dtype  \n",
      "---  ------                   --------------   -----  \n",
      " 0   Object Number            484956 non-null  object \n",
      " 1   Is Highlight             484956 non-null  bool   \n",
      " 2   Is Timeline Work         484956 non-null  bool   \n",
      " 3   Is Public Domain         484956 non-null  bool   \n",
      " 4   Gallery Number           49541 non-null   object \n",
      " 5   Department               484956 non-null  object \n",
      " 6   AccessionYear            481094 non-null  object \n",
      " 7   Object Name              482690 non-null  object \n",
      " 8   Title                    456153 non-null  object \n",
      " 9   Culture                  208190 non-null  object \n",
      " 10  Period                   91143 non-null   object \n",
      " 11  Dynasty                  23201 non-null   object \n",
      " 12  Reign                    11236 non-null   object \n",
      " 13  Portfolio                26514 non-null   object \n",
      " 14  Constituent ID           282513 non-null  object \n",
      " 15  Artist Role              282513 non-null  object \n",
      " 16  Artist Prefix            282513 non-null  object \n",
      " 17  Artist Display Name      282513 non-null  object \n",
      " 18  Artist Display Bio       280423 non-null  object \n",
      " 19  Artist Suffix            282465 non-null  object \n",
      " 20  Artist Alpha Sort        282513 non-null  object \n",
      " 21  Artist Nationality       282513 non-null  object \n",
      " 22  Artist Begin Date        282513 non-null  object \n",
      " 23  Artist End Date          282513 non-null  object \n",
      " 24  Artist Gender            106482 non-null  object \n",
      " 25  Artist ULAN URL          227441 non-null  object \n",
      " 26  Artist Wikidata URL      224202 non-null  object \n",
      " 27  Object Date              471525 non-null  object \n",
      " 28  Object Begin Date        484956 non-null  int64  \n",
      " 29  Object End Date          484956 non-null  int64  \n",
      " 30  Medium                   477741 non-null  object \n",
      " 31  Dimensions               409898 non-null  object \n",
      " 32  Credit Line              484305 non-null  object \n",
      " 33  Geography Type           59959 non-null   object \n",
      " 34  City                     32754 non-null   object \n",
      " 35  State                    2621 non-null    object \n",
      " 36  County                   8559 non-null    object \n",
      " 37  Country                  76007 non-null   object \n",
      " 38  Region                   31500 non-null   object \n",
      " 39  Subregion                22143 non-null   object \n",
      " 40  Locale                   15739 non-null   object \n",
      " 41  Locus                    7518 non-null    object \n",
      " 42  Excavation               16571 non-null   object \n",
      " 43  River                    2092 non-null    object \n",
      " 44  Classification           406239 non-null  object \n",
      " 45  Rights and Reproduction  24529 non-null   object \n",
      " 46  Link Resource            484956 non-null  object \n",
      " 47  Object Wikidata URL      69154 non-null   object \n",
      " 48  Metadata Date            0 non-null       float64\n",
      " 49  Repository               484956 non-null  object \n",
      " 50  Tags                     192455 non-null  object \n",
      " 51  Tags AAT URL             192455 non-null  object \n",
      " 52  Tags Wikidata URL        192455 non-null  object \n",
      "dtypes: bool(3), float64(1), int64(2), object(47)\n",
      "memory usage: 190.1+ MB\n"
     ]
    }
   ],
   "source": [
    "df.info()"
   ]
  },
  {
   "cell_type": "code",
   "execution_count": 4,
   "metadata": {},
   "outputs": [
    {
     "data": {
      "text/html": [
       "<div>\n",
       "<style scoped>\n",
       "    .dataframe tbody tr th:only-of-type {\n",
       "        vertical-align: middle;\n",
       "    }\n",
       "\n",
       "    .dataframe tbody tr th {\n",
       "        vertical-align: top;\n",
       "    }\n",
       "\n",
       "    .dataframe thead th {\n",
       "        text-align: right;\n",
       "    }\n",
       "</style>\n",
       "<table border=\"1\" class=\"dataframe\">\n",
       "  <thead>\n",
       "    <tr style=\"text-align: right;\">\n",
       "      <th></th>\n",
       "      <th>count</th>\n",
       "      <th>unique</th>\n",
       "      <th>top</th>\n",
       "      <th>freq</th>\n",
       "    </tr>\n",
       "  </thead>\n",
       "  <tbody>\n",
       "    <tr>\n",
       "      <th>Object Number</th>\n",
       "      <td>484956</td>\n",
       "      <td>481656</td>\n",
       "      <td>62.635</td>\n",
       "      <td>4</td>\n",
       "    </tr>\n",
       "    <tr>\n",
       "      <th>Gallery Number</th>\n",
       "      <td>49541</td>\n",
       "      <td>563</td>\n",
       "      <td>774</td>\n",
       "      <td>7037</td>\n",
       "    </tr>\n",
       "    <tr>\n",
       "      <th>Department</th>\n",
       "      <td>484956</td>\n",
       "      <td>19</td>\n",
       "      <td>Drawings and Prints</td>\n",
       "      <td>172630</td>\n",
       "    </tr>\n",
       "    <tr>\n",
       "      <th>AccessionYear</th>\n",
       "      <td>481094.0</td>\n",
       "      <td>316.0</td>\n",
       "      <td>1963.0</td>\n",
       "      <td>39846.0</td>\n",
       "    </tr>\n",
       "    <tr>\n",
       "      <th>Object Name</th>\n",
       "      <td>482690</td>\n",
       "      <td>28631</td>\n",
       "      <td>Print</td>\n",
       "      <td>102986</td>\n",
       "    </tr>\n",
       "    <tr>\n",
       "      <th>Title</th>\n",
       "      <td>456153</td>\n",
       "      <td>245800</td>\n",
       "      <td>Terracotta fragment of a kylix (drinking cup)</td>\n",
       "      <td>6415</td>\n",
       "    </tr>\n",
       "    <tr>\n",
       "      <th>Culture</th>\n",
       "      <td>208190</td>\n",
       "      <td>7313</td>\n",
       "      <td>American</td>\n",
       "      <td>28579</td>\n",
       "    </tr>\n",
       "    <tr>\n",
       "      <th>Period</th>\n",
       "      <td>91143</td>\n",
       "      <td>1891</td>\n",
       "      <td>Edo period (1615–1868)</td>\n",
       "      <td>9127</td>\n",
       "    </tr>\n",
       "    <tr>\n",
       "      <th>Dynasty</th>\n",
       "      <td>23201</td>\n",
       "      <td>405</td>\n",
       "      <td>Dynasty 18</td>\n",
       "      <td>7184</td>\n",
       "    </tr>\n",
       "    <tr>\n",
       "      <th>Reign</th>\n",
       "      <td>11236</td>\n",
       "      <td>396</td>\n",
       "      <td>reign of Amenhotep III</td>\n",
       "      <td>2750</td>\n",
       "    </tr>\n",
       "    <tr>\n",
       "      <th>Portfolio</th>\n",
       "      <td>26514</td>\n",
       "      <td>3959</td>\n",
       "      <td>Les Images De Tous Les Saincts et Saintes de L...</td>\n",
       "      <td>601</td>\n",
       "    </tr>\n",
       "    <tr>\n",
       "      <th>Constituent ID</th>\n",
       "      <td>282513</td>\n",
       "      <td>48365</td>\n",
       "      <td>16186</td>\n",
       "      <td>8585</td>\n",
       "    </tr>\n",
       "    <tr>\n",
       "      <th>Artist Role</th>\n",
       "      <td>282513</td>\n",
       "      <td>7118</td>\n",
       "      <td>Artist</td>\n",
       "      <td>116556</td>\n",
       "    </tr>\n",
       "    <tr>\n",
       "      <th>Artist Prefix</th>\n",
       "      <td>282513</td>\n",
       "      <td>8154</td>\n",
       "      <td></td>\n",
       "      <td>146672</td>\n",
       "    </tr>\n",
       "    <tr>\n",
       "      <th>Artist Display Name</th>\n",
       "      <td>282513</td>\n",
       "      <td>66949</td>\n",
       "      <td>Walker Evans</td>\n",
       "      <td>7555</td>\n",
       "    </tr>\n",
       "    <tr>\n",
       "      <th>Artist Display Bio</th>\n",
       "      <td>280423</td>\n",
       "      <td>54658</td>\n",
       "      <td></td>\n",
       "      <td>35167</td>\n",
       "    </tr>\n",
       "    <tr>\n",
       "      <th>Artist Suffix</th>\n",
       "      <td>282465</td>\n",
       "      <td>2751</td>\n",
       "      <td></td>\n",
       "      <td>180566</td>\n",
       "    </tr>\n",
       "    <tr>\n",
       "      <th>Artist Alpha Sort</th>\n",
       "      <td>282513</td>\n",
       "      <td>66887</td>\n",
       "      <td>Evans, Walker</td>\n",
       "      <td>7555</td>\n",
       "    </tr>\n",
       "    <tr>\n",
       "      <th>Artist Nationality</th>\n",
       "      <td>282513</td>\n",
       "      <td>6945</td>\n",
       "      <td>American</td>\n",
       "      <td>69831</td>\n",
       "    </tr>\n",
       "    <tr>\n",
       "      <th>Artist Begin Date</th>\n",
       "      <td>282513</td>\n",
       "      <td>31231</td>\n",
       "      <td></td>\n",
       "      <td>32442</td>\n",
       "    </tr>\n",
       "    <tr>\n",
       "      <th>Artist End Date</th>\n",
       "      <td>282513</td>\n",
       "      <td>30864</td>\n",
       "      <td></td>\n",
       "      <td>32510</td>\n",
       "    </tr>\n",
       "    <tr>\n",
       "      <th>Artist Gender</th>\n",
       "      <td>106482</td>\n",
       "      <td>290</td>\n",
       "      <td>|</td>\n",
       "      <td>58718</td>\n",
       "    </tr>\n",
       "    <tr>\n",
       "      <th>Artist ULAN URL</th>\n",
       "      <td>227441</td>\n",
       "      <td>38477</td>\n",
       "      <td>(not assigned)</td>\n",
       "      <td>17545</td>\n",
       "    </tr>\n",
       "    <tr>\n",
       "      <th>Artist Wikidata URL</th>\n",
       "      <td>224202</td>\n",
       "      <td>40972</td>\n",
       "      <td>|</td>\n",
       "      <td>8805</td>\n",
       "    </tr>\n",
       "    <tr>\n",
       "      <th>Object Date</th>\n",
       "      <td>471525</td>\n",
       "      <td>33197</td>\n",
       "      <td>19th century</td>\n",
       "      <td>17168</td>\n",
       "    </tr>\n",
       "    <tr>\n",
       "      <th>Medium</th>\n",
       "      <td>477741</td>\n",
       "      <td>65907</td>\n",
       "      <td>Terracotta</td>\n",
       "      <td>23514</td>\n",
       "    </tr>\n",
       "    <tr>\n",
       "      <th>Dimensions</th>\n",
       "      <td>409898</td>\n",
       "      <td>264986</td>\n",
       "      <td>sheet: 2 11/16 x 1 3/8 in. (6.9 x 3.5 cm)</td>\n",
       "      <td>2297</td>\n",
       "    </tr>\n",
       "    <tr>\n",
       "      <th>Credit Line</th>\n",
       "      <td>484305</td>\n",
       "      <td>35797</td>\n",
       "      <td>The Jefferson R. Burdick Collection, Gift of J...</td>\n",
       "      <td>38736</td>\n",
       "    </tr>\n",
       "    <tr>\n",
       "      <th>Geography Type</th>\n",
       "      <td>59959</td>\n",
       "      <td>118</td>\n",
       "      <td>From</td>\n",
       "      <td>26755</td>\n",
       "    </tr>\n",
       "    <tr>\n",
       "      <th>City</th>\n",
       "      <td>32754</td>\n",
       "      <td>2622</td>\n",
       "      <td>Paris</td>\n",
       "      <td>4658</td>\n",
       "    </tr>\n",
       "    <tr>\n",
       "      <th>State</th>\n",
       "      <td>2621</td>\n",
       "      <td>108</td>\n",
       "      <td>|</td>\n",
       "      <td>1589</td>\n",
       "    </tr>\n",
       "    <tr>\n",
       "      <th>County</th>\n",
       "      <td>8559</td>\n",
       "      <td>1105</td>\n",
       "      <td>Kharga Oasis</td>\n",
       "      <td>890</td>\n",
       "    </tr>\n",
       "    <tr>\n",
       "      <th>Country</th>\n",
       "      <td>76007</td>\n",
       "      <td>967</td>\n",
       "      <td>Egypt</td>\n",
       "      <td>31296</td>\n",
       "    </tr>\n",
       "    <tr>\n",
       "      <th>Region</th>\n",
       "      <td>31500</td>\n",
       "      <td>740</td>\n",
       "      <td>Upper Egypt, Thebes</td>\n",
       "      <td>11421</td>\n",
       "    </tr>\n",
       "    <tr>\n",
       "      <th>Subregion</th>\n",
       "      <td>22143</td>\n",
       "      <td>371</td>\n",
       "      <td>Lisht North</td>\n",
       "      <td>3026</td>\n",
       "    </tr>\n",
       "    <tr>\n",
       "      <th>Locale</th>\n",
       "      <td>15739</td>\n",
       "      <td>876</td>\n",
       "      <td>Cemetery</td>\n",
       "      <td>1916</td>\n",
       "    </tr>\n",
       "    <tr>\n",
       "      <th>Locus</th>\n",
       "      <td>7518</td>\n",
       "      <td>1396</td>\n",
       "      <td>debris</td>\n",
       "      <td>417</td>\n",
       "    </tr>\n",
       "    <tr>\n",
       "      <th>Excavation</th>\n",
       "      <td>16571</td>\n",
       "      <td>411</td>\n",
       "      <td>MMA excavations</td>\n",
       "      <td>2455</td>\n",
       "    </tr>\n",
       "    <tr>\n",
       "      <th>River</th>\n",
       "      <td>2092</td>\n",
       "      <td>228</td>\n",
       "      <td>Upper Sepik River</td>\n",
       "      <td>362</td>\n",
       "    </tr>\n",
       "    <tr>\n",
       "      <th>Classification</th>\n",
       "      <td>406239</td>\n",
       "      <td>1244</td>\n",
       "      <td>Prints</td>\n",
       "      <td>84326</td>\n",
       "    </tr>\n",
       "    <tr>\n",
       "      <th>Rights and Reproduction</th>\n",
       "      <td>24529</td>\n",
       "      <td>1507</td>\n",
       "      <td>© Walker Evans Archive, The Metropolitan Museu...</td>\n",
       "      <td>7364</td>\n",
       "    </tr>\n",
       "    <tr>\n",
       "      <th>Link Resource</th>\n",
       "      <td>484956</td>\n",
       "      <td>484956</td>\n",
       "      <td>http://www.metmuseum.org/art/collection/search...</td>\n",
       "      <td>1</td>\n",
       "    </tr>\n",
       "    <tr>\n",
       "      <th>Object Wikidata URL</th>\n",
       "      <td>69154</td>\n",
       "      <td>69076</td>\n",
       "      <td>https://www.wikidata.org/wiki/Q97732991</td>\n",
       "      <td>17</td>\n",
       "    </tr>\n",
       "    <tr>\n",
       "      <th>Repository</th>\n",
       "      <td>484956</td>\n",
       "      <td>1</td>\n",
       "      <td>Metropolitan Museum of Art, New York, NY</td>\n",
       "      <td>484956</td>\n",
       "    </tr>\n",
       "    <tr>\n",
       "      <th>Tags</th>\n",
       "      <td>192455</td>\n",
       "      <td>44171</td>\n",
       "      <td>Flowers</td>\n",
       "      <td>8543</td>\n",
       "    </tr>\n",
       "    <tr>\n",
       "      <th>Tags AAT URL</th>\n",
       "      <td>192455</td>\n",
       "      <td>43699</td>\n",
       "      <td>http://vocab.getty.edu/page/aat/300132399</td>\n",
       "      <td>8543</td>\n",
       "    </tr>\n",
       "    <tr>\n",
       "      <th>Tags Wikidata URL</th>\n",
       "      <td>192455</td>\n",
       "      <td>43886</td>\n",
       "      <td>https://www.wikidata.org/wiki/Q506</td>\n",
       "      <td>8543</td>\n",
       "    </tr>\n",
       "  </tbody>\n",
       "</table>\n",
       "</div>"
      ],
      "text/plain": [
       "                            count  unique  \\\n",
       "Object Number              484956  481656   \n",
       "Gallery Number              49541     563   \n",
       "Department                 484956      19   \n",
       "AccessionYear            481094.0   316.0   \n",
       "Object Name                482690   28631   \n",
       "Title                      456153  245800   \n",
       "Culture                    208190    7313   \n",
       "Period                      91143    1891   \n",
       "Dynasty                     23201     405   \n",
       "Reign                       11236     396   \n",
       "Portfolio                   26514    3959   \n",
       "Constituent ID             282513   48365   \n",
       "Artist Role                282513    7118   \n",
       "Artist Prefix              282513    8154   \n",
       "Artist Display Name        282513   66949   \n",
       "Artist Display Bio         280423   54658   \n",
       "Artist Suffix              282465    2751   \n",
       "Artist Alpha Sort          282513   66887   \n",
       "Artist Nationality         282513    6945   \n",
       "Artist Begin Date          282513   31231   \n",
       "Artist End Date            282513   30864   \n",
       "Artist Gender              106482     290   \n",
       "Artist ULAN URL            227441   38477   \n",
       "Artist Wikidata URL        224202   40972   \n",
       "Object Date                471525   33197   \n",
       "Medium                     477741   65907   \n",
       "Dimensions                 409898  264986   \n",
       "Credit Line                484305   35797   \n",
       "Geography Type              59959     118   \n",
       "City                        32754    2622   \n",
       "State                        2621     108   \n",
       "County                       8559    1105   \n",
       "Country                     76007     967   \n",
       "Region                      31500     740   \n",
       "Subregion                   22143     371   \n",
       "Locale                      15739     876   \n",
       "Locus                        7518    1396   \n",
       "Excavation                  16571     411   \n",
       "River                        2092     228   \n",
       "Classification             406239    1244   \n",
       "Rights and Reproduction     24529    1507   \n",
       "Link Resource              484956  484956   \n",
       "Object Wikidata URL         69154   69076   \n",
       "Repository                 484956       1   \n",
       "Tags                       192455   44171   \n",
       "Tags AAT URL               192455   43699   \n",
       "Tags Wikidata URL          192455   43886   \n",
       "\n",
       "                                                                       top  \\\n",
       "Object Number                                                       62.635   \n",
       "Gallery Number                                                         774   \n",
       "Department                                             Drawings and Prints   \n",
       "AccessionYear                                                       1963.0   \n",
       "Object Name                                                          Print   \n",
       "Title                        Terracotta fragment of a kylix (drinking cup)   \n",
       "Culture                                                           American   \n",
       "Period                                              Edo period (1615–1868)   \n",
       "Dynasty                                                         Dynasty 18   \n",
       "Reign                                               reign of Amenhotep III   \n",
       "Portfolio                Les Images De Tous Les Saincts et Saintes de L...   \n",
       "Constituent ID                                                       16186   \n",
       "Artist Role                                                         Artist   \n",
       "Artist Prefix                                                                \n",
       "Artist Display Name                                           Walker Evans   \n",
       "Artist Display Bio                                                           \n",
       "Artist Suffix                                                                \n",
       "Artist Alpha Sort                                            Evans, Walker   \n",
       "Artist Nationality                                                American   \n",
       "Artist Begin Date                                                            \n",
       "Artist End Date                                                              \n",
       "Artist Gender                                                            |   \n",
       "Artist ULAN URL                                             (not assigned)   \n",
       "Artist Wikidata URL                                                      |   \n",
       "Object Date                                                   19th century   \n",
       "Medium                                                          Terracotta   \n",
       "Dimensions                       sheet: 2 11/16 x 1 3/8 in. (6.9 x 3.5 cm)   \n",
       "Credit Line              The Jefferson R. Burdick Collection, Gift of J...   \n",
       "Geography Type                                                        From   \n",
       "City                                                                 Paris   \n",
       "State                                                                    |   \n",
       "County                                                        Kharga Oasis   \n",
       "Country                                                              Egypt   \n",
       "Region                                                 Upper Egypt, Thebes   \n",
       "Subregion                                                      Lisht North   \n",
       "Locale                                                            Cemetery   \n",
       "Locus                                                               debris   \n",
       "Excavation                                                 MMA excavations   \n",
       "River                                                    Upper Sepik River   \n",
       "Classification                                                      Prints   \n",
       "Rights and Reproduction  © Walker Evans Archive, The Metropolitan Museu...   \n",
       "Link Resource            http://www.metmuseum.org/art/collection/search...   \n",
       "Object Wikidata URL                https://www.wikidata.org/wiki/Q97732991   \n",
       "Repository                        Metropolitan Museum of Art, New York, NY   \n",
       "Tags                                                               Flowers   \n",
       "Tags AAT URL                     http://vocab.getty.edu/page/aat/300132399   \n",
       "Tags Wikidata URL                       https://www.wikidata.org/wiki/Q506   \n",
       "\n",
       "                            freq  \n",
       "Object Number                  4  \n",
       "Gallery Number              7037  \n",
       "Department                172630  \n",
       "AccessionYear            39846.0  \n",
       "Object Name               102986  \n",
       "Title                       6415  \n",
       "Culture                    28579  \n",
       "Period                      9127  \n",
       "Dynasty                     7184  \n",
       "Reign                       2750  \n",
       "Portfolio                    601  \n",
       "Constituent ID              8585  \n",
       "Artist Role               116556  \n",
       "Artist Prefix             146672  \n",
       "Artist Display Name         7555  \n",
       "Artist Display Bio         35167  \n",
       "Artist Suffix             180566  \n",
       "Artist Alpha Sort           7555  \n",
       "Artist Nationality         69831  \n",
       "Artist Begin Date          32442  \n",
       "Artist End Date            32510  \n",
       "Artist Gender              58718  \n",
       "Artist ULAN URL            17545  \n",
       "Artist Wikidata URL         8805  \n",
       "Object Date                17168  \n",
       "Medium                     23514  \n",
       "Dimensions                  2297  \n",
       "Credit Line                38736  \n",
       "Geography Type             26755  \n",
       "City                        4658  \n",
       "State                       1589  \n",
       "County                       890  \n",
       "Country                    31296  \n",
       "Region                     11421  \n",
       "Subregion                   3026  \n",
       "Locale                      1916  \n",
       "Locus                        417  \n",
       "Excavation                  2455  \n",
       "River                        362  \n",
       "Classification             84326  \n",
       "Rights and Reproduction     7364  \n",
       "Link Resource                  1  \n",
       "Object Wikidata URL           17  \n",
       "Repository                484956  \n",
       "Tags                        8543  \n",
       "Tags AAT URL                8543  \n",
       "Tags Wikidata URL           8543  "
      ]
     },
     "metadata": {},
     "output_type": "display_data"
    },
    {
     "data": {
      "text/html": [
       "<div>\n",
       "<style scoped>\n",
       "    .dataframe tbody tr th:only-of-type {\n",
       "        vertical-align: middle;\n",
       "    }\n",
       "\n",
       "    .dataframe tbody tr th {\n",
       "        vertical-align: top;\n",
       "    }\n",
       "\n",
       "    .dataframe thead th {\n",
       "        text-align: right;\n",
       "    }\n",
       "</style>\n",
       "<table border=\"1\" class=\"dataframe\">\n",
       "  <thead>\n",
       "    <tr style=\"text-align: right;\">\n",
       "      <th></th>\n",
       "      <th>count</th>\n",
       "      <th>mean</th>\n",
       "      <th>std</th>\n",
       "      <th>min</th>\n",
       "      <th>25%</th>\n",
       "      <th>50%</th>\n",
       "      <th>75%</th>\n",
       "      <th>max</th>\n",
       "    </tr>\n",
       "  </thead>\n",
       "  <tbody>\n",
       "    <tr>\n",
       "      <th>Object Begin Date</th>\n",
       "      <td>484956.0</td>\n",
       "      <td>1303.913734</td>\n",
       "      <td>1710.259182</td>\n",
       "      <td>-400000.0</td>\n",
       "      <td>1535.0</td>\n",
       "      <td>1800.0</td>\n",
       "      <td>1891.0</td>\n",
       "      <td>5000.0</td>\n",
       "    </tr>\n",
       "    <tr>\n",
       "      <th>Object End Date</th>\n",
       "      <td>484956.0</td>\n",
       "      <td>1402.978142</td>\n",
       "      <td>1132.101347</td>\n",
       "      <td>-240000.0</td>\n",
       "      <td>1593.0</td>\n",
       "      <td>1840.0</td>\n",
       "      <td>1905.0</td>\n",
       "      <td>2870.0</td>\n",
       "    </tr>\n",
       "    <tr>\n",
       "      <th>Metadata Date</th>\n",
       "      <td>0.0</td>\n",
       "      <td>NaN</td>\n",
       "      <td>NaN</td>\n",
       "      <td>NaN</td>\n",
       "      <td>NaN</td>\n",
       "      <td>NaN</td>\n",
       "      <td>NaN</td>\n",
       "      <td>NaN</td>\n",
       "    </tr>\n",
       "  </tbody>\n",
       "</table>\n",
       "</div>"
      ],
      "text/plain": [
       "                      count         mean          std       min     25%  \\\n",
       "Object Begin Date  484956.0  1303.913734  1710.259182 -400000.0  1535.0   \n",
       "Object End Date    484956.0  1402.978142  1132.101347 -240000.0  1593.0   \n",
       "Metadata Date           0.0          NaN          NaN       NaN     NaN   \n",
       "\n",
       "                      50%     75%     max  \n",
       "Object Begin Date  1800.0  1891.0  5000.0  \n",
       "Object End Date    1840.0  1905.0  2870.0  \n",
       "Metadata Date         NaN     NaN     NaN  "
      ]
     },
     "metadata": {},
     "output_type": "display_data"
    }
   ],
   "source": [
    "display(df.select_dtypes(include=object).describe().T)\n",
    "display(df.select_dtypes(exclude=object).describe().T)"
   ]
  },
  {
   "cell_type": "markdown",
   "metadata": {},
   "source": [
    "## 2. Checking consistency"
   ]
  },
  {
   "cell_type": "markdown",
   "metadata": {},
   "source": [
    "### Object Name column\n",
    "Lets check for less frequent names."
   ]
  },
  {
   "cell_type": "code",
   "execution_count": 5,
   "metadata": {},
   "outputs": [
    {
     "data": {
      "text/plain": [
       "Object Name\n",
       "Academicien's Habit                        1\n",
       "Coat Dress                                 1\n",
       "Print; portfolio                           1\n",
       "Album\\r\\nPrints                            1\n",
       "Contrabass saxophone in E flat             1\n",
       "La Mort du Cygne Grand Piano               1\n",
       "Mark for a mail shirt                      1\n",
       "Valentine maker's album (Jonathan King)    1\n",
       "Tops                                       1\n",
       "Frock Coat                                 1\n",
       "Toy musket                                 1\n",
       "Ten wootz steel ingots with bag            1\n",
       "Helmet (<i>Top</i>)                        1\n",
       "Armor of mail                              1\n",
       "Spearhead (<i>Sang</i>)                    1\n",
       "Name: count, dtype: int64"
      ]
     },
     "execution_count": 5,
     "metadata": {},
     "output_type": "execute_result"
    }
   ],
   "source": [
    "col_count = df['Object Name'].value_counts()\n",
    "col_count.tail(15)"
   ]
  },
  {
   "cell_type": "markdown",
   "metadata": {},
   "source": [
    "There appears to be names with html tags, additional white characters and semicolons as separators. Lets check if there are others \"Album print\", \"Print portfolio\" and \"Helmet (Top)\"."
   ]
  },
  {
   "cell_type": "code",
   "execution_count": 6,
   "metadata": {},
   "outputs": [
    {
     "name": "stdout",
     "output_type": "stream",
     "text": [
      "'Album print' occurs            11 times\n",
      "'Print portfolio' occurs         2 times\n",
      "'Helmet (Top)' occurs            0 times\n"
     ]
    }
   ],
   "source": [
    "for name in [\"Album print\", \"Print portfolio\", \"Helmet (Top)\"]:\n",
    "    print(f\"\\'{name+'\\' occurs': <30} {col_count.get(name, 0):>2} times\")"
   ]
  },
  {
   "cell_type": "markdown",
   "metadata": {},
   "source": [
    "As we see there are many other \"Album prints\" and \"portfolios\", so I would suggest to turn any sequence of white chars into a space, strip html tags and remove characters that are not letters or apostrophe."
   ]
  },
  {
   "cell_type": "markdown",
   "metadata": {},
   "source": [
    "### Tags\n",
    "\n",
    "We would expect problems with 'Tags' columns, because it contains strings representing collection of tags, so swapping tags should not change the meaning, but representation would be different.\n",
    "\n",
    "Let's check if there are any tags that are the same up to order of items."
   ]
  },
  {
   "cell_type": "code",
   "execution_count": 7,
   "metadata": {},
   "outputs": [],
   "source": [
    "col_tags = df['Tags'].dropna().str.split('|')"
   ]
  },
  {
   "cell_type": "markdown",
   "metadata": {},
   "source": [
    "We will only with pairs of tags due to enormous number of samples"
   ]
  },
  {
   "cell_type": "code",
   "execution_count": 8,
   "metadata": {},
   "outputs": [
    {
     "data": {
      "text/plain": [
       "Object ID\n",
       "7           Birds|Coins\n",
       "34     Landscapes|Boats\n",
       "205       Factories|Men\n",
       "211           Lions|Men\n",
       "283        Birds|Plants\n",
       "Name: Tags, dtype: object"
      ]
     },
     "metadata": {},
     "output_type": "display_data"
    }
   ],
   "source": [
    "col_tags_2 = df.loc[col_tags.loc[col_tags.apply(len) == 2].index, 'Tags']\n",
    "display(col_tags_2.head())"
   ]
  },
  {
   "cell_type": "markdown",
   "metadata": {},
   "source": [
    "Through trial and error we were able to find, that there are tags with \"Men|Women\" and \"Women|Men\"."
   ]
  },
  {
   "cell_type": "code",
   "execution_count": 9,
   "metadata": {},
   "outputs": [
    {
     "data": {
      "text/plain": [
       "Tags\n",
       "Men|Women    1973\n",
       "Women|Men      62\n",
       "Name: count, dtype: int64"
      ]
     },
     "execution_count": 9,
     "metadata": {},
     "output_type": "execute_result"
    }
   ],
   "source": [
    "col_tags_2.value_counts()[['Men|Women', 'Women|Men']]"
   ]
  },
  {
   "cell_type": "markdown",
   "metadata": {},
   "source": [
    "I would propose to make values from this column lower case and then split them on pipes and put into set or sort lists and delete duplicates if it needs to be saved back into CSV. By transforming tags into sets or sorted lists we make representation independent of order of tags."
   ]
  },
  {
   "cell_type": "markdown",
   "metadata": {},
   "source": [
    "### Artist gender\n",
    "\n",
    "Pandas' describe says there are 290 unique gender values, this number is too large even considering sex-independent genders, so we will check if they are consistent."
   ]
  },
  {
   "cell_type": "code",
   "execution_count": 10,
   "metadata": {},
   "outputs": [
    {
     "data": {
      "text/plain": [
       "Artist Gender\n",
       "|                                                                                                                                                                                         58718\n",
       "||                                                                                                                                                                                        21654\n",
       "Female                                                                                                                                                                                     8915\n",
       "|||                                                                                                                                                                                        6685\n",
       "Female|                                                                                                                                                                                    2720\n",
       "                                                                                                                                                                                          ...  \n",
       "||||||||||Female||                                                                                                                                                                            1\n",
       "|Female||||||||Female|||||||Female|||||||||Female||||                                                                                                                                         1\n",
       "||||Female|||||||||||                                                                                                                                                                         1\n",
       "||||||||||||||||||||||||||||||Female|Female||||||||||||||||||||||||||||||||||||||||||Female||||Female|||||||||Female|Female|||||||||||||||||Female||Female||||||||||||||||||||||||||||        1\n",
       "|||||||||||||||Female||||                                                                                                                                                                     1\n",
       "Name: count, Length: 290, dtype: int64"
      ]
     },
     "execution_count": 10,
     "metadata": {},
     "output_type": "execute_result"
    }
   ],
   "source": [
    "col_count = df['Artist Gender'].value_counts()\n",
    "col_count"
   ]
  },
  {
   "cell_type": "markdown",
   "metadata": {},
   "source": [
    "We immediately see that there are lots of artifacts there are many records with pipe symboles in strings. Also there are records with multiple \"Female\" strings, so we would extract all correct strings and compare if they are the same."
   ]
  },
  {
   "cell_type": "markdown",
   "metadata": {},
   "source": [
    "## 3. Integrity\n",
    "\n",
    "We would expect that \"Object Begin Date\" will be always not greater than \"Object End Date\"."
   ]
  },
  {
   "cell_type": "code",
   "execution_count": 11,
   "metadata": {},
   "outputs": [
    {
     "data": {
      "text/html": [
       "<div>\n",
       "<style scoped>\n",
       "    .dataframe tbody tr th:only-of-type {\n",
       "        vertical-align: middle;\n",
       "    }\n",
       "\n",
       "    .dataframe tbody tr th {\n",
       "        vertical-align: top;\n",
       "    }\n",
       "\n",
       "    .dataframe thead th {\n",
       "        text-align: right;\n",
       "    }\n",
       "</style>\n",
       "<table border=\"1\" class=\"dataframe\">\n",
       "  <thead>\n",
       "    <tr style=\"text-align: right;\">\n",
       "      <th></th>\n",
       "      <th>Object Begin Date</th>\n",
       "      <th>Object End Date</th>\n",
       "    </tr>\n",
       "    <tr>\n",
       "      <th>Object ID</th>\n",
       "      <th></th>\n",
       "      <th></th>\n",
       "    </tr>\n",
       "  </thead>\n",
       "  <tbody>\n",
       "    <tr>\n",
       "      <th>1</th>\n",
       "      <td>1853</td>\n",
       "      <td>1853</td>\n",
       "    </tr>\n",
       "    <tr>\n",
       "      <th>2</th>\n",
       "      <td>1901</td>\n",
       "      <td>1901</td>\n",
       "    </tr>\n",
       "    <tr>\n",
       "      <th>3</th>\n",
       "      <td>1909</td>\n",
       "      <td>1927</td>\n",
       "    </tr>\n",
       "    <tr>\n",
       "      <th>4</th>\n",
       "      <td>1909</td>\n",
       "      <td>1927</td>\n",
       "    </tr>\n",
       "    <tr>\n",
       "      <th>5</th>\n",
       "      <td>1909</td>\n",
       "      <td>1927</td>\n",
       "    </tr>\n",
       "    <tr>\n",
       "      <th>...</th>\n",
       "      <td>...</td>\n",
       "      <td>...</td>\n",
       "    </tr>\n",
       "    <tr>\n",
       "      <th>900605</th>\n",
       "      <td>1939</td>\n",
       "      <td>1949</td>\n",
       "    </tr>\n",
       "    <tr>\n",
       "      <th>900606</th>\n",
       "      <td>1939</td>\n",
       "      <td>1949</td>\n",
       "    </tr>\n",
       "    <tr>\n",
       "      <th>900633</th>\n",
       "      <td>1920</td>\n",
       "      <td>1938</td>\n",
       "    </tr>\n",
       "    <tr>\n",
       "      <th>900717</th>\n",
       "      <td>1839</td>\n",
       "      <td>1839</td>\n",
       "    </tr>\n",
       "    <tr>\n",
       "      <th>900748</th>\n",
       "      <td>1887</td>\n",
       "      <td>1887</td>\n",
       "    </tr>\n",
       "  </tbody>\n",
       "</table>\n",
       "<p>484956 rows × 2 columns</p>\n",
       "</div>"
      ],
      "text/plain": [
       "           Object Begin Date  Object End Date\n",
       "Object ID                                    \n",
       "1                       1853             1853\n",
       "2                       1901             1901\n",
       "3                       1909             1927\n",
       "4                       1909             1927\n",
       "5                       1909             1927\n",
       "...                      ...              ...\n",
       "900605                  1939             1949\n",
       "900606                  1939             1949\n",
       "900633                  1920             1938\n",
       "900717                  1839             1839\n",
       "900748                  1887             1887\n",
       "\n",
       "[484956 rows x 2 columns]"
      ]
     },
     "execution_count": 11,
     "metadata": {},
     "output_type": "execute_result"
    },
    {
     "data": {
      "image/png": "[encoded data removed]",
      "text/plain": [
       "<Figure size 640x480 with 1 Axes>"
      ]
     },
     "metadata": {},
     "output_type": "display_data"
    }
   ],
   "source": [
    "obj_date = df[['Object Begin Date', 'Object End Date']]\n",
    "obj_date[obj_date['Object Begin Date'] > -2000].plot.box() # displaying only only a subset for the sake of visibility\n",
    "obj_date"
   ]
  },
  {
   "cell_type": "markdown",
   "metadata": {},
   "source": [
    "Both features are definetly years, though it is not very clear what they really represent. Negatives represent years before Christ and because there is no zeroth year in gregorian calendar, we will treat zeros as missing values."
   ]
  },
  {
   "cell_type": "code",
   "execution_count": 12,
   "metadata": {},
   "outputs": [
    {
     "data": {
      "text/html": [
       "<div>\n",
       "<style scoped>\n",
       "    .dataframe tbody tr th:only-of-type {\n",
       "        vertical-align: middle;\n",
       "    }\n",
       "\n",
       "    .dataframe tbody tr th {\n",
       "        vertical-align: top;\n",
       "    }\n",
       "\n",
       "    .dataframe thead th {\n",
       "        text-align: right;\n",
       "    }\n",
       "</style>\n",
       "<table border=\"1\" class=\"dataframe\">\n",
       "  <thead>\n",
       "    <tr style=\"text-align: right;\">\n",
       "      <th></th>\n",
       "      <th>Object Begin Date</th>\n",
       "      <th>Object End Date</th>\n",
       "    </tr>\n",
       "    <tr>\n",
       "      <th>Object ID</th>\n",
       "      <th></th>\n",
       "      <th></th>\n",
       "    </tr>\n",
       "  </thead>\n",
       "  <tbody>\n",
       "    <tr>\n",
       "      <th>38468</th>\n",
       "      <td>-45</td>\n",
       "      <td>-55</td>\n",
       "    </tr>\n",
       "    <tr>\n",
       "      <th>44893</th>\n",
       "      <td>1300</td>\n",
       "      <td>14</td>\n",
       "    </tr>\n",
       "    <tr>\n",
       "      <th>55128</th>\n",
       "      <td>1861</td>\n",
       "      <td>9</td>\n",
       "    </tr>\n",
       "    <tr>\n",
       "      <th>107853</th>\n",
       "      <td>1875</td>\n",
       "      <td>1800</td>\n",
       "    </tr>\n",
       "    <tr>\n",
       "      <th>209514</th>\n",
       "      <td>1785</td>\n",
       "      <td>1779</td>\n",
       "    </tr>\n",
       "    <tr>\n",
       "      <th>...</th>\n",
       "      <td>...</td>\n",
       "      <td>...</td>\n",
       "    </tr>\n",
       "    <tr>\n",
       "      <th>586978</th>\n",
       "      <td>-664</td>\n",
       "      <td>-688</td>\n",
       "    </tr>\n",
       "    <tr>\n",
       "      <th>586979</th>\n",
       "      <td>-664</td>\n",
       "      <td>-688</td>\n",
       "    </tr>\n",
       "    <tr>\n",
       "      <th>586980</th>\n",
       "      <td>-664</td>\n",
       "      <td>-688</td>\n",
       "    </tr>\n",
       "    <tr>\n",
       "      <th>586981</th>\n",
       "      <td>-664</td>\n",
       "      <td>-688</td>\n",
       "    </tr>\n",
       "    <tr>\n",
       "      <th>776267</th>\n",
       "      <td>1</td>\n",
       "      <td>-300</td>\n",
       "    </tr>\n",
       "  </tbody>\n",
       "</table>\n",
       "<p>146 rows × 2 columns</p>\n",
       "</div>"
      ],
      "text/plain": [
       "           Object Begin Date  Object End Date\n",
       "Object ID                                    \n",
       "38468                    -45              -55\n",
       "44893                   1300               14\n",
       "55128                   1861                9\n",
       "107853                  1875             1800\n",
       "209514                  1785             1779\n",
       "...                      ...              ...\n",
       "586978                  -664             -688\n",
       "586979                  -664             -688\n",
       "586980                  -664             -688\n",
       "586981                  -664             -688\n",
       "776267                     1             -300\n",
       "\n",
       "[146 rows x 2 columns]"
      ]
     },
     "execution_count": 12,
     "metadata": {},
     "output_type": "execute_result"
    }
   ],
   "source": [
    "idx = (df['Object Begin Date'] > df['Object End Date']) & (df['Object Begin Date'] != 0) & (df['Object End Date'] != 0)\n",
    "df.loc[idx, ['Object Begin Date', 'Object End Date']]"
   ]
  },
  {
   "cell_type": "markdown",
   "metadata": {},
   "source": [
    "As we can see there are 146 samples where begin date is later than end date."
   ]
  },
  {
   "cell_type": "markdown",
   "metadata": {},
   "source": [
    "## 4. Correcting dtypes\n",
    "\n",
    "We will inspect why pandas was not able to pick up feature's type from CSV for every column we will work on in this section."
   ]
  },
  {
   "cell_type": "markdown",
   "metadata": {},
   "source": [
    "### Gallery number\n",
    "\n",
    "Let's check if there are some strings with other characters than digits."
   ]
  },
  {
   "cell_type": "code",
   "execution_count": 13,
   "metadata": {},
   "outputs": [
    {
     "name": "stdout",
     "output_type": "stream",
     "text": [
      "NaNs: 435415\n"
     ]
    },
    {
     "data": {
      "text/plain": [
       "['in Great Hall', 'Petrie Ct. Café', 'on Fifth Avenue', 'Watson Library']"
      ]
     },
     "execution_count": 13,
     "metadata": {},
     "output_type": "execute_result"
    }
   ],
   "source": [
    "col = df['Gallery Number']\n",
    "print(f'NaNs: {col.isna().sum()}')\n",
    "col[col.str.contains(r'\\D', na=False)].unique().tolist() #matches all non-digit chars"
   ]
  },
  {
   "cell_type": "markdown",
   "metadata": {},
   "source": [
    "Non numeric records are location names. All four of them are definetly out of galleries, so we will mark them NaN.\n",
    "\n",
    "For this column we will use pandas UInt64 type, because it supports NaN values. Floats support them too, but constraining numbers to be natural numbers reduces chances of annomalies in the future."
   ]
  },
  {
   "cell_type": "code",
   "execution_count": 14,
   "metadata": {},
   "outputs": [
    {
     "name": "stdout",
     "output_type": "stream",
     "text": [
      "<class 'pandas.core.series.Series'>\n",
      "Index: 484956 entries, 1 to 900748\n",
      "Series name: Gallery Number\n",
      "Non-Null Count  Dtype \n",
      "--------------  ----- \n",
      "15048 non-null  UInt64\n",
      "dtypes: UInt64(1)\n",
      "memory usage: 24.0 MB\n"
     ]
    },
    {
     "data": {
      "image/png": "[encoded data removed]",
      "text/plain": [
       "<Figure size 640x480 with 1 Axes>"
      ]
     },
     "metadata": {},
     "output_type": "display_data"
    }
   ],
   "source": [
    "new_col = col.str.extract(r'(\\d+)').astype('UInt64')\n",
    "new_col.hist()\n",
    "df['Gallery Number'] = new_col\n",
    "df['Gallery Number'].info()"
   ]
  },
  {
   "cell_type": "markdown",
   "metadata": {},
   "source": [
    "### Department\n",
    "\n",
    "Departament is strictly categorical datatye. There is no ordering in departments."
   ]
  },
  {
   "cell_type": "code",
   "execution_count": 15,
   "metadata": {},
   "outputs": [
    {
     "name": "stdout",
     "output_type": "stream",
     "text": [
      "Number of categories: 19\n"
     ]
    },
    {
     "data": {
      "text/plain": [
       "['The American Wing',\n",
       " 'European Sculpture and Decorative Arts',\n",
       " 'Modern and Contemporary Art',\n",
       " 'Arms and Armor',\n",
       " 'Medieval Art',\n",
       " 'Asian Art',\n",
       " 'Islamic Art',\n",
       " 'Costume Institute',\n",
       " 'Arts of Africa, Oceania, and the Americas',\n",
       " 'Drawings and Prints',\n",
       " 'Greek and Roman Art',\n",
       " 'Photographs',\n",
       " 'Ancient Near Eastern Art',\n",
       " 'Egyptian Art',\n",
       " 'European Paintings',\n",
       " 'Robert Lehman Collection',\n",
       " 'The Cloisters',\n",
       " 'Musical Instruments',\n",
       " 'The Libraries']"
      ]
     },
     "metadata": {},
     "output_type": "display_data"
    }
   ],
   "source": [
    "uniq = df['Department'].unique().tolist()\n",
    "print(f'Number of categories: {len(uniq)}')\n",
    "display(uniq)"
   ]
  },
  {
   "cell_type": "code",
   "execution_count": 16,
   "metadata": {},
   "outputs": [
    {
     "name": "stdout",
     "output_type": "stream",
     "text": [
      "<class 'pandas.core.series.Series'>\n",
      "Index: 484956 entries, 1 to 900748\n",
      "Series name: Department\n",
      "Non-Null Count   Dtype   \n",
      "--------------   -----   \n",
      "484956 non-null  category\n",
      "dtypes: category(1)\n",
      "memory usage: 20.3 MB\n"
     ]
    }
   ],
   "source": [
    "df['Department'] = df['Department'].astype('category')\n",
    "df['Department'].info()"
   ]
  },
  {
   "cell_type": "markdown",
   "metadata": {},
   "source": [
    "### City\n",
    "\n",
    "This is a categorical column, the only thing that we will change is capitalize (make every character lowercase, except first that will be uppercase) every category."
   ]
  },
  {
   "cell_type": "code",
   "execution_count": 17,
   "metadata": {},
   "outputs": [
    {
     "data": {
      "text/plain": [
       "count     32754\n",
       "unique     2611\n",
       "top       Paris\n",
       "freq       4658\n",
       "Name: City, dtype: object"
      ]
     },
     "metadata": {},
     "output_type": "display_data"
    },
    {
     "name": "stdout",
     "output_type": "stream",
     "text": [
      "<class 'pandas.core.series.Series'>\n",
      "Index: 484956 entries, 1 to 900748\n",
      "Series name: City\n",
      "Non-Null Count  Dtype   \n",
      "--------------  -----   \n",
      "32754 non-null  category\n",
      "dtypes: category(1)\n",
      "memory usage: 20.8 MB\n"
     ]
    }
   ],
   "source": [
    "df['City'] = df['City'].str.capitalize().astype('category')\n",
    "display(df['City'].describe())\n",
    "df['City'].info()"
   ]
  },
  {
   "cell_type": "markdown",
   "metadata": {},
   "source": [
    "### Classification\n",
    "\n",
    "This column screams to be categorized"
   ]
  },
  {
   "cell_type": "code",
   "execution_count": 30,
   "metadata": {},
   "outputs": [
    {
     "name": "stdout",
     "output_type": "stream",
     "text": [
      "<class 'pandas.core.series.Series'>\n",
      "Index: 484956 entries, 1 to 900748\n",
      "Series name: Classification\n",
      "Non-Null Count   Dtype   \n",
      "--------------   -----   \n",
      "406239 non-null  category\n",
      "dtypes: category(1)\n",
      "memory usage: 20.8 MB\n"
     ]
    }
   ],
   "source": [
    "df['Classification'] = df['Classification'].str.lower().astype('category')\n",
    "df['Classification'].info()"
   ]
  },
  {
   "cell_type": "markdown",
   "metadata": {},
   "source": [
    "### AccessionYear\n",
    "\n",
    "Let's check how this columns looks like."
   ]
  },
  {
   "cell_type": "code",
   "execution_count": 31,
   "metadata": {},
   "outputs": [
    {
     "data": {
      "text/plain": [
       "AccessionYear\n",
       "1963.0        39846\n",
       "2011.0        18470\n",
       "1917.0        12260\n",
       "2009.0         9299\n",
       "1936.0         9014\n",
       "              ...  \n",
       "1969-07-17        1\n",
       "1969-07-10        1\n",
       "1953-01-19        1\n",
       "1955-05-24        1\n",
       "1959-12-28        1\n",
       "Name: count, Length: 316, dtype: int64"
      ]
     },
     "execution_count": 31,
     "metadata": {},
     "output_type": "execute_result"
    }
   ],
   "source": [
    "col = df['AccessionYear']\n",
    "col.value_counts()"
   ]
  },
  {
   "cell_type": "markdown",
   "metadata": {},
   "source": [
    "This column has two representations: standalone year and ISO date. The second problem is that year 1963 is out of UNIX datetime format, so we will use Julian datetime origin.\n",
    "\n",
    "We can also see that there are inconsitent representations of year, let's check the types that occur in this column."
   ]
  },
  {
   "cell_type": "code",
   "execution_count": 36,
   "metadata": {},
   "outputs": [
    {
     "data": {
      "text/plain": [
       "AccessionYear\n",
       "<class 'float'>    426605\n",
       "<class 'str'>       41967\n",
       "<class 'int'>       16384\n",
       "Name: count, dtype: int64"
      ]
     },
     "execution_count": 36,
     "metadata": {},
     "output_type": "execute_result"
    }
   ],
   "source": [
    "col.apply(type).value_counts()"
   ]
  },
  {
   "cell_type": "markdown",
   "metadata": {},
   "source": [
    "We will turn everything into string, then extract first 4 digits, those will be an accession year"
   ]
  },
  {
   "cell_type": "code",
   "execution_count": 37,
   "metadata": {},
   "outputs": [
    {
     "data": {
      "text/plain": [
       "AccessionYear\n",
       "<class 'str'>    484956\n",
       "Name: count, dtype: int64"
      ]
     },
     "execution_count": 37,
     "metadata": {},
     "output_type": "execute_result"
    }
   ],
   "source": [
    "col = col.astype(str)\n",
    "col.apply(type).value_counts()"
   ]
  },
  {
   "cell_type": "markdown",
   "metadata": {},
   "source": [
    "We can see that all non-numeric chars come from ISO format, so we will extract year from it and then convert it into datetime."
   ]
  },
  {
   "cell_type": "code",
   "execution_count": 49,
   "metadata": {},
   "outputs": [
    {
     "data": {
      "text/plain": [
       "Object ID\n",
       "1        1979-01-01\n",
       "2        1980-01-01\n",
       "3        1967-01-01\n",
       "4        1967-01-01\n",
       "5        1967-01-01\n",
       "            ...    \n",
       "900605   1955-01-01\n",
       "900606   1977-01-01\n",
       "900633   1933-01-01\n",
       "900717          NaT\n",
       "900748   1917-01-01\n",
       "Name: AccessionYear, Length: 484956, dtype: datetime64[ns]"
      ]
     },
     "execution_count": 49,
     "metadata": {},
     "output_type": "execute_result"
    },
    {
     "data": {
      "image/png": "[encoded data removed]",
      "text/plain": [
       "<Figure size 640x480 with 1 Axes>"
      ]
     },
     "metadata": {},
     "output_type": "display_data"
    }
   ],
   "source": [
    "new_col = pd.to_datetime(col.str.strip().str.extract(r'^(\\d{4})', expand=False), format='%Y')\n",
    "new_col.hist()\n",
    "new_col"
   ]
  },
  {
   "cell_type": "code",
   "execution_count": 50,
   "metadata": {},
   "outputs": [
    {
     "name": "stdout",
     "output_type": "stream",
     "text": [
      "<class 'pandas.core.series.Series'>\n",
      "Index: 484956 entries, 1 to 900748\n",
      "Series name: Accession Year\n",
      "Non-Null Count   Dtype         \n",
      "--------------   -----         \n",
      "481094 non-null  datetime64[ns]\n",
      "dtypes: datetime64[ns](1)\n",
      "memory usage: 23.5 MB\n"
     ]
    }
   ],
   "source": [
    "df['Accession Year'] = new_col\n",
    "df['Accession Year'].info()"
   ]
  },
  {
   "cell_type": "markdown",
   "metadata": {},
   "source": [
    "### Object End Date\n",
    "\n",
    "We will turn it into nullable integer and replace zeros with nan values for the later section."
   ]
  },
  {
   "cell_type": "code",
   "execution_count": 23,
   "metadata": {},
   "outputs": [
    {
     "name": "stdout",
     "output_type": "stream",
     "text": [
      "<class 'pandas.core.series.Series'>\n",
      "Index: 484956 entries, 1 to 900748\n",
      "Series name: Object End Date\n",
      "Non-Null Count   Dtype\n",
      "--------------   -----\n",
      "483653 non-null  Int32\n",
      "dtypes: Int32(1)\n",
      "memory usage: 22.1 MB\n"
     ]
    },
    {
     "data": {
      "image/png": "[encoded data removed]",
      "text/plain": [
       "<Figure size 640x480 with 1 Axes>"
      ]
     },
     "metadata": {},
     "output_type": "display_data"
    }
   ],
   "source": [
    "df['Object End Date'] = df['Object End Date'].astype('Int32').replace({0:np.nan})\n",
    "df.loc[df['Object End Date'] > -2000, 'Object End Date'].hist()\n",
    "df['Object End Date'].info()"
   ]
  },
  {
   "cell_type": "markdown",
   "metadata": {},
   "source": [
    "## 5. Outliers\n",
    "\n",
    "We will search for outliers in \"Object End Date\" column. For that we will use the same metric as in boxplot."
   ]
  },
  {
   "cell_type": "code",
   "execution_count": 24,
   "metadata": {},
   "outputs": [
    {
     "name": "stdout",
     "output_type": "stream",
     "text": [
      "lo_bound=np.float64(1140.0)\n",
      "hi_bound=np.float64(2364.0)\n"
     ]
    },
    {
     "data": {
      "text/html": [
       "<div>\n",
       "<style scoped>\n",
       "    .dataframe tbody tr th:only-of-type {\n",
       "        vertical-align: middle;\n",
       "    }\n",
       "\n",
       "    .dataframe tbody tr th {\n",
       "        vertical-align: top;\n",
       "    }\n",
       "\n",
       "    .dataframe thead th {\n",
       "        text-align: right;\n",
       "    }\n",
       "</style>\n",
       "<table border=\"1\" class=\"dataframe\">\n",
       "  <thead>\n",
       "    <tr style=\"text-align: right;\">\n",
       "      <th></th>\n",
       "      <th>Title</th>\n",
       "      <th>Department</th>\n",
       "      <th>Object End Date</th>\n",
       "    </tr>\n",
       "    <tr>\n",
       "      <th>Object ID</th>\n",
       "      <th></th>\n",
       "      <th></th>\n",
       "      <th></th>\n",
       "    </tr>\n",
       "  </thead>\n",
       "  <tbody>\n",
       "    <tr>\n",
       "      <th>3163</th>\n",
       "      <td>Plate</td>\n",
       "      <td>The American Wing</td>\n",
       "      <td>5</td>\n",
       "    </tr>\n",
       "    <tr>\n",
       "      <th>22083</th>\n",
       "      <td>Seven Arrowpoints</td>\n",
       "      <td>Arms and Armor</td>\n",
       "      <td>700</td>\n",
       "    </tr>\n",
       "    <tr>\n",
       "      <th>22084</th>\n",
       "      <td>Lamellae of Lamellar Armor (Probably from a Co...</td>\n",
       "      <td>Arms and Armor</td>\n",
       "      <td>600</td>\n",
       "    </tr>\n",
       "    <tr>\n",
       "      <th>22085</th>\n",
       "      <td>Armor Fragments of Scales from a Cuirass</td>\n",
       "      <td>Arms and Armor</td>\n",
       "      <td>735</td>\n",
       "    </tr>\n",
       "    <tr>\n",
       "      <th>22086</th>\n",
       "      <td>Armor Fragments of Scales from a Cuirass</td>\n",
       "      <td>Arms and Armor</td>\n",
       "      <td>825</td>\n",
       "    </tr>\n",
       "    <tr>\n",
       "      <th>...</th>\n",
       "      <td>...</td>\n",
       "      <td>...</td>\n",
       "      <td>...</td>\n",
       "    </tr>\n",
       "    <tr>\n",
       "      <th>889934</th>\n",
       "      <td>Deity Head</td>\n",
       "      <td>Arts of Africa, Oceania, and the Americas</td>\n",
       "      <td>800</td>\n",
       "    </tr>\n",
       "    <tr>\n",
       "      <th>889957</th>\n",
       "      <td>Burial chamber of User</td>\n",
       "      <td>Egyptian Art</td>\n",
       "      <td>-1950</td>\n",
       "    </tr>\n",
       "    <tr>\n",
       "      <th>890216</th>\n",
       "      <td>Man standing, hat in his hand, in a landscape ...</td>\n",
       "      <td>Drawings and Prints</td>\n",
       "      <td>17</td>\n",
       "    </tr>\n",
       "    <tr>\n",
       "      <th>897920</th>\n",
       "      <td>NaN</td>\n",
       "      <td>Asian Art</td>\n",
       "      <td>799</td>\n",
       "    </tr>\n",
       "    <tr>\n",
       "      <th>898402</th>\n",
       "      <td>Shabti of Djedkhonsuiuefankh</td>\n",
       "      <td>Egyptian Art</td>\n",
       "      <td>-995</td>\n",
       "    </tr>\n",
       "  </tbody>\n",
       "</table>\n",
       "<p>85048 rows × 3 columns</p>\n",
       "</div>"
      ],
      "text/plain": [
       "                                                       Title  \\\n",
       "Object ID                                                      \n",
       "3163                                                   Plate   \n",
       "22083                                      Seven Arrowpoints   \n",
       "22084      Lamellae of Lamellar Armor (Probably from a Co...   \n",
       "22085               Armor Fragments of Scales from a Cuirass   \n",
       "22086               Armor Fragments of Scales from a Cuirass   \n",
       "...                                                      ...   \n",
       "889934                                            Deity Head   \n",
       "889957                                Burial chamber of User   \n",
       "890216     Man standing, hat in his hand, in a landscape ...   \n",
       "897920                                                   NaN   \n",
       "898402                          Shabti of Djedkhonsuiuefankh   \n",
       "\n",
       "                                          Department  Object End Date  \n",
       "Object ID                                                              \n",
       "3163                               The American Wing                5  \n",
       "22083                                 Arms and Armor              700  \n",
       "22084                                 Arms and Armor              600  \n",
       "22085                                 Arms and Armor              735  \n",
       "22086                                 Arms and Armor              825  \n",
       "...                                              ...              ...  \n",
       "889934     Arts of Africa, Oceania, and the Americas              800  \n",
       "889957                                  Egyptian Art            -1950  \n",
       "890216                           Drawings and Prints               17  \n",
       "897920                                     Asian Art              799  \n",
       "898402                                  Egyptian Art             -995  \n",
       "\n",
       "[85048 rows x 3 columns]"
      ]
     },
     "execution_count": 24,
     "metadata": {},
     "output_type": "execute_result"
    }
   ],
   "source": [
    "col = df['Object End Date']\n",
    "q = [0] * 3\n",
    "for idx, p in enumerate([0.25, 0.5, 0.75]):\n",
    "    q[idx] = col.quantile(p)\n",
    "iqr = q[2] - q[0]\n",
    "lo_bound = q[0] - 1.5*iqr\n",
    "hi_bound = q[2] + 1.5*iqr\n",
    "print(f'{lo_bound=}\\n{hi_bound=}')\n",
    "outliers = (col < lo_bound) | (hi_bound < col)\n",
    "df.loc[outliers, ['Title', 'Department', 'Object End Date']]"
   ]
  },
  {
   "cell_type": "markdown",
   "metadata": {},
   "source": [
    "## 6. Detecting missing data and imputing"
   ]
  },
  {
   "cell_type": "code",
   "execution_count": 26,
   "metadata": {},
   "outputs": [
    {
     "data": {
      "text/plain": [
       "Index(['Object Number', 'Is Highlight', 'Is Timeline Work', 'Is Public Domain',\n",
       "       'Department', 'Object Begin Date', 'Link Resource', 'Repository'],\n",
       "      dtype='object')"
      ]
     },
     "execution_count": 26,
     "metadata": {},
     "output_type": "execute_result"
    }
   ],
   "source": [
    "df.columns[df.isna().sum() == 0]"
   ]
  },
  {
   "cell_type": "markdown",
   "metadata": {},
   "source": [
    "## 7. Cleaning 'Medium' feature"
   ]
  },
  {
   "cell_type": "code",
   "execution_count": null,
   "metadata": {},
   "outputs": [],
   "source": []
  },
  {
   "cell_type": "markdown",
   "metadata": {},
   "source": [
    "## 8. Extracting dimensions"
   ]
  },
  {
   "cell_type": "code",
   "execution_count": null,
   "metadata": {},
   "outputs": [],
   "source": []
  }
 ],
 "metadata": {
  "deepnote": {
   "is_reactive": false
  },
  "deepnote_execution_queue": [],
  "deepnote_notebook_id": "9073ededba0643989fa17f1a82f4f1be",
  "kernelspec": {
   "display_name": "Python 3 (ipykernel)",
   "language": "python",
   "name": "python3"
  },
  "language_info": {
   "codemirror_mode": {
    "name": "ipython",
    "version": 3
   },
   "file_extension": ".py",
   "mimetype": "text/x-python",
   "name": "python",
   "nbconvert_exporter": "python",
   "pygments_lexer": "ipython3",
   "version": "3.12.3"
  }
 },
 "nbformat": 4,
 "nbformat_minor": 4
}
