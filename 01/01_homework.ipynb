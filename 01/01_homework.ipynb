{
 "cells": [
  {
   "cell_type": "markdown",
   "metadata": {
    "cell_id": "260ab249593a43b7b6e55bb0fef946b3",
    "deepnote_cell_height": 2002,
    "deepnote_cell_type": "markdown",
    "tags": []
   },
   "source": [
    "# Homework 1 - data validation & cleaning (deadline 3. 11. 2024, 23:59)\n",
    "\n",
    "In short, the main task is to clean The Metropolitan Museum of Art Open Access dataset.\n",
    "  \n",
    "> The instructions are not given in detail: It is up to you to come up with ideas on how to fulfill the particular tasks as best as possible!\n",
    "\n",
    "However, we **strongly recommend and require** the following:\n",
    "* Follow the assignment step by step. Number each step.\n",
    "* Most steps contain the number of features that should be treated. You can preprocess more features. However, it does not mean the teacher will give you more points. Focus on quality, not quantity.\n",
    "* Properly comment on all your steps. Use Markdown cells and visualizations. Comments are evaluated for 2 points of the total, together with the final presentation of the solution. However, it is not desirable to write novels! \n",
    "* This task is timewise and computationally intensive. Do not leave it to the last minute.\n",
    "* Hand in a notebook that has already been run (i.e., do not delete outputs before handing in).\n",
    "\n",
    "## What are you supposed to do:\n",
    "\n",
    "  1. Download the dataset MetObjects.csv from the repository https://github.com/metmuseum/openaccess/.\n",
    "  1. Check consistency (i.e., that the same things are represented in the same way) of at least **three features** where you expect problems (including the \"Object Name\" feature). You can propose how to clean the selected features. However, **do not apply cleaning** (in your interest) 🙂 _(1.5 points)_\n",
    "  1. Select at least **two features** (i.e., one couple) where you expect integrity problems (describe your choice) and check the integrity of those features. By integrity, we mean correct logical relations between features (e.g., female names for females only). _(2 points)_\n",
    "  1. Convert at least **five features** to a proper data type. Choose at least one numeric, one categorical (i.e., ordinal or nominal), and one datetime. _(1.5 points)_\n",
    "  1. Find some outliers and describe your method. _(3 points, depends on creativity)_\n",
    "  1. Detect missing data in at least **three features**, convert them to a proper representation (if they are already not), and impute missing values in at least **one feature** using some imputation method (i.e., imputation by mean or median is too trivial to obtain any points). _(2 + 3 points, depends on creativity)_\n",
    "  1. Focus more precisely on cleaning the \"Medium\" feature. As if you were to use it in the KNN classification algorithm later. _(3 points)_\n",
    "  1. Focus on the extraction of the physical dimensions of each item (width, depth, and height in centimeters) from the \"Dimensions\" feature. _(2 points)_\n",
    "  \n",
    "All your steps, your choices of methods, and the following code **must be commented on!** For text comments (discussion, etc., not code comments), use **Markdown cells**. Comments are evaluated for 2 points together with the final presentation of the solution. \n",
    "\n",
    "**If you do all this properly, you will obtain 20 points.**\n",
    "\n",
    "## Comments\n",
    "\n",
    "  * Please follow the technical instructions from https://courses.fit.cvut.cz/NI-PDD/homeworks/index.html.\n",
    "  * Methods that are more complex and were not shown during the tutorials are considered more creative and should be described in detail.\n",
    "  * English is not compulsory."
   ]
  },
  {
   "cell_type": "code",
   "execution_count": 1,
   "metadata": {
    "cell_id": "ed43ace9ad2e47459bd752a214ada334",
    "deepnote_cell_height": 76,
    "deepnote_cell_type": "code",
    "deepnote_to_be_reexecuted": false,
    "execution_millis": 43,
    "execution_start": 1662743365252,
    "source_hash": "9e2da255",
    "tags": []
   },
   "outputs": [],
   "source": [
    "### your code goes here"
   ]
  }
 ],
 "metadata": {
  "deepnote": {
   "is_reactive": false
  },
  "deepnote_execution_queue": [],
  "deepnote_notebook_id": "9073ededba0643989fa17f1a82f4f1be",
  "kernelspec": {
   "display_name": "Python 3 (ipykernel)",
   "language": "python",
   "name": "python3"
  },
  "language_info": {
   "codemirror_mode": {
    "name": "ipython",
    "version": 3
   },
   "file_extension": ".py",
   "mimetype": "text/x-python",
   "name": "python",
   "nbconvert_exporter": "python",
   "pygments_lexer": "ipython3",
   "version": "3.9.12"
  }
 },
 "nbformat": 4,
 "nbformat_minor": 4
}
