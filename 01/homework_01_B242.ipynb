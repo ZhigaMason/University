{
 "cells": [
  {
   "cell_type": "markdown",
   "metadata": {},
   "source": [
    "# Úkol č. 1 - redukce dimenzionality a binární klasifikace\n",
    "\n",
    "* Termíny jsou uvedeny na [courses.fit.cvut.cz/BI-ML2/homeworks/index.html](https://courses.fit.cvut.cz/BI-ML2/homeworks/index.html).\n",
    "* Pokud odevzdáte úkol po prvním termínu ale před nejzazším termínem, budete penalizování -12 body, pozdější odevzdání je bez bodu.\n",
    "* V rámci tohoto úkolu se musíte vypořádat s vysokou dimenzí problému a poté úspěšně aplikovat vhodný klasfikační model.\n",
    "    \n",
    "> **Úkoly jsou zadány tak, aby Vám daly prostor pro invenci. Vymyslet _jak přesně_ budete úkol řešit, je důležitou součástí zadání a originalita či nápaditost bude také hodnocena!**\n",
    "\n",
    "Využívejte buňky typu `Markdown` k vysvětlování Vašeho postupu. Za nepřehlednost budou strhávány body.\n",
    "\n",
    "## Zdroj dat\n",
    "\n",
    " * Zdrojem dat jsou soubory `train.csv` a `evaluate.csv`.\n",
    " * Jedná se o obrázky 28x28 pixelů ve stupních šedi, které byly získány z [Fashion Mnist datasetu](https://www.kaggle.com/datasets/zalando-research/fashionmnist).\n",
    " * Soubor `train.csv` obsahuje trénovací data.\n",
    " * Cílová (vysvětlovaná) proměnná se jmenuje **label**.\n",
    " * Soubor `evaluate.csv` obsahuje testovací data bez hodnot skutečných labelů.\n",
    "\n",
    "## Pokyny k vypracování\n",
    "\n",
    "**Body zadání**, za jejichž (poctivé) vypracování získáte **25 bodů**:\n",
    "  * V notebooku načtěte data ze souboru `train.csv`. Vhodným způsobem si je rozdělte na podmnožiny, které Vám poslouží pro trénování, porovnávání modelů a následnou predikci výkonnosti finálního modelu.\n",
    "  * Proveďte základní průzkum dat a svá pozorování diskutujte. Některé obrázky také zobrazte.\n",
    "  * Postupně aplikujte modely **SVM**, **naivní Bayesův klasifikátor** a **LDA**, přičemž pro každý z nich:\n",
    "      * Okomentujte vhodnost daného modelu pro daný typ úlohy.\n",
    "      * Vyberte si hlavní hyperparametry k ladění (pokud model má hyperparametry) a najděte jejich nejlepší hodnoty.\n",
    "      * U SVM vyzkoušejte alespoň dvě různé jádrové funkce.\n",
    "      * Získané výsledky vždy řádně okomentujte.\n",
    "<br/><br/>\n",
    "\n",
    "  * Použijte natrénovaný generativní model Naivního Bayesova klasifikátoru nebo Lineární diskriminační analýzy (podle Vaší volby) a vygenerujte pro každou třídu 5 datových bodů, které následně přetransformujte do rozměrů 28x28 a zobrazte pomocí `imshow`. Diskutujte kvalitu vygenerovaných dat. K vygenerování můžete využít funkci [multivariate_normal](https://numpy.org/doc/2.2/reference/random/generated/numpy.random.multivariate_normal.html) z `numpy`.\n",
    "\n",
    "  * Postupně aplikujte metody redukce dimenzionality PCA a LLE, přičemž pro každou z nich: \n",
    "      * Zopakujte předchozí kroky aplikace modelů (žádné další generování už nedělejte) a pokuste se je vylepšit.\n",
    "      * Zkoumejte jaká dimenze je z hlediska výkonnosti finálního modelu nejlepší.\n",
    "      * Získané výsledky vždy řádně okomentujte.\n",
    "<br/><br/>\n",
    "    \n",
    "  * Ze všech zkoušených možností vyberte finální model a odhadněte, jakou přesnost můžete očekávat na nových datech, která jste doposud neměli k dispozici. _Pozor na metodické chyby!_\n",
    "  \n",
    "  * Nakonec načtěte vyhodnocovací data ze souboru`evaluate.csv`. Pomocí finálního modelu napočítejte predikce pro tyto data (vysvětlovaná proměnná v nich již není). Vytvořte soubor `results.csv`, ve kterém získané predikce uložíte do sloupce **label** a identifikátory do sloupce **ID**. Tento soubor též odevzdejte (uložte do projektu vedle notebooku).\n",
    "   \n",
    "       * Ukázka, jak by mělo vypadat prvních několik řádků souboru `results.csv` (obecně s jinými hodnotami):\n",
    "  \n",
    "```\n",
    "ID,label\n",
    "0,0\n",
    "1,1\n",
    "...\n",
    "```\n",
    "\n",
    "## Poznámky k odevzdání\n",
    "\n",
    "  * Řiďte se pokyny ze stránky https://courses.fit.cvut.cz/BI-ML2/homeworks/index.html.\n",
    "  * Vytvořte i csv soubor `results.csv` s predikcemi a uložte ho v rámci projektu vedle ipython notebooku."
   ]
  },
  {
   "cell_type": "markdown",
   "metadata": {},
   "source": [
    "# Homework 01\n",
    "\n",
    "## Loading Libraries & Reading Data"
   ]
  },
  {
   "cell_type": "code",
   "execution_count": 1,
   "metadata": {},
   "outputs": [],
   "source": [
    "import numpy as np\n",
    "import pandas as pd\n",
    "import matplotlib.pyplot as plt\n",
    "\n",
    "RND_SEED = 4547"
   ]
  },
  {
   "cell_type": "markdown",
   "metadata": {},
   "source": [
    "We will split dataset into train, validation and test datasets with 60%/20%/20% proportions."
   ]
  },
  {
   "cell_type": "code",
   "execution_count": 2,
   "metadata": {},
   "outputs": [
    {
     "data": {
      "text/html": [
       "<div>\n",
       "<style scoped>\n",
       "    .dataframe tbody tr th:only-of-type {\n",
       "        vertical-align: middle;\n",
       "    }\n",
       "\n",
       "    .dataframe tbody tr th {\n",
       "        vertical-align: top;\n",
       "    }\n",
       "\n",
       "    .dataframe thead th {\n",
       "        text-align: right;\n",
       "    }\n",
       "</style>\n",
       "<table border=\"1\" class=\"dataframe\">\n",
       "  <thead>\n",
       "    <tr style=\"text-align: right;\">\n",
       "      <th></th>\n",
       "      <th>pixel1</th>\n",
       "      <th>pixel2</th>\n",
       "      <th>pixel3</th>\n",
       "      <th>pixel4</th>\n",
       "      <th>pixel5</th>\n",
       "      <th>pixel6</th>\n",
       "      <th>pixel7</th>\n",
       "      <th>pixel8</th>\n",
       "      <th>pixel9</th>\n",
       "      <th>pixel10</th>\n",
       "      <th>...</th>\n",
       "      <th>pixel775</th>\n",
       "      <th>pixel776</th>\n",
       "      <th>pixel777</th>\n",
       "      <th>pixel778</th>\n",
       "      <th>pixel779</th>\n",
       "      <th>pixel780</th>\n",
       "      <th>pixel781</th>\n",
       "      <th>pixel782</th>\n",
       "      <th>pixel783</th>\n",
       "      <th>pixel784</th>\n",
       "    </tr>\n",
       "  </thead>\n",
       "  <tbody>\n",
       "    <tr>\n",
       "      <th>1084</th>\n",
       "      <td>0</td>\n",
       "      <td>0</td>\n",
       "      <td>0</td>\n",
       "      <td>0</td>\n",
       "      <td>0</td>\n",
       "      <td>0</td>\n",
       "      <td>0</td>\n",
       "      <td>62</td>\n",
       "      <td>68</td>\n",
       "      <td>41</td>\n",
       "      <td>...</td>\n",
       "      <td>82</td>\n",
       "      <td>29</td>\n",
       "      <td>0</td>\n",
       "      <td>0</td>\n",
       "      <td>0</td>\n",
       "      <td>0</td>\n",
       "      <td>0</td>\n",
       "      <td>0</td>\n",
       "      <td>0</td>\n",
       "      <td>0</td>\n",
       "    </tr>\n",
       "    <tr>\n",
       "      <th>1328</th>\n",
       "      <td>0</td>\n",
       "      <td>0</td>\n",
       "      <td>0</td>\n",
       "      <td>0</td>\n",
       "      <td>0</td>\n",
       "      <td>0</td>\n",
       "      <td>0</td>\n",
       "      <td>0</td>\n",
       "      <td>0</td>\n",
       "      <td>0</td>\n",
       "      <td>...</td>\n",
       "      <td>168</td>\n",
       "      <td>156</td>\n",
       "      <td>73</td>\n",
       "      <td>0</td>\n",
       "      <td>0</td>\n",
       "      <td>0</td>\n",
       "      <td>0</td>\n",
       "      <td>0</td>\n",
       "      <td>0</td>\n",
       "      <td>0</td>\n",
       "    </tr>\n",
       "    <tr>\n",
       "      <th>468</th>\n",
       "      <td>0</td>\n",
       "      <td>0</td>\n",
       "      <td>0</td>\n",
       "      <td>0</td>\n",
       "      <td>0</td>\n",
       "      <td>0</td>\n",
       "      <td>0</td>\n",
       "      <td>0</td>\n",
       "      <td>0</td>\n",
       "      <td>0</td>\n",
       "      <td>...</td>\n",
       "      <td>7</td>\n",
       "      <td>0</td>\n",
       "      <td>0</td>\n",
       "      <td>0</td>\n",
       "      <td>0</td>\n",
       "      <td>0</td>\n",
       "      <td>0</td>\n",
       "      <td>0</td>\n",
       "      <td>0</td>\n",
       "      <td>0</td>\n",
       "    </tr>\n",
       "    <tr>\n",
       "      <th>718</th>\n",
       "      <td>0</td>\n",
       "      <td>0</td>\n",
       "      <td>0</td>\n",
       "      <td>0</td>\n",
       "      <td>0</td>\n",
       "      <td>0</td>\n",
       "      <td>0</td>\n",
       "      <td>0</td>\n",
       "      <td>0</td>\n",
       "      <td>0</td>\n",
       "      <td>...</td>\n",
       "      <td>180</td>\n",
       "      <td>87</td>\n",
       "      <td>0</td>\n",
       "      <td>0</td>\n",
       "      <td>0</td>\n",
       "      <td>0</td>\n",
       "      <td>0</td>\n",
       "      <td>0</td>\n",
       "      <td>0</td>\n",
       "      <td>0</td>\n",
       "    </tr>\n",
       "    <tr>\n",
       "      <th>205</th>\n",
       "      <td>0</td>\n",
       "      <td>0</td>\n",
       "      <td>0</td>\n",
       "      <td>0</td>\n",
       "      <td>0</td>\n",
       "      <td>0</td>\n",
       "      <td>0</td>\n",
       "      <td>0</td>\n",
       "      <td>0</td>\n",
       "      <td>0</td>\n",
       "      <td>...</td>\n",
       "      <td>0</td>\n",
       "      <td>0</td>\n",
       "      <td>0</td>\n",
       "      <td>0</td>\n",
       "      <td>0</td>\n",
       "      <td>0</td>\n",
       "      <td>0</td>\n",
       "      <td>0</td>\n",
       "      <td>0</td>\n",
       "      <td>0</td>\n",
       "    </tr>\n",
       "  </tbody>\n",
       "</table>\n",
       "<p>5 rows × 784 columns</p>\n",
       "</div>"
      ],
      "text/plain": [
       "      pixel1  pixel2  pixel3  pixel4  pixel5  pixel6  pixel7  pixel8  pixel9  \\\n",
       "1084       0       0       0       0       0       0       0      62      68   \n",
       "1328       0       0       0       0       0       0       0       0       0   \n",
       "468        0       0       0       0       0       0       0       0       0   \n",
       "718        0       0       0       0       0       0       0       0       0   \n",
       "205        0       0       0       0       0       0       0       0       0   \n",
       "\n",
       "      pixel10  ...  pixel775  pixel776  pixel777  pixel778  pixel779  \\\n",
       "1084       41  ...        82        29         0         0         0   \n",
       "1328        0  ...       168       156        73         0         0   \n",
       "468         0  ...         7         0         0         0         0   \n",
       "718         0  ...       180        87         0         0         0   \n",
       "205         0  ...         0         0         0         0         0   \n",
       "\n",
       "      pixel780  pixel781  pixel782  pixel783  pixel784  \n",
       "1084         0         0         0         0         0  \n",
       "1328         0         0         0         0         0  \n",
       "468          0         0         0         0         0  \n",
       "718          0         0         0         0         0  \n",
       "205          0         0         0         0         0  \n",
       "\n",
       "[5 rows x 784 columns]"
      ]
     },
     "execution_count": 2,
     "metadata": {},
     "output_type": "execute_result"
    }
   ],
   "source": [
    "from sklearn.model_selection import train_test_split\n",
    "\n",
    "target_col = 'label'\n",
    "data = pd.read_csv('train.csv')\n",
    "\n",
    "X = data.drop(columns=[target_col])\n",
    "y = data[target_col]\n",
    "\n",
    "Xtrain, Xval, ytrain, yval = train_test_split(\n",
    "    X, y, test_size=0.4, random_state=RND_SEED, shuffle=True\n",
    ")\n",
    "\n",
    "Xval, Xtest, yval, ytest = train_test_split(\n",
    "    Xval, yval, test_size=0.5, random_state=RND_SEED, shuffle=True\n",
    ")\n",
    "Xtrain.head()"
   ]
  },
  {
   "cell_type": "markdown",
   "metadata": {},
   "source": [
    "## Data Analysis\n",
    "\n",
    "We will display images that are provided by our dataset. Each row is actually a $28 \\times 28$ grayscale image, so firstly we will reconstruct those."
   ]
  },
  {
   "cell_type": "code",
   "execution_count": 3,
   "metadata": {},
   "outputs": [],
   "source": [
    "def display_img(ax, x, y, kw_imshow = dict(cmap='binary', vmin=0, vmax=255), prefix_label='Label: '):\n",
    "    x_ = x.reshape(28, 28)\n",
    "    ret = ax.imshow(\n",
    "        x_, \n",
    "        **kw_imshow\n",
    "    )\n",
    "    ax.set_xticks([])\n",
    "    ax.set_yticks([])\n",
    "    ax.set_xlabel(f\"{prefix_label}{y}\")\n",
    "    return ret\n",
    "\n",
    "def display_gallery(X, Y):\n",
    "    n = int(np.sqrt(X.shape[0]))\n",
    "    m = int(np.ceil(X.shape[0] / n))\n",
    "    fig, axes = plt.subplots(n, m, figsize=(m*3, n*3.))\n",
    "\n",
    "    for ax, x, y in zip(axes.flatten(), X.iterrows(), Y):\n",
    "        display_img(ax, x[1].values, y)\n",
    "    for ax in axes.flatten()[X.shape[0]:]:\n",
    "        ax.remove()"
   ]
  },
  {
   "cell_type": "code",
   "execution_count": 4,
   "metadata": {},
   "outputs": [
    {
     "data": {
      "image/png": "[encoded data removed]",
      "text/plain": [
       "<Figure size 900x600 with 6 Axes>"
      ]
     },
     "metadata": {},
     "output_type": "display_data"
    }
   ],
   "source": [
    "display_gallery(Xtrain.tail(6), ytrain.tail(6))"
   ]
  },
  {
   "cell_type": "markdown",
   "metadata": {},
   "source": [
    "We can see that all gowns are labeled 1 and all longsleeves are labeled 0. Let's look at class imbalance."
   ]
  },
  {
   "cell_type": "code",
   "execution_count": 5,
   "metadata": {},
   "outputs": [
    {
     "name": "stdout",
     "output_type": "stream",
     "text": [
      "Positive rate: 49.3%\n"
     ]
    }
   ],
   "source": [
    "print(f'Positive rate: {ytrain.mean():.1%}')"
   ]
  },
  {
   "cell_type": "markdown",
   "metadata": {},
   "source": [
    "We can say that dataset is perferctly balanced as $0.7%$ deviation is neglectable.\n",
    "\n",
    "In purely tabular dataset we would inspect statistical measures of different features. Here it would be meaningless to talk about **pixel122** kurtosis. Nevertheless, it would be interesting to see averages  and variances of individual pixels. First one will give us a taste of what are we working with and later one will most probably show regions that will be important for classification."
   ]
  },
  {
   "cell_type": "code",
   "execution_count": 6,
   "metadata": {},
   "outputs": [
    {
     "data": {
      "image/png": "[encoded data removed]",
      "text/plain": [
       "<Figure size 900x600 with 7 Axes>"
      ]
     },
     "metadata": {},
     "output_type": "display_data"
    }
   ],
   "source": [
    "from matplotlib.cm import ScalarMappable\n",
    "fig, [[axm, axm0, axm1], [axs, axs0, axs1]] = plt.subplots(2, 3, figsize=(9, 6))\n",
    "\n",
    "\n",
    "display_img(axm,  Xtrain.mean().values,              'Dataset Mean', prefix_label='')\n",
    "display_img(axm0, Xtrain[ytrain == 0].mean().values, 'Label:0 Mean', prefix_label='')\n",
    "display_img(axm1, Xtrain[ytrain == 1].mean().values, 'Label:1 Mean', prefix_label='')\n",
    "\n",
    "display_img(axs,  Xtrain.std().values,              'Dataset Std', kw_imshow={'cmap':'plasma', 'vmin':0, 'vmax':100}, prefix_label='')\n",
    "display_img(axs0, Xtrain[ytrain == 0].std().values, 'Label:0 Std', kw_imshow={'cmap':'plasma', 'vmin':0, 'vmax':100}, prefix_label='')\n",
    "display_img(axs1, Xtrain[ytrain == 1].std().values, 'Label:1 Std', kw_imshow={'cmap':'plasma', 'vmin':0, 'vmax':100}, prefix_label='')\n",
    "\n",
    "sm = ScalarMappable(cmap='plasma')\n",
    "sm.set_clim(0, 100)\n",
    "_=fig.colorbar(\n",
    "    sm,\n",
    "    ax=[axs, axs0, axs1],\n",
    "    location='bottom',\n",
    "    aspect=70,\n",
    "    fraction=0.025\n",
    ")"
   ]
  },
  {
   "cell_type": "markdown",
   "metadata": {},
   "source": [
    "We can see that the biggest differentiation will be amid edges and center horizontally. Another thing to note is that borders have extremly low deviation, which alignes with our perception of a photo being centered.\n",
    "\n",
    "## Applying Models"
   ]
  },
  {
   "cell_type": "code",
   "execution_count": 7,
   "metadata": {},
   "outputs": [],
   "source": [
    "from sklearn.metrics import accuracy_score\n",
    "\n",
    "scores = []\n",
    "\n",
    "def evaluate_model(model, Xtrain=Xtrain, Xval=Xval, ytrain=ytrain, yval=yval, add_to_scores=False):\n",
    "    model.fit(Xtrain, ytrain)\n",
    "    train_acc = accuracy_score(ytrain, model.predict(Xtrain))\n",
    "    val_acc   = accuracy_score(yval,   model.predict(Xval))\n",
    "    if add_to_scores:\n",
    "        global scores\n",
    "        scores.append((val_acc, train_acc, model, model.get_params()))\n",
    "    return val_acc"
   ]
  },
  {
   "cell_type": "markdown",
   "metadata": {},
   "source": [
    "### Support Vector Machines\n",
    "\n",
    "SVM can be good because it is a very flexible model that can express otherwise-hard-to-model interactions between features. We will try out **Gaussian** and **Polyominal** square and qubic kernels.\n",
    "\n",
    "Hyperparameter **C** is equivalent to inverse of regularisation parameter of linear models, so it can be searched as a maximization of validation accuracy."
   ]
  },
  {
   "cell_type": "code",
   "execution_count": 8,
   "metadata": {},
   "outputs": [],
   "source": [
    "from sklearn.svm import SVC\n",
    "from scipy.optimize import minimize_scalar\n",
    "\n",
    "def svm_hp_search(kernel, degree=1):\n",
    "    def func(C):\n",
    "        global Xtrain, Xval, ytrain, yval\n",
    "        model = SVC(kernel=kernel, degree=degree, C=C).fit(Xtrain, ytrain)\n",
    "        return -accuracy_score(yval, model.predict(Xval))\n",
    "    res = minimize_scalar(func, bounds=(0, 10e6), method='bounded')\n",
    "    print(f\"Kernel:       {kernel}\")\n",
    "    print(f\"Degree:       {degree}\")\n",
    "    print(f\"Val accuracy: {-res.fun:.3%}\")\n",
    "    print(f\"C:            {res.x:.3f}\")\n",
    "    evaluate_model(SVC(kernel=kernel, degree=degree, C=res.x), add_to_scores=True)"
   ]
  },
  {
   "cell_type": "code",
   "execution_count": 9,
   "metadata": {},
   "outputs": [
    {
     "name": "stdout",
     "output_type": "stream",
     "text": [
      "Kernel:       poly\n",
      "Degree:       2\n",
      "Val accuracy: 96.333%\n",
      "C:            9999999.849\n",
      "\n",
      "Kernel:       poly\n",
      "Degree:       3\n",
      "Val accuracy: 95.000%\n",
      "C:            9999999.849\n",
      "\n",
      "Kernel:       rbf\n",
      "Degree:       1\n",
      "Val accuracy: 95.000%\n",
      "C:            9999999.849\n",
      "\n"
     ]
    }
   ],
   "source": [
    "svm_hp_search('poly', 2)\n",
    "print('')\n",
    "svm_hp_search('poly', 3)\n",
    "print('')\n",
    "svm_hp_search('rbf')\n",
    "print('')"
   ]
  },
  {
   "cell_type": "markdown",
   "metadata": {},
   "source": [
    "All **C** values are close to upper bound of searched spaced, note that raising it will not change result, because **C** is inverse we found parameters that yield the least regularized models and increasing **C** further will change *Xi* term's impact only slightly.\n",
    "\n",
    "### Naive Bayes (Gaussian)\n",
    "\n",
    "Naive Bayes could be a good fit for this task due to its invariance to number of dimensions. On other hand Naive Bayes assumes that features are independent, which is not true in our case (think pixel sleeves).\n",
    "\n",
    "We will model pixel variables with a Gaussian distribution for Naive Bayes. It is not the best distribution for our case, we might have pixels darker than $0$ and brither than $255$, but All models are wrong."
   ]
  },
  {
   "cell_type": "code",
   "execution_count": 10,
   "metadata": {},
   "outputs": [
    {
     "name": "stdout",
     "output_type": "stream",
     "text": [
      "Training   accuracy: 86.556%\n",
      "Validation accuracy: 82.000%\n"
     ]
    }
   ],
   "source": [
    "from sklearn.naive_bayes import GaussianNB\n",
    "\n",
    "evaluate_model(GaussianNB(), add_to_scores=True)\n",
    "val_acc, train_acc, _, __ = scores[-1]\n",
    "print(f\"Training   accuracy: {train_acc:.3%}\")\n",
    "print(f\"Validation accuracy: {val_acc:.3%}\")"
   ]
  },
  {
   "cell_type": "markdown",
   "metadata": {},
   "source": [
    "In spite of wrong assumptions and poor choice of distribution, results are not too bad.\n",
    "\n",
    "### Naive Bayes (Bernoulli)\n",
    "\n",
    "Until now we have viewed pixels as discrete values between $0$ and $255$, but they can be viewed as a being either white or dark. This leads to Bernoulli distibution for each pixel. We need to decide where we want to put separate light pixels from black ones. One obvious choice will be $147.5 = 255 / 2$. We will also test other approach where we learn those borders from data."
   ]
  },
  {
   "cell_type": "code",
   "execution_count": 11,
   "metadata": {},
   "outputs": [
    {
     "name": "stdout",
     "output_type": "stream",
     "text": [
      "Discretize at 147.5\n",
      "Training   accuracy: 85.222%\n",
      "Validation accuracy: 81.667%\n"
     ]
    }
   ],
   "source": [
    "from sklearn.naive_bayes import BernoulliNB\n",
    "\n",
    "evaluate_model(BernoulliNB(binarize=147.5), add_to_scores=True)\n",
    "val_acc, train_acc, _, __ = scores[-1]\n",
    "print( \"Discretize at 147.5\")\n",
    "print(f\"Training   accuracy: {train_acc:.3%}\")\n",
    "print(f\"Validation accuracy: {val_acc:.3%}\")"
   ]
  },
  {
   "cell_type": "code",
   "execution_count": 12,
   "metadata": {},
   "outputs": [
    {
     "name": "stdout",
     "output_type": "stream",
     "text": [
      "Data driven discretization\n",
      "Training   accuracy: 87.111%\n",
      "Validation accuracy: 83.333%\n"
     ]
    }
   ],
   "source": [
    "from sklearn.pipeline import make_pipeline as pipeline\n",
    "from sklearn.preprocessing import KBinsDiscretizer\n",
    "import warnings\n",
    "\n",
    "with warnings.catch_warnings(action=\"ignore\"): # Screams 100 times\n",
    "    evaluate_model(\n",
    "        pipeline(KBinsDiscretizer(2, encode='onehot-dense', random_state=RND_SEED), BernoulliNB()), \n",
    "        add_to_scores=True\n",
    "    )\n",
    "val_acc, train_acc, _, __ = scores[-1]\n",
    "print( \"Data driven discretization\")\n",
    "print(f\"Training   accuracy: {train_acc:.3%}\")\n",
    "print(f\"Validation accuracy: {val_acc:.3%}\")"
   ]
  },
  {
   "cell_type": "markdown",
   "metadata": {},
   "source": [
    "Discretizeing at 147.5 yields worse results than Gaussian Naive Bayes, but adjusting bins for each individual pixel produces better results. Though, it is still far behind SVM.\n",
    "\n",
    "### LDA"
   ]
  },
  {
   "cell_type": "code",
   "execution_count": 13,
   "metadata": {},
   "outputs": [
    {
     "name": "stdout",
     "output_type": "stream",
     "text": [
      "Training   accuracy: 98.444%\n",
      "Validation accuracy: 93.333%\n"
     ]
    }
   ],
   "source": [
    "from sklearn.discriminant_analysis import LinearDiscriminantAnalysis as LDA\n",
    "\n",
    "evaluate_model(LDA(solver='lsqr',shrinkage='auto'), add_to_scores=True)\n",
    "val_acc, train_acc, _, __ = scores[-1]\n",
    "print(f\"Training   accuracy: {train_acc:.3%}\")\n",
    "print(f\"Validation accuracy: {val_acc:.3%}\")"
   ]
  },
  {
   "cell_type": "markdown",
   "metadata": {},
   "source": [
    "### Generation"
   ]
  },
  {
   "cell_type": "code",
   "execution_count": 14,
   "metadata": {},
   "outputs": [
    {
     "data": {
      "text/plain": [
       "Ellipsis"
      ]
     },
     "execution_count": 14,
     "metadata": {},
     "output_type": "execute_result"
    }
   ],
   "source": [
    "..."
   ]
  },
  {
   "cell_type": "markdown",
   "metadata": {},
   "source": [
    "## Dimensionsionality Reduction"
   ]
  },
  {
   "cell_type": "code",
   "execution_count": 15,
   "metadata": {},
   "outputs": [
    {
     "data": {
      "text/plain": [
       "Ellipsis"
      ]
     },
     "execution_count": 15,
     "metadata": {},
     "output_type": "execute_result"
    }
   ],
   "source": [
    "..."
   ]
  },
  {
   "cell_type": "markdown",
   "metadata": {},
   "source": [
    "### PCA"
   ]
  },
  {
   "cell_type": "code",
   "execution_count": 16,
   "metadata": {},
   "outputs": [
    {
     "data": {
      "text/plain": [
       "Ellipsis"
      ]
     },
     "execution_count": 16,
     "metadata": {},
     "output_type": "execute_result"
    }
   ],
   "source": [
    "..."
   ]
  },
  {
   "cell_type": "markdown",
   "metadata": {},
   "source": [
    "### LLE"
   ]
  },
  {
   "cell_type": "code",
   "execution_count": 17,
   "metadata": {},
   "outputs": [
    {
     "data": {
      "text/plain": [
       "Ellipsis"
      ]
     },
     "execution_count": 17,
     "metadata": {},
     "output_type": "execute_result"
    }
   ],
   "source": [
    "..."
   ]
  },
  {
   "cell_type": "markdown",
   "metadata": {},
   "source": [
    "## Testing & Evaluation"
   ]
  },
  {
   "cell_type": "code",
   "execution_count": 18,
   "metadata": {},
   "outputs": [
    {
     "data": {
      "text/plain": [
       "Ellipsis"
      ]
     },
     "execution_count": 18,
     "metadata": {},
     "output_type": "execute_result"
    }
   ],
   "source": [
    "..."
   ]
  },
  {
   "cell_type": "markdown",
   "metadata": {},
   "source": [
    "## Conclusion"
   ]
  }
 ],
 "metadata": {
  "kernelspec": {
   "display_name": "Python 3 (ipykernel)",
   "language": "python",
   "name": "python3"
  },
  "language_info": {
   "codemirror_mode": {
    "name": "ipython",
    "version": 3
   },
   "file_extension": ".py",
   "mimetype": "text/x-python",
   "name": "python",
   "nbconvert_exporter": "python",
   "pygments_lexer": "ipython3",
   "version": "3.12.3"
  }
 },
 "nbformat": 4,
 "nbformat_minor": 4
}
