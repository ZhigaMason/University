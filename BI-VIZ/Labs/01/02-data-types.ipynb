{
 "cells": [
  {
   "cell_type": "markdown",
   "id": "59063b52",
   "metadata": {},
   "source": [
    "# 🧑‍💻 Ukázka typů dat "
   ]
  },
  {
   "cell_type": "markdown",
   "id": "43c7453c",
   "metadata": {},
   "source": [
    "Balíček `pandas` umožňuje práci s několika datovými typy, které jsou datům přiřazeny automaticky při jejich čtení.\n",
    "\n",
    "☝️ Ne vždy se ale jedná o správně přidělený typ dat! Během úvodního průzkumu dat je tak na nás tento formát zkontrolovat a případně upravit - tzv. konverze/přetypování datového typu (angl. data conversion). Tento krok je součástí předzpracování dat, kdy se věnujeme jejich čištění - to je proces, kdy hledáme a následně opravujeme poškozené nebo nepřesné záznamy. Pod opravou dat se skrývá jak modifikace, tak jejich nahrazení nebo smazání."
   ]
  },
  {
   "cell_type": "markdown",
   "id": "cd4a77d5",
   "metadata": {},
   "source": [
    "## 🐼 Datové typy v `pandas`"
   ]
  },
  {
   "cell_type": "markdown",
   "id": "600a737a",
   "metadata": {},
   "source": [
    "V `pandas` rozlišujeme mezi numerickými (tj. číselnými) a textovými datovými typy.\n",
    "\n",
    "🔢 **Numerické** datové typy zahrnují: \n",
    "- `integer` - čísla bez desetinné čárky, tzn. že jsou čísla uložena jako celočíselná (např. '1.3' jako '1'). V `pandas` se často jedná o 64 bitový integer `int64`. Nicméně existuje i 32 bitová varianta `int32`.\n",
    "- `float` - čísla s desetinnou čárkou, včetně celých čísel (např. '0' je uložena jako '0.0'). I zde se jedná o 64 bitový float `float64` a 32 bitovou variantu `float32`.\n",
    "\n",
    "Pokud se ve sloupci nachází kombinace integerů a floatů, `pandas` celý sloupec označí za float, takže žádná desetinná čísla nejsou ztracena.\n",
    "\n",
    "🔤 **Textové** datové typy představují:\n",
    "- `string` - tak je text je reprezentován v Pythonu. Řetězec může obsahovat znaky i čísla, může se jednat o slovo, větu nebo dokonce několik vět.\n",
    "- `object` - tak se nazývá řetězec/text v `pandas` a může mít stejnou reprezentaci jako `string`. Navíc může být objektem i graf. \n",
    "\n",
    "❗️Tzn. že jako `string` můžeme uložit i '123' nebo '1.23', ale nemůžeme s ním provádět **žádné matematické operace**. ❌\n",
    "\n",
    "Posledním datovým typem, který můžete defaultně potkat, patří:\n",
    "- `datetime` - reprezentovaný v `pandas` jako `datetime64` nebo `timedelta` v [ns]. Jedná se o formát, který je vyhrazený pro časové záznamy (datum, čas, rozdíl časových údajů). Nejčastěji se s ním setkáte u časových řad a jeho formátování občas skýtá mnoho radostí. Pro reprezentaci v nativním Pythonu se podívejte na [dokumentaci](https://docs.python.org/2/library/datetime.html).\n",
    "\n",
    "My se při konverzi dat setkáme ještě s datovým typem `category`. Více si povíme níže. 🔜"
   ]
  },
  {
   "cell_type": "markdown",
   "id": "fb7e3511",
   "metadata": {},
   "source": [
    "## 🕵🏼 Průzkum datových typů\n",
    "\n",
    "Ukažme si práci s datovými typy na vzorových datech o pizze. 🍕"
   ]
  },
  {
   "cell_type": "code",
   "execution_count": 27,
   "id": "b2595f47",
   "metadata": {},
   "outputs": [],
   "source": [
    "# import knihoven\n",
    "import pandas as pd\n",
    "import numpy as np"
   ]
  },
  {
   "cell_type": "code",
   "execution_count": 15,
   "id": "27e84ff2",
   "metadata": {},
   "outputs": [],
   "source": [
    "# vytvoření datasetu\n",
    "data = {\"Pizza\": [\"Margherita\", \"Diavola\", \"Quattro Formaggi\", \"Hawai\", \"Tonno\"],\n",
    "        \"Sugo\": [\"tomato\", \"tomato\", \"cream\", \"tomato\", \"tomato\"],\n",
    "        \"Difficulty\": [\"1\", \"3\", \"3\", \"1\", \"5\"],\n",
    "        \"Menu\": [\"Monday\", \"Tuesday\", \"Wednesday\", \"Friday\", \"Thursday\"],\n",
    "        \"Price\": [\"125\", \"155.5\", \"148\", \"130.9\", \"185\"],\n",
    "        \"Sold\": [\"78\", \"56\", \"67\", \"42\", \"54\"],\n",
    "        \"Updated\": [\"29/06/2011\", \"30/12/2020\", \"31/07/2013\", \"28/11/2000\", \"25/12/2020\"]}"
   ]
  },
  {
   "cell_type": "code",
   "execution_count": 16,
   "id": "af95e5e7",
   "metadata": {},
   "outputs": [
    {
     "data": {
      "text/plain": [
       "pandas.core.frame.DataFrame"
      ]
     },
     "execution_count": 16,
     "metadata": {},
     "output_type": "execute_result"
    }
   ],
   "source": [
    "# vytvoření DataFrame\n",
    "df = pd.DataFrame(data)\n",
    "df1 = df.copy()\n",
    "# typ objektu\n",
    "type(df1)"
   ]
  },
  {
   "cell_type": "code",
   "execution_count": 17,
   "id": "f292f99a",
   "metadata": {},
   "outputs": [
    {
     "data": {
      "text/html": [
       "<div>\n",
       "<style scoped>\n",
       "    .dataframe tbody tr th:only-of-type {\n",
       "        vertical-align: middle;\n",
       "    }\n",
       "\n",
       "    .dataframe tbody tr th {\n",
       "        vertical-align: top;\n",
       "    }\n",
       "\n",
       "    .dataframe thead th {\n",
       "        text-align: right;\n",
       "    }\n",
       "</style>\n",
       "<table border=\"1\" class=\"dataframe\">\n",
       "  <thead>\n",
       "    <tr style=\"text-align: right;\">\n",
       "      <th></th>\n",
       "      <th>Pizza</th>\n",
       "      <th>Sugo</th>\n",
       "      <th>Difficulty</th>\n",
       "      <th>Menu</th>\n",
       "      <th>Price</th>\n",
       "      <th>Sold</th>\n",
       "      <th>Updated</th>\n",
       "    </tr>\n",
       "  </thead>\n",
       "  <tbody>\n",
       "    <tr>\n",
       "      <th>0</th>\n",
       "      <td>Margherita</td>\n",
       "      <td>tomato</td>\n",
       "      <td>1</td>\n",
       "      <td>Monday</td>\n",
       "      <td>125</td>\n",
       "      <td>78</td>\n",
       "      <td>29/06/2011</td>\n",
       "    </tr>\n",
       "    <tr>\n",
       "      <th>1</th>\n",
       "      <td>Diavola</td>\n",
       "      <td>tomato</td>\n",
       "      <td>3</td>\n",
       "      <td>Tuesday</td>\n",
       "      <td>155.5</td>\n",
       "      <td>56</td>\n",
       "      <td>30/12/2020</td>\n",
       "    </tr>\n",
       "    <tr>\n",
       "      <th>2</th>\n",
       "      <td>Quattro Formaggi</td>\n",
       "      <td>cream</td>\n",
       "      <td>3</td>\n",
       "      <td>Wednesday</td>\n",
       "      <td>148</td>\n",
       "      <td>67</td>\n",
       "      <td>31/07/2013</td>\n",
       "    </tr>\n",
       "    <tr>\n",
       "      <th>3</th>\n",
       "      <td>Hawai</td>\n",
       "      <td>tomato</td>\n",
       "      <td>1</td>\n",
       "      <td>Friday</td>\n",
       "      <td>130.9</td>\n",
       "      <td>42</td>\n",
       "      <td>28/11/2000</td>\n",
       "    </tr>\n",
       "    <tr>\n",
       "      <th>4</th>\n",
       "      <td>Tonno</td>\n",
       "      <td>tomato</td>\n",
       "      <td>5</td>\n",
       "      <td>Thursday</td>\n",
       "      <td>185</td>\n",
       "      <td>54</td>\n",
       "      <td>25/12/2020</td>\n",
       "    </tr>\n",
       "  </tbody>\n",
       "</table>\n",
       "</div>"
      ],
      "text/plain": [
       "              Pizza    Sugo Difficulty       Menu  Price Sold     Updated\n",
       "0        Margherita  tomato          1     Monday    125   78  29/06/2011\n",
       "1           Diavola  tomato          3    Tuesday  155.5   56  30/12/2020\n",
       "2  Quattro Formaggi   cream          3  Wednesday    148   67  31/07/2013\n",
       "3             Hawai  tomato          1     Friday  130.9   42  28/11/2000\n",
       "4             Tonno  tomato          5   Thursday    185   54  25/12/2020"
      ]
     },
     "execution_count": 17,
     "metadata": {},
     "output_type": "execute_result"
    }
   ],
   "source": [
    "# 5 prvních řádků\n",
    "df1.head()"
   ]
  },
  {
   "cell_type": "code",
   "execution_count": 18,
   "id": "50ceeb97",
   "metadata": {},
   "outputs": [
    {
     "data": {
      "text/plain": [
       "Pizza         object\n",
       "Sugo          object\n",
       "Difficulty    object\n",
       "Menu          object\n",
       "Price         object\n",
       "Sold          object\n",
       "Updated       object\n",
       "dtype: object"
      ]
     },
     "execution_count": 18,
     "metadata": {},
     "output_type": "execute_result"
    }
   ],
   "source": [
    "# datový typ každé proměnné\n",
    "df1.dtypes"
   ]
  },
  {
   "cell_type": "code",
   "execution_count": 19,
   "id": "3a13ab66",
   "metadata": {},
   "outputs": [
    {
     "data": {
      "text/plain": [
       "dtype('O')"
      ]
     },
     "execution_count": 19,
     "metadata": {},
     "output_type": "execute_result"
    }
   ],
   "source": [
    "# datový typ jedné proměnné\n",
    "df1[\"Price\"].dtype"
   ]
  },
  {
   "cell_type": "markdown",
   "id": "79f91171",
   "metadata": {},
   "source": [
    "Typ ‘O’ představuje `object`. \n",
    "\n",
    "🔎 Mezi další způsob, jak zobrazit datové typy, patří metoda [pandas.DataFrame.select_dtypes()](https://pandas.pydata.org/docs/reference/api/pandas.DataFrame.select_dtypes.html), které musíme zadat, jaký datový typ chceme prohlížet:"
   ]
  },
  {
   "cell_type": "code",
   "execution_count": 20,
   "id": "e49ea302",
   "metadata": {},
   "outputs": [
    {
     "data": {
      "text/html": [
       "<div>\n",
       "<style scoped>\n",
       "    .dataframe tbody tr th:only-of-type {\n",
       "        vertical-align: middle;\n",
       "    }\n",
       "\n",
       "    .dataframe tbody tr th {\n",
       "        vertical-align: top;\n",
       "    }\n",
       "\n",
       "    .dataframe thead th {\n",
       "        text-align: right;\n",
       "    }\n",
       "</style>\n",
       "<table border=\"1\" class=\"dataframe\">\n",
       "  <thead>\n",
       "    <tr style=\"text-align: right;\">\n",
       "      <th></th>\n",
       "    </tr>\n",
       "  </thead>\n",
       "  <tbody>\n",
       "    <tr>\n",
       "      <th>0</th>\n",
       "    </tr>\n",
       "    <tr>\n",
       "      <th>1</th>\n",
       "    </tr>\n",
       "    <tr>\n",
       "      <th>2</th>\n",
       "    </tr>\n",
       "    <tr>\n",
       "      <th>3</th>\n",
       "    </tr>\n",
       "    <tr>\n",
       "      <th>4</th>\n",
       "    </tr>\n",
       "  </tbody>\n",
       "</table>\n",
       "</div>"
      ],
      "text/plain": [
       "Empty DataFrame\n",
       "Columns: []\n",
       "Index: [0, 1, 2, 3, 4]"
      ]
     },
     "execution_count": 20,
     "metadata": {},
     "output_type": "execute_result"
    }
   ],
   "source": [
    "# všechny příznaky typu `int64`\n",
    "df1.select_dtypes(include=['int64']).head()"
   ]
  },
  {
   "cell_type": "code",
   "execution_count": 21,
   "id": "3673c7a7",
   "metadata": {},
   "outputs": [
    {
     "name": "stdout",
     "output_type": "stream",
     "text": [
      "<class 'pandas.core.frame.DataFrame'>\n",
      "RangeIndex: 5 entries, 0 to 4\n",
      "Data columns (total 7 columns):\n",
      " #   Column      Non-Null Count  Dtype \n",
      "---  ------      --------------  ----- \n",
      " 0   Pizza       5 non-null      object\n",
      " 1   Sugo        5 non-null      object\n",
      " 2   Difficulty  5 non-null      object\n",
      " 3   Menu        5 non-null      object\n",
      " 4   Price       5 non-null      object\n",
      " 5   Sold        5 non-null      object\n",
      " 6   Updated     5 non-null      object\n",
      "dtypes: object(7)\n",
      "memory usage: 412.0+ bytes\n"
     ]
    }
   ],
   "source": [
    "# podrobnější info o DataFrame\n",
    "df1.info()"
   ]
  },
  {
   "cell_type": "markdown",
   "id": "e674ec9a",
   "metadata": {},
   "source": [
    "Z výpisu výše vidíme, že ne všechna data mají přiřazený správný datový typ. Čekají nás tedy následující úpravy:\n",
    "- \"Pizza\" jako nominální příznak,\n",
    "- \"Sugo\" binární,\n",
    "- \"Difficulty\" jako ordinální, ale reprezentován číselně,\n",
    "- \"Menu\" nominální, případně ordinální,\n",
    "- \"Price\" je `float`, jenže byl zadán pomocí uvozovek jako `string`,\n",
    "- \"Sold\" je `integer`, -||-,\n",
    "- \"Updated\" by měl být reprezentován jako `datetime`."
   ]
  },
  {
   "cell_type": "markdown",
   "id": "ef1e0d6a",
   "metadata": {},
   "source": [
    "## 👀 Motivace\n",
    "\n",
    "Proč se tím vůbec zaobíráme v předmětu o vizualizaci dat? Abychom byli schopni data korektně vykreslit a interpretovat, musíme se nejdříve věnovat jejich **správnému načtení a vyčištění**. Předzpracování dat tak není záležitostí jen pro modelování! ☝️"
   ]
  },
  {
   "cell_type": "code",
   "execution_count": 22,
   "id": "455346fd",
   "metadata": {},
   "outputs": [
    {
     "data": {
      "image/png": "[encoded data removed]",
      "text/plain": [
       "<Figure size 640x480 with 1 Axes>"
      ]
     },
     "metadata": {},
     "output_type": "display_data"
    }
   ],
   "source": [
    "# ukázka chybného grafu\n",
    "import matplotlib.pyplot as plt\n",
    "\n",
    "fig, ax = plt.subplots()\n",
    "ax.bar(df1.Pizza, df1.Sold)\n",
    "ax.set_ylabel('Number of pizzas sold')\n",
    "ax.set_xlabel('Pizza')\n",
    "plt.show()"
   ]
  },
  {
   "cell_type": "markdown",
   "id": "6a5ce7a7",
   "metadata": {},
   "source": [
    "## 🛠 Přetypování pomocí astype()\n",
    "\n",
    "Jedním ze způsobů, jak přetypovat data, je použít funkci [pandas.DataFrame.astype()](https://pandas.pydata.org/docs/reference/api/pandas.DataFrame.astype.html).\n",
    "\n",
    "### 🔢 Přetypování numerických dat"
   ]
  },
  {
   "cell_type": "code",
   "execution_count": 10,
   "id": "be120d61",
   "metadata": {},
   "outputs": [
    {
     "data": {
      "text/plain": [
       "dtype('float64')"
      ]
     },
     "execution_count": 10,
     "metadata": {},
     "output_type": "execute_result"
    }
   ],
   "source": [
    "# přetypování numerického příznaku Price\n",
    "df1[\"Price\"] = df1[\"Price\"].astype(\"float64\")\n",
    "df1[\"Price\"].dtype"
   ]
  },
  {
   "cell_type": "markdown",
   "id": "d3aff077",
   "metadata": {},
   "source": [
    "Tímto způsobem jsme schopni přetypovat většinu zbývajících příznaků na jakýkoliv z dostupných datových typů. Nicméně pokud data nevyhovují zvolenému datovému typu, obdržíme `ValueError`. ⛔️"
   ]
  },
  {
   "cell_type": "code",
   "execution_count": 23,
   "id": "f2f46ea6",
   "metadata": {},
   "outputs": [
    {
     "name": "stdout",
     "output_type": "stream",
     "text": [
      "Ive caught your god damn error, here you have it invalid literal for int() with base 10: 'Margherita'\n"
     ]
    }
   ],
   "source": [
    "try:\n",
    "    df1[\"Pizza\"] = df1[\"Pizza\"].astype(\"int64\")\n",
    "except ValueError as e:\n",
    "    print(\"Ive caught your god damn error, here you have it\", e)"
   ]
  },
  {
   "cell_type": "code",
   "execution_count": 24,
   "id": "94f7df3a",
   "metadata": {},
   "outputs": [
    {
     "data": {
      "text/plain": [
       "dtype('O')"
      ]
     },
     "execution_count": 24,
     "metadata": {},
     "output_type": "execute_result"
    }
   ],
   "source": [
    "df1[\"Pizza\"].dtype"
   ]
  },
  {
   "cell_type": "markdown",
   "id": "d9ff4ba6",
   "metadata": {},
   "source": [
    "Operaci `df[\"column_name\"].astype()` lze použít na následující konverze (bavíme se teď pouze o přetypování numerických dat ☝️):\n",
    "- pokud převádíme stringovou reprezentaci integeru na integer,\n",
    "- pokud převádíme stringovou reprezentaci floatu na float,\n",
    "- pokud převádíme stringovou reprezentaci integeru na float,\n",
    "- pokud převádíme float na integer,\n",
    "- pokud převádíme integer na float.\n",
    "\n",
    "❗️ Pokud převádíme stringové reprezentace, pak `astype()` používáme na každý sloupec zvlášť, případně využijeme dictionary s více názvy sloupců a třeba i různými datovými typy:\n",
    "\n",
    "`df = df.astype({\"column_name1\":\"data_type1\", \"column_name2\":\"data_type2\"})`"
   ]
  },
  {
   "cell_type": "markdown",
   "id": "f9d4477e",
   "metadata": {},
   "source": [
    "Pokud bychom chtěli změnit více numerických příznaků na jiný číselný typ, můžeme použít:\n",
    "\n",
    "`df = df.astype(\"int64\", errors='ignore')`\n",
    "\n",
    "Tento příkaz přetypuje všechny numerické příznaky na `integer`. V našem případě se jedná pouze o \"Price\", kterou jsme již přetypovali na `float64`. Ostatní příznaky by měly zůstat nezměněné (včetně čísel reprezentovaných stringem, bohužel), aniž bychom obdrželi chybovou hlášku (díky `errors='ignore'`)."
   ]
  },
  {
   "cell_type": "code",
   "execution_count": 28,
   "id": "759abdc6",
   "metadata": {},
   "outputs": [
    {
     "name": "stdout",
     "output_type": "stream",
     "text": [
      "<class 'pandas.core.frame.DataFrame'>\n",
      "RangeIndex: 5 entries, 0 to 4\n",
      "Data columns (total 7 columns):\n",
      " #   Column      Non-Null Count  Dtype  \n",
      "---  ------      --------------  -----  \n",
      " 0   Pizza       5 non-null      object \n",
      " 1   Sugo        5 non-null      object \n",
      " 2   Difficulty  5 non-null      object \n",
      " 3   Menu        5 non-null      object \n",
      " 4   Price       5 non-null      float64\n",
      " 5   Sold        5 non-null      object \n",
      " 6   Updated     5 non-null      object \n",
      "dtypes: float64(1), object(6)\n",
      "memory usage: 412.0+ bytes\n"
     ]
    }
   ],
   "source": [
    "df1['Price'] = df1['Price'].astype(np.float64)\n",
    "df1.info()"
   ]
  },
  {
   "cell_type": "markdown",
   "id": "e8c22d38",
   "metadata": {},
   "source": [
    "Nicméně u příznaku \"Price\" takto přijdeme o desetinné místo, takže tahle ukázka je v našem případě zcestná... 🙅 S numerickými daty budeme pokračovat později. 🔜\n",
    "\n",
    "### 🔤 Přetypování kategorických dat\n",
    "\n",
    "☝️ Pomocí metody `astype()` jsme schopni přetypovat i kategorické příznaky. Začněme nominálním příznakem \"Pizza\":"
   ]
  },
  {
   "cell_type": "code",
   "execution_count": 29,
   "id": "45e4fd88",
   "metadata": {},
   "outputs": [
    {
     "data": {
      "text/plain": [
       "CategoricalDtype(categories=['Diavola', 'Hawai', 'Margherita', 'Quattro Formaggi',\n",
       "                  'Tonno'],\n",
       ", ordered=False, categories_dtype=object)"
      ]
     },
     "execution_count": 29,
     "metadata": {},
     "output_type": "execute_result"
    }
   ],
   "source": [
    "# přetypování nominálního příznaku Pizza\n",
    "df1[\"Pizza\"] = df1[\"Pizza\"].astype(\"category\")\n",
    "df1[\"Pizza\"].dtype"
   ]
  },
  {
   "cell_type": "code",
   "execution_count": 30,
   "id": "71968ed4",
   "metadata": {},
   "outputs": [
    {
     "name": "stdout",
     "output_type": "stream",
     "text": [
      "<class 'pandas.core.frame.DataFrame'>\n",
      "RangeIndex: 5 entries, 0 to 4\n",
      "Data columns (total 7 columns):\n",
      " #   Column      Non-Null Count  Dtype   \n",
      "---  ------      --------------  -----   \n",
      " 0   Pizza       5 non-null      category\n",
      " 1   Sugo        5 non-null      object  \n",
      " 2   Difficulty  5 non-null      object  \n",
      " 3   Menu        5 non-null      object  \n",
      " 4   Price       5 non-null      float64 \n",
      " 5   Sold        5 non-null      object  \n",
      " 6   Updated     5 non-null      object  \n",
      "dtypes: category(1), float64(1), object(5)\n",
      "memory usage: 589.0+ bytes\n"
     ]
    }
   ],
   "source": [
    "df1.info()"
   ]
  },
  {
   "cell_type": "markdown",
   "id": "13dde54d",
   "metadata": {},
   "source": [
    "Žádná věda! 💪 \n",
    "\n",
    "V příkladu výše jsme využili výchozího chování `dtype='category'`:\n",
    "- kategorie jsou odvozeny z dat,\n",
    "- kategorie nejsou uspořádané.\n",
    "\n",
    "🧚🏻‍♂️ Pokud bychom chtěli toto chování ovlivnit, použijeme místo `category` instanci typu `CategoricalDtype`. Pozn.: Pokud bychom použili `ordered=False`, pak bychom získali nominální data - je to jeden z možných způsobů."
   ]
  },
  {
   "cell_type": "code",
   "execution_count": 31,
   "id": "00e84cf4",
   "metadata": {
    "scrolled": true
   },
   "outputs": [
    {
     "data": {
      "text/plain": [
       "0       Monday\n",
       "1      Tuesday\n",
       "2    Wednesday\n",
       "3       Friday\n",
       "4     Thursday\n",
       "Name: Menu, dtype: category\n",
       "Categories (5, object): ['Monday' < 'Tuesday' < 'Wednesday' < 'Thursday' < 'Friday']"
      ]
     },
     "execution_count": 31,
     "metadata": {},
     "output_type": "execute_result"
    }
   ],
   "source": [
    "# přetypování ordinálního příznaku Menu (dny v týdnu)\n",
    "\n",
    "from pandas.api.types import CategoricalDtype\n",
    "\n",
    "cat_dtypeMenu = CategoricalDtype(categories=[\"Monday\", \"Tuesday\", \"Wednesday\", \"Thursday\", \"Friday\"], \n",
    "                                 ordered=True)\n",
    "\n",
    "df1[\"Menu\"] = df1[\"Menu\"].astype(cat_dtypeMenu)\n",
    "df1[\"Menu\"]"
   ]
  },
  {
   "cell_type": "markdown",
   "id": "2300bd0d",
   "metadata": {},
   "source": [
    "⭐️ **Vyzkoušejte si sami:**\n",
    "Stejným způsobem můžete přetypovat ordinální příznak 'Difficulty', který vyjadřuje obtížnost přípravy pokrmu. ⭐️"
   ]
  },
  {
   "cell_type": "code",
   "execution_count": 32,
   "id": "7488753e",
   "metadata": {},
   "outputs": [
    {
     "data": {
      "text/html": [
       "<div>\n",
       "<style scoped>\n",
       "    .dataframe tbody tr th:only-of-type {\n",
       "        vertical-align: middle;\n",
       "    }\n",
       "\n",
       "    .dataframe tbody tr th {\n",
       "        vertical-align: top;\n",
       "    }\n",
       "\n",
       "    .dataframe thead th {\n",
       "        text-align: right;\n",
       "    }\n",
       "</style>\n",
       "<table border=\"1\" class=\"dataframe\">\n",
       "  <thead>\n",
       "    <tr style=\"text-align: right;\">\n",
       "      <th></th>\n",
       "      <th>Pizza</th>\n",
       "      <th>Sugo</th>\n",
       "      <th>Difficulty</th>\n",
       "      <th>Menu</th>\n",
       "      <th>Price</th>\n",
       "      <th>Sold</th>\n",
       "      <th>Updated</th>\n",
       "    </tr>\n",
       "  </thead>\n",
       "  <tbody>\n",
       "    <tr>\n",
       "      <th>0</th>\n",
       "      <td>Margherita</td>\n",
       "      <td>tomato</td>\n",
       "      <td>1</td>\n",
       "      <td>Monday</td>\n",
       "      <td>125.0</td>\n",
       "      <td>78</td>\n",
       "      <td>29/06/2011</td>\n",
       "    </tr>\n",
       "    <tr>\n",
       "      <th>1</th>\n",
       "      <td>Diavola</td>\n",
       "      <td>tomato</td>\n",
       "      <td>3</td>\n",
       "      <td>Tuesday</td>\n",
       "      <td>155.5</td>\n",
       "      <td>56</td>\n",
       "      <td>30/12/2020</td>\n",
       "    </tr>\n",
       "    <tr>\n",
       "      <th>2</th>\n",
       "      <td>Quattro Formaggi</td>\n",
       "      <td>cream</td>\n",
       "      <td>3</td>\n",
       "      <td>Wednesday</td>\n",
       "      <td>148.0</td>\n",
       "      <td>67</td>\n",
       "      <td>31/07/2013</td>\n",
       "    </tr>\n",
       "    <tr>\n",
       "      <th>3</th>\n",
       "      <td>Hawai</td>\n",
       "      <td>tomato</td>\n",
       "      <td>1</td>\n",
       "      <td>Friday</td>\n",
       "      <td>130.9</td>\n",
       "      <td>42</td>\n",
       "      <td>28/11/2000</td>\n",
       "    </tr>\n",
       "    <tr>\n",
       "      <th>4</th>\n",
       "      <td>Tonno</td>\n",
       "      <td>tomato</td>\n",
       "      <td>5</td>\n",
       "      <td>Thursday</td>\n",
       "      <td>185.0</td>\n",
       "      <td>54</td>\n",
       "      <td>25/12/2020</td>\n",
       "    </tr>\n",
       "  </tbody>\n",
       "</table>\n",
       "</div>"
      ],
      "text/plain": [
       "              Pizza    Sugo Difficulty       Menu  Price Sold     Updated\n",
       "0        Margherita  tomato          1     Monday  125.0   78  29/06/2011\n",
       "1           Diavola  tomato          3    Tuesday  155.5   56  30/12/2020\n",
       "2  Quattro Formaggi   cream          3  Wednesday  148.0   67  31/07/2013\n",
       "3             Hawai  tomato          1     Friday  130.9   42  28/11/2000\n",
       "4             Tonno  tomato          5   Thursday  185.0   54  25/12/2020"
      ]
     },
     "execution_count": 32,
     "metadata": {},
     "output_type": "execute_result"
    }
   ],
   "source": [
    "df1"
   ]
  },
  {
   "cell_type": "markdown",
   "id": "20df1fc4",
   "metadata": {},
   "source": [
    "Pro další práci s kategorickými daty se můžete podívat do [dokumentace](https://pandas.pydata.org/docs/user_guide/categorical.html)."
   ]
  },
  {
   "cell_type": "markdown",
   "id": "1abeda18",
   "metadata": {},
   "source": [
    "## 🛠 Přetypování pomocí to_DataType()\n",
    "\n",
    "Dalším způsobem je použít funkci [pandas.DataFrame.to_numeric()](https://pandas.pydata.org/docs/reference/api/pandas.to_numeric.html#pandas.to_numeric) nebo [pandas.DataFrame.to_datetime()](https://pandas.pydata.org/docs/reference/api/pandas.to_datetime.html#pandas.to_datetime).\n",
    "\n",
    "Při použití `to_numeric()` dojde k automatickému přetypování numerických příznaků na `float64` nebo `int64`."
   ]
  },
  {
   "cell_type": "code",
   "execution_count": 33,
   "id": "f8e3c9e3",
   "metadata": {},
   "outputs": [
    {
     "name": "stdout",
     "output_type": "stream",
     "text": [
      "<class 'pandas.core.frame.DataFrame'>\n",
      "RangeIndex: 5 entries, 0 to 4\n",
      "Data columns (total 7 columns):\n",
      " #   Column      Non-Null Count  Dtype \n",
      "---  ------      --------------  ----- \n",
      " 0   Pizza       5 non-null      object\n",
      " 1   Sugo        5 non-null      object\n",
      " 2   Difficulty  5 non-null      object\n",
      " 3   Menu        5 non-null      object\n",
      " 4   Price       5 non-null      object\n",
      " 5   Sold        5 non-null      object\n",
      " 6   Updated     5 non-null      object\n",
      "dtypes: object(7)\n",
      "memory usage: 412.0+ bytes\n"
     ]
    }
   ],
   "source": [
    "df2 = df.copy()\n",
    "df2.info()"
   ]
  },
  {
   "cell_type": "code",
   "execution_count": 34,
   "id": "46817cdf",
   "metadata": {},
   "outputs": [],
   "source": [
    "df2[\"Sold\"]=pd.to_numeric(df2[\"Sold\"])"
   ]
  },
  {
   "cell_type": "code",
   "execution_count": 35,
   "id": "9a819010",
   "metadata": {},
   "outputs": [
    {
     "name": "stdout",
     "output_type": "stream",
     "text": [
      "<class 'pandas.core.frame.DataFrame'>\n",
      "RangeIndex: 5 entries, 0 to 4\n",
      "Data columns (total 7 columns):\n",
      " #   Column      Non-Null Count  Dtype \n",
      "---  ------      --------------  ----- \n",
      " 0   Pizza       5 non-null      object\n",
      " 1   Sugo        5 non-null      object\n",
      " 2   Difficulty  5 non-null      object\n",
      " 3   Menu        5 non-null      object\n",
      " 4   Price       5 non-null      object\n",
      " 5   Sold        5 non-null      int64 \n",
      " 6   Updated     5 non-null      object\n",
      "dtypes: int64(1), object(6)\n",
      "memory usage: 412.0+ bytes\n"
     ]
    }
   ],
   "source": [
    "df2.info()"
   ]
  },
  {
   "cell_type": "markdown",
   "id": "43eb2cee",
   "metadata": {},
   "source": [
    "⚡️Pro přetypování více sloupců můžeme využít metodu `apply()`:"
   ]
  },
  {
   "cell_type": "code",
   "execution_count": 36,
   "id": "da75aaf9",
   "metadata": {},
   "outputs": [
    {
     "name": "stdout",
     "output_type": "stream",
     "text": [
      "<class 'pandas.core.frame.DataFrame'>\n",
      "RangeIndex: 5 entries, 0 to 4\n",
      "Data columns (total 7 columns):\n",
      " #   Column      Non-Null Count  Dtype  \n",
      "---  ------      --------------  -----  \n",
      " 0   Pizza       5 non-null      object \n",
      " 1   Sugo        5 non-null      object \n",
      " 2   Difficulty  5 non-null      int64  \n",
      " 3   Menu        5 non-null      object \n",
      " 4   Price       5 non-null      float64\n",
      " 5   Sold        5 non-null      int64  \n",
      " 6   Updated     5 non-null      object \n",
      "dtypes: float64(1), int64(2), object(4)\n",
      "memory usage: 412.0+ bytes\n"
     ]
    }
   ],
   "source": [
    "df2[[\"Difficulty\", \"Price\"]] = df2[[\"Difficulty\",\"Price\"]].apply(pd.to_numeric)\n",
    "df2.info()"
   ]
  },
  {
   "cell_type": "markdown",
   "id": "381cab91",
   "metadata": {},
   "source": [
    "Vidíte, že oba sloupce byly přetypovány správně na `int64` a `float64`. Pojďme ještě vyzkoušet `to_datetime()` na příznaku \"Updated\" ⏰:"
   ]
  },
  {
   "cell_type": "code",
   "execution_count": null,
   "id": "07fdfeb3",
   "metadata": {},
   "outputs": [],
   "source": [
    "df2[\"Updated\"]=pd.to_datetime(df2[\"Updated\"], dayfirst=True)\n",
    "df2.info()"
   ]
  },
  {
   "cell_type": "markdown",
   "id": "9abc8871",
   "metadata": {},
   "source": [
    "### Přetypování binárního příznaku\n",
    "\n",
    "Konečně se blížíme do cíle!💥 Jako poslední nám zbývá přetypování binárního příznaku \"Sugo\", který vypovídá o typu základu - rajčatový 🍅 nebo smetanový 🐄.\n",
    "\n",
    "⭐️ **Vyzkoušejte si sami:**\n",
    "Existuje více způsobů, jak tento příznak převést na binární. Jedním z nich může být sestrojení nového příznaku \"Tomato\", který bude typu `boolean` (tzn. `dtype: bool`) a bude tak nabývat hodnot `True/False`, pokud se bude nebo nebude jednat o rajčatový základ. ⭐️"
   ]
  },
  {
   "cell_type": "code",
   "execution_count": null,
   "id": "972525cc",
   "metadata": {},
   "outputs": [],
   "source": [
    "# TODO - prostor pro váš kód"
   ]
  },
  {
   "cell_type": "markdown",
   "id": "3342ac18",
   "metadata": {},
   "source": [
    "## 🫣 Závěr\n",
    "\n",
    "Závěrem si ukažme motivační graf na přetypovaných datech:"
   ]
  },
  {
   "cell_type": "code",
   "execution_count": null,
   "id": "bf3ee965",
   "metadata": {},
   "outputs": [],
   "source": [
    "# ukázka správného (i když ne úplně pěkného) grafu\n",
    "import matplotlib.pyplot as plt\n",
    "\n",
    "fig, ax = plt.subplots()\n",
    "ax.bar(df2.Pizza, df2.Sold)\n",
    "ax.set_ylabel('Number of pizzas sold')\n",
    "ax.set_xlabel('Pizza')\n",
    "plt.show()"
   ]
  },
  {
   "cell_type": "markdown",
   "id": "9b86f2e5",
   "metadata": {},
   "source": [
    "# 🎉 A to je vše! 🎉 "
   ]
  }
 ],
 "metadata": {
  "kernelspec": {
   "display_name": "Python 3 (ipykernel)",
   "language": "python",
   "name": "python3"
  },
  "language_info": {
   "codemirror_mode": {
    "name": "ipython",
    "version": 3
   },
   "file_extension": ".py",
   "mimetype": "text/x-python",
   "name": "python",
   "nbconvert_exporter": "python",
   "pygments_lexer": "ipython3",
   "version": "3.12.3"
  }
 },
 "nbformat": 4,
 "nbformat_minor": 5
}
