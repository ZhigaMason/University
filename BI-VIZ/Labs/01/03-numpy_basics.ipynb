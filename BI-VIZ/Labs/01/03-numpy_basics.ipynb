{
 "cells": [
  {
   "cell_type": "markdown",
   "id": "fa906e3b",
   "metadata": {},
   "source": [
    "# 🔢 Úvod do NumPy\n",
    "`NumPy` (**Num**erical **Py**thon) je Python balíček, který se využívá téměř vždy, když je potřeba pracovat s numerickými daty. Využívají jej i jiné známé balíčky jako jsou `Pandas`, `SciPy`, `scikit-learn`, `Matplotlib`, ...\n",
    "\n",
    "`NumPy` toho umí udělat opravdu hodně, a proto nemáme možnost pokrýt všechny jeho oblasti. Na internetu naleznete velké množství návodů. Vše se můžete dočíst i v 📚 [dokumentaci](https://numpy.org/doc/stable/reference/index.html) nebo v 👩‍💻 [user guide](https://numpy.org/doc/stable/user/index.html).\n",
    "\n",
    "Tento balíček se standardně importuje pomocí aliasu `np`."
   ]
  },
  {
   "cell_type": "code",
   "execution_count": null,
   "id": "09aefcf9",
   "metadata": {},
   "outputs": [],
   "source": [
    "import numpy as np"
   ]
  },
  {
   "cell_type": "markdown",
   "id": "d1b55d06",
   "metadata": {},
   "source": [
    "## ☝️ NumPy pole\n",
    "NumPy implementuje datovou strukturu ndarray - homogenní (každý element je stejného typu) n-dimenzionální pole. Rovněž poskytuje metody, pomocí kterých můžeme nad ndarray efektivně provádět různé operace. V dalším textu budeme NumPy pole nazývat zkráceně pole.\n",
    "\n",
    "Python seznam může obsahovat různé elementy, např.:"
   ]
  },
  {
   "cell_type": "code",
   "execution_count": null,
   "id": "3a535d1c",
   "metadata": {},
   "outputs": [],
   "source": [
    "pythonList = [1, \"one\", True]"
   ]
  },
  {
   "cell_type": "markdown",
   "id": "5e8e38e1",
   "metadata": {},
   "source": [
    "Homogennost pole je nutná pro optimalizaci matematických operací 📉. Díky ní je práce s polem efektivnější (výpočty trvají kratší dobu) a pole také zabírá méně místa v paměti.\n",
    "\n",
    "### ✨ Inicializace\n",
    "Pole můžeme inicializovat různými způsoby. Jedním z nich je inicializace ze seznamu. K elementům pole přistupujeme pomocí hranatých závorek. Tvar (angl. shape) n-dimenzionálního pole je n-tice čísel, která udávají velikost každé dimenze."
   ]
  },
  {
   "cell_type": "code",
   "execution_count": null,
   "id": "55719090",
   "metadata": {},
   "outputs": [],
   "source": [
    "# creates 1D (rank 1) array from list\n",
    "a = np.array([1, 2, 3])   \n",
    "print(type(a))            \n",
    "print(a.shape)            \n",
    "print(a[0], a[1], a[2])   \n",
    "a[0] = 5                  \n",
    "print(a)                    "
   ]
  },
  {
   "cell_type": "code",
   "execution_count": null,
   "id": "d2510f0f",
   "metadata": {},
   "outputs": [],
   "source": [
    "# creates 2D (rank 2) array from 2D list\n",
    "b = np.array([[1,2,3],[4,5,6]])    \n",
    "b"
   ]
  },
  {
   "cell_type": "code",
   "execution_count": null,
   "id": "82e2e4fd",
   "metadata": {},
   "outputs": [],
   "source": [
    "print(b.shape) # 2x3 elements                     \n",
    "print(b[0, 0]) # the element of b in the *first* row, *first* column\n",
    "print(b[0, 0], b[0, 1], b[1, 0])"
   ]
  },
  {
   "cell_type": "markdown",
   "id": "f822c7cf",
   "metadata": {},
   "source": [
    "NumPy ale poskytuje také velké množství jiných funkcí, pomocí kterých lze inicializovat ndarray. Toto jsou některé z nich 👇"
   ]
  },
  {
   "cell_type": "code",
   "execution_count": null,
   "id": "caf9d811",
   "metadata": {},
   "outputs": [],
   "source": [
    "# creates an array filled with zeros\n",
    "np.zeros((2,2))"
   ]
  },
  {
   "cell_type": "code",
   "execution_count": null,
   "id": "a9ef75c4",
   "metadata": {},
   "outputs": [],
   "source": [
    "# creates an array filled with ones\n",
    "np.ones((1,2))    "
   ]
  },
  {
   "cell_type": "code",
   "execution_count": null,
   "id": "d4d7d447",
   "metadata": {},
   "outputs": [],
   "source": [
    "# creates a constant array\n",
    "np.full((3,4), 9)  "
   ]
  },
  {
   "cell_type": "code",
   "execution_count": null,
   "id": "c125b38f",
   "metadata": {},
   "outputs": [],
   "source": [
    "# creates a 2x2 \"identity matrix\" (it's still an array)\n",
    "np.eye(2)"
   ]
  },
  {
   "cell_type": "code",
   "execution_count": null,
   "id": "370ec3b4",
   "metadata": {},
   "outputs": [],
   "source": [
    "# creates an array filled with random values\n",
    "np.random.random((2,2)) "
   ]
  },
  {
   "cell_type": "markdown",
   "id": "d958af94",
   "metadata": {},
   "source": [
    "Funkce `arange` vrátí pole naplněné rovnoměrně rozmístěnými čísly na námi zvoleném intervalu. Přesněji `arange(start, stop, step)` vygeneruje čísla z polootevřeného intervalu <`start`, `stop`) tak, že rozdíl každých dvou po sobě jdoucích čísel je roven konstantě `step`. Defaultní hodnoty pro `start` a `step` jsou v pořadí 0 a 1."
   ]
  },
  {
   "cell_type": "code",
   "execution_count": null,
   "id": "c944973d",
   "metadata": {},
   "outputs": [],
   "source": [
    "np.arange(5)"
   ]
  },
  {
   "cell_type": "code",
   "execution_count": null,
   "id": "2edfb6a7",
   "metadata": {},
   "outputs": [],
   "source": [
    "np.arange(3,7)"
   ]
  },
  {
   "cell_type": "code",
   "execution_count": null,
   "id": "4195e583",
   "metadata": {},
   "outputs": [],
   "source": [
    "np.arange(2, 27, 3)"
   ]
  },
  {
   "cell_type": "markdown",
   "id": "a5b348cc",
   "metadata": {},
   "source": [
    "Funkce `linspace` funguje velmi podobně - také generuje rovnoměrně rozmístěná čísla na zadaném intervalu (defaultně je interval uzavřen, ale můžeme vyloučit koncový bod). Rozdíl je v tom, že místo parametru `step` (vzdálenost vygenerovaných čísel) jí zadáváme počet čísel, která má vygenerovat."
   ]
  },
  {
   "cell_type": "code",
   "execution_count": null,
   "id": "24790b75",
   "metadata": {},
   "outputs": [],
   "source": [
    "# generates 5 evenly spaced number from interval <0,1>\n",
    "np.linspace(0,1,5)"
   ]
  },
  {
   "cell_type": "code",
   "execution_count": null,
   "id": "92c2503f",
   "metadata": {},
   "outputs": [],
   "source": [
    "# generates 5 evenly spaced number from interval <0,1)\n",
    "np.linspace(0,1,5, endpoint=False)"
   ]
  },
  {
   "cell_type": "markdown",
   "id": "5927b4cf",
   "metadata": {},
   "source": [
    "Jak jsme si již říkali, ndarray je homogenní pole. Určení jednotného datového typu pro všechny elementy lze nechat na NumPy (to jsme dělali ve všech předchozích příkladech), nebo jej můžeme definovat explicitně:"
   ]
  },
  {
   "cell_type": "code",
   "execution_count": null,
   "id": "a7e5fff9",
   "metadata": {},
   "outputs": [],
   "source": [
    "# let's numpy infer data type\n",
    "a_float = np.ones(2)\n",
    "print(a_float.dtype)\n",
    "print(a_float)\n",
    "\n",
    "# explicitly specifies data type\n",
    "a_int = np.ones(2, dtype=int)\n",
    "print(a_int.dtype)\n",
    "print(a_int)"
   ]
  },
  {
   "cell_type": "markdown",
   "id": "69d6636c",
   "metadata": {},
   "source": [
    "### 🫵 Indexování\n",
    "Numpy nabízí několik způsobů, jak indexovat v poli. Už jsme si ukázali klasickou indexaci pomocí celočíselných indexů. Ukážeme si ještě slicing a indexaci pomocí boolovského pole.\n",
    "#### ✂️ Slicing"
   ]
  },
  {
   "cell_type": "code",
   "execution_count": null,
   "id": "de80f5a3",
   "metadata": {},
   "outputs": [],
   "source": [
    "# create the following rank 2 array with shape (3, 4)\n",
    "a = np.array([[1,2,3,4], [5,6,7,8], [9,10,11,12]])\n",
    "\n",
    "# uses slicing to get the subarray consisting of the first 2 rows and columns 1 and 2\n",
    "b = a[:2, 1:3]\n",
    "\n",
    "print(\"original array\")\n",
    "print(a)\n",
    "print(\"sliced array\")\n",
    "print(b)"
   ]
  },
  {
   "cell_type": "markdown",
   "id": "63a3027f",
   "metadata": {},
   "source": [
    "❗Pozor na to, že výsledný slice **není** hlubokou kopií. Modifikace se projeví i v původním poli.❗"
   ]
  },
  {
   "cell_type": "code",
   "execution_count": null,
   "id": "d8d615d2",
   "metadata": {},
   "outputs": [],
   "source": [
    "# modifying a slice of an array will modify the original array\n",
    "print(a[0, 1])\n",
    "b[0, 0] = 99\n",
    "print(a[0, 1])"
   ]
  },
  {
   "cell_type": "markdown",
   "id": "8c38f9a0",
   "metadata": {},
   "source": [
    "#### ☯️ Indexace pomocí boolovského pole\n",
    "Tímto způsobem můžeme z libovolného pole obdržet 1D pole, které obsahuje pouze elementy, pro které je splněna zadaná podmínka.\n",
    "\n",
    "Pojďme si například vyfiltrovat jen elementy pole a, které jsou sudé."
   ]
  },
  {
   "cell_type": "code",
   "execution_count": null,
   "id": "dcfeb713",
   "metadata": {},
   "outputs": [],
   "source": [
    "a = np.array([[1,2,3,4], [5,6,7,8], [9,10,11,12]])\n",
    "bool_idx = (a % 2 == 0)   \n",
    "\n",
    "print(bool_idx)"
   ]
  },
  {
   "cell_type": "markdown",
   "id": "73e5312c",
   "metadata": {},
   "source": [
    "Vidíme, že výsledkem je pole stejných dimenzí jako původní pole. Elementy tohoto pole jsou booleany `True` a `False`, které v sobě nesou informaci, zda byl element původního pole na stejné pozici sudý."
   ]
  },
  {
   "cell_type": "code",
   "execution_count": null,
   "id": "1a45dc58",
   "metadata": {},
   "outputs": [],
   "source": [
    "# uses boolean indexing to construct rank 1 array\n",
    "# new array consists of the elements of a corresponding to the True values of bool_idx\n",
    "print(a[bool_idx])\n",
    "\n",
    "# we can do all of the above in a single concise statement:\n",
    "print(a[a % 2 == 0])"
   ]
  },
  {
   "cell_type": "markdown",
   "id": "5c1a4bdf",
   "metadata": {},
   "source": [
    "### ➕ Přidávání, odebírání a řazení elementů\n",
    "Na přidávání, odebírání a řazení elementů pole můžeme použít například funkce `np.append`, `np.delete` a `np.sort`. Všechny tři funkce vytvářejí hlubokou kopii – původní pole jimi neměníme. S polem je ale možné manipulovat různými způsoby, všechny naleznete v 📚 [dokumentaci](https://numpy.org/doc/stable/reference/routines.array-manipulation.html)."
   ]
  },
  {
   "cell_type": "code",
   "execution_count": null,
   "id": "65c3fc4b",
   "metadata": {},
   "outputs": [],
   "source": [
    "a = np.array([1, 2, 3, 4, 5, 6, 7, 8])\n",
    "# appends elements 1 and 2 to the copy of original array\n",
    "b = np.append(a, [1,2])\n",
    "\n",
    "# original array is the same as before appending\n",
    "print(a)\n",
    "# new copy with appended elements\n",
    "print(b)"
   ]
  },
  {
   "cell_type": "code",
   "execution_count": null,
   "id": "fe65cb5e",
   "metadata": {},
   "outputs": [],
   "source": [
    "# creates a copy of original array with first element deleted\n",
    "c = np.delete(a, 0)\n",
    "\n",
    "print(a)\n",
    "print(c)"
   ]
  },
  {
   "cell_type": "code",
   "execution_count": null,
   "id": "71d0c7f6",
   "metadata": {},
   "outputs": [],
   "source": [
    "a = np.array([2, 1, 5, 3, 7, 4, 6, 8])\n",
    "# creates a sorted copy of original array\n",
    "a_sorted = np.sort(a)\n",
    "\n",
    "print(a)\n",
    "print(a_sorted)"
   ]
  },
  {
   "cell_type": "markdown",
   "id": "8400b49f",
   "metadata": {},
   "source": [
    "### 🧮 Matematické operace\n",
    "\n",
    "V buňce níže jsou ukázky některých základních matematických operací nad poli. Všechny matematické operace, které NumPy nabízí, můžete najít v 📚 [dokumentaci](https://numpy.org/doc/stable/reference/routines.math.html). Matematické operace je často možné použít jako přetížené operátory nebo funkce."
   ]
  },
  {
   "cell_type": "code",
   "execution_count": null,
   "id": "42af1a66",
   "metadata": {},
   "outputs": [],
   "source": [
    "x = np.array([[1,2],[3,4]], dtype=np.float64)\n",
    "y = np.array([[5,6],[7,8]], dtype=np.float64)\n",
    "\n",
    "# elementwise sum\n",
    "print(x + y)\n",
    "print(np.add(x, y))"
   ]
  },
  {
   "cell_type": "code",
   "execution_count": null,
   "id": "7e7c3eb0",
   "metadata": {},
   "outputs": [],
   "source": [
    "# elementwise difference\n",
    "print(x - y)\n",
    "print(np.subtract(x, y))"
   ]
  },
  {
   "cell_type": "code",
   "execution_count": null,
   "id": "2ba3df3e",
   "metadata": {},
   "outputs": [],
   "source": [
    "# elementwise product\n",
    "print(x * y)\n",
    "print(np.multiply(x, y))"
   ]
  },
  {
   "cell_type": "code",
   "execution_count": null,
   "id": "c2bfdd5a",
   "metadata": {},
   "outputs": [],
   "source": [
    "# elementwise division\n",
    "print(x / y)\n",
    "print(np.divide(x, y))"
   ]
  },
  {
   "cell_type": "code",
   "execution_count": null,
   "id": "e07df82e",
   "metadata": {},
   "outputs": [],
   "source": [
    "# elementwise square root\n",
    "print(np.sqrt(x))"
   ]
  },
  {
   "cell_type": "markdown",
   "id": "6efb72bf",
   "metadata": {},
   "source": [
    "Maticové násobení implementuje funkce `dot`. Má dvě varianty, které produkují stejný výsledek. Buď ji voláme jako funkci modulu NumPy nebo instanční metodu pole."
   ]
  },
  {
   "cell_type": "code",
   "execution_count": null,
   "id": "136b7462",
   "metadata": {},
   "outputs": [],
   "source": [
    "x = np.array([[1,2],[3,4]])\n",
    "y = np.array([[5,6],[7,8]])\n",
    "\n",
    "v = np.array([9,10])\n",
    "w = np.array([11, 12])\n",
    "\n",
    "# inner product of vectors\n",
    "print(v.dot(w))\n",
    "print(np.dot(v, w))\n",
    "\n",
    "# product of matrix and vector\n",
    "print(x.dot(v))\n",
    "print(np.dot(x, v))\n",
    "\n",
    "# product of two matrices\n",
    "print(x.dot(y))\n",
    "print(np.dot(x, y))"
   ]
  },
  {
   "cell_type": "markdown",
   "id": "6baaf7e8",
   "metadata": {},
   "source": [
    "#### 📻 Broadcasting\n",
    "Pojem bradcasting popisuje, jak NumPy zachází s poli různých tvarů během aritmetických operací. Menší pole je \"broadcast-nuto\" napříč větším polem, aby mělo kompatibilní tvar.\n",
    "Více se můžete dočíst v 📚 [dokumentaci](https://numpy.org/doc/stable/user/basics.broadcasting.html)."
   ]
  },
  {
   "cell_type": "code",
   "execution_count": null,
   "id": "7afe4bde",
   "metadata": {},
   "outputs": [],
   "source": [
    "a = np.array([1, 2, 3, 4, 5, 6, 7, 8])\n",
    "print(a + 1)\n",
    "\n",
    "b = np.array([[1,2],[3,4]])\n",
    "print(b + [1, 0])"
   ]
  },
  {
   "cell_type": "markdown",
   "id": "24fd48c6",
   "metadata": {},
   "source": [
    "## 🔮 Generování dat\n",
    "Metody pro generování syntetických dat z určitého rozdělení jsou součástí modulu `random`.\n",
    "\n",
    "Na internetu se můžete setkat s mnoha návody, které používají legacy verzi náhodného generátoru. Nově vždy začneme tím, že si vytvoříme instanci náhodného generátoru pomocí funkce `default_rng()` a čísla generujeme pomocí dané instance:"
   ]
  },
  {
   "cell_type": "code",
   "execution_count": null,
   "id": "41bb49b4",
   "metadata": {},
   "outputs": [],
   "source": [
    "# do this (new version)\n",
    "from numpy.random import default_rng\n",
    "rng = default_rng()\n",
    "# generated 10 numbers from standard normal distribution\n",
    "vals = rng.standard_normal(10)\n",
    "more_vals = rng.standard_normal(10)\n",
    "\n",
    "# instead of this (legacy version)\n",
    "# from numpy import random\n",
    "# vals = random.standard_normal(10)\n",
    "# more_vals = random.standard_normal(10)"
   ]
  },
  {
   "cell_type": "markdown",
   "id": "39e51674",
   "metadata": {},
   "source": [
    "Pokud chceme dostat reprodukovatelné výsledky (tzn. při každém spuštění notebooku generátor vygeneruje stejná čísla), můžeme generátoru zadat seed 🌱:"
   ]
  },
  {
   "cell_type": "code",
   "execution_count": null,
   "id": "f681451c",
   "metadata": {},
   "outputs": [],
   "source": [
    "# creates random generator with specified seed\n",
    "rng = default_rng(123)\n",
    "rng2 = default_rng(123)\n",
    "rng3 = default_rng(456)\n",
    "\n",
    "# random generators with the same seed generate same numbers\n",
    "print(rng.standard_normal(2))\n",
    "print(rng2.standard_normal(2))\n",
    "# random generator with different seed will probably produce different numbers\n",
    "print(rng3.standard_normal(2))"
   ]
  },
  {
   "cell_type": "markdown",
   "id": "766c1b5f",
   "metadata": {},
   "source": [
    "Zkusme si vygenerovat několik ukázkových dat z různých rozdělení. Syntaxe je pro každé rozdělení velmi podobná, pomocí správné funkce určíme, o jaké rozdělení se jedná, zadáme počet požadovaných vygenerovaných dat a v případě potřeby upřesníme parametry daného rozdělení.\n",
    "\n",
    "Ukážeme si jen některá rozdělení. Všechny naleznete v 📚 [dokumentaci](https://numpy.org/doc/stable/reference/random/generator.html)."
   ]
  },
  {
   "cell_type": "code",
   "execution_count": null,
   "id": "a7a08caf",
   "metadata": {},
   "outputs": [],
   "source": [
    "rng = default_rng(123)"
   ]
  },
  {
   "cell_type": "code",
   "execution_count": null,
   "id": "6e5cbbaa",
   "metadata": {},
   "outputs": [],
   "source": [
    "r = rng.random(1000)\n",
    "integers = rng.integers(1000)\n",
    "\n",
    "# standard normal distribution\n",
    "z = rng.standard_normal(1000)\n",
    "\n",
    "# normal distribution with mean=10 and standard deviation=3\n",
    "normal = rng.normal(size=1000, loc=10, scale=3)\n",
    "\n",
    "# standard exponential distribution\n",
    "e_standard = rng.standard_exponential(1000)\n",
    "\n",
    "# exponential distribution with rate (intensity) 1/5\n",
    "e = rng.exponential(size=1000, scale=5)"
   ]
  },
  {
   "cell_type": "markdown",
   "id": "fdce9537",
   "metadata": {},
   "source": [
    "## 📊 Statistiky a agregační funkce\n",
    "Mezi agregační funkce patří například `sum`, `min`, či `max`. Často máme možnost zvolit osu (angl. axis), nad kterou se budou data agregovat. Ukažme si to na příkladu:"
   ]
  },
  {
   "cell_type": "code",
   "execution_count": null,
   "id": "fb629a0b",
   "metadata": {},
   "outputs": [],
   "source": [
    "# numbers from 0 to 29 reshaped to 5 rows and 6 columns\n",
    "a = np.arange(30).reshape(5,6)\n",
    "print(a)"
   ]
  },
  {
   "cell_type": "code",
   "execution_count": null,
   "id": "b76b551a",
   "metadata": {},
   "outputs": [],
   "source": [
    "# maximum of the whole array\n",
    "a.max()"
   ]
  },
  {
   "cell_type": "code",
   "execution_count": null,
   "id": "b4b47f12",
   "metadata": {},
   "outputs": [],
   "source": [
    "# maximal values of each column\n",
    "a.max(axis=0)"
   ]
  },
  {
   "cell_type": "code",
   "execution_count": null,
   "id": "6b198e4e",
   "metadata": {},
   "outputs": [],
   "source": [
    "# maximal values of each row\n",
    "a.max(axis=1)"
   ]
  },
  {
   "cell_type": "markdown",
   "id": "79bdc2f3",
   "metadata": {},
   "source": [
    "Vypočítat odhad střední hodnoty či rozptylu nebo získat percentil a medián je s NumPy velmi jednoduché. A to nejsou jediné statistiky, které můžeme získat. Více lze zjistit v 📚 [dokumentaci](https://numpy.org/doc/stable/reference/routines.statistics.html)."
   ]
  },
  {
   "cell_type": "code",
   "execution_count": null,
   "id": "5a9a09e8",
   "metadata": {},
   "outputs": [],
   "source": [
    "# generates 1000 samples from normal distribution with mean=10 and standard deviation=3\n",
    "normal = rng.normal(size=1000, loc=10, scale=3)\n",
    "print(\"min value: {}\".format(normal.min()))\n",
    "print(\"max value: {}\".format(normal.max()))"
   ]
  },
  {
   "cell_type": "code",
   "execution_count": null,
   "id": "6af342a7",
   "metadata": {},
   "outputs": [],
   "source": [
    "np.mean(normal)"
   ]
  },
  {
   "cell_type": "code",
   "execution_count": null,
   "id": "4054cbbb",
   "metadata": {},
   "outputs": [],
   "source": [
    "np.std(normal)"
   ]
  },
  {
   "cell_type": "code",
   "execution_count": null,
   "id": "a54a1eae",
   "metadata": {},
   "outputs": [],
   "source": [
    "np.var(normal)"
   ]
  },
  {
   "cell_type": "code",
   "execution_count": null,
   "id": "f7f15865",
   "metadata": {},
   "outputs": [],
   "source": [
    "np.median(normal)"
   ]
  },
  {
   "cell_type": "code",
   "execution_count": null,
   "id": "33b95178",
   "metadata": {},
   "outputs": [],
   "source": [
    "np.percentile(normal, 99)"
   ]
  },
  {
   "cell_type": "markdown",
   "id": "09cb18cb",
   "metadata": {},
   "source": [
    "# 🎉 A to je k NumPy vše! 🎉"
   ]
  }
 ],
 "metadata": {
  "kernelspec": {
   "display_name": "Python 3 (ipykernel)",
   "language": "python",
   "name": "python3"
  },
  "language_info": {
   "codemirror_mode": {
    "name": "ipython",
    "version": 3
   },
   "file_extension": ".py",
   "mimetype": "text/x-python",
   "name": "python",
   "nbconvert_exporter": "python",
   "pygments_lexer": "ipython3",
   "version": "3.8.2"
  }
 },
 "nbformat": 4,
 "nbformat_minor": 5
}
