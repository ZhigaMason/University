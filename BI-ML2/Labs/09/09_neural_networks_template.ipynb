{
 "cells": [
  {
   "cell_type": "markdown",
   "id": "2731b506-8b43-4c35-ad53-121a9f9d9af1",
   "metadata": {},
   "source": [
    "# Cvičení 9 - Neuronové sítě - PyTorch, dávkové učení\n",
    "\n",
    "V tomto cvičení si nejprve představíme knihovnu PyTorch, pak v ní zkonstruujeme analogický model jako na minulém cvičení a natrénujeme ho."
   ]
  },
  {
   "cell_type": "code",
   "execution_count": null,
   "id": "8de59de9-5660-4507-93d7-b47c32ee3bda",
   "metadata": {},
   "outputs": [],
   "source": [
    "import numpy as np \n",
    "import pandas as pd\n",
    "\n",
    "import matplotlib.pyplot as plt\n",
    "%matplotlib inline\n",
    "\n",
    "from matplotlib import colormaps\n",
    "from matplotlib import colors\n",
    "cmap = colors.LinearSegmentedColormap(\n",
    "    \"red_blue_classes\",\n",
    "    {\n",
    "        \"red\": [(0, 1, 1), (1, 0.7, 0.7)],\n",
    "        \"green\": [(0, 0.7, 0.7), (1, 0.7, 0.7)],\n",
    "        \"blue\": [(0, 0.7, 0.7), (1, 1, 1)],\n",
    "    },\n",
    ")\n",
    "colormaps.register(cmap)"
   ]
  },
  {
   "cell_type": "markdown",
   "id": "dc6f169a-2a02-43da-b3f7-da1f596b9a8c",
   "metadata": {},
   "source": [
    "# Knihovna PyTorch\n",
    "\n",
    "Předchozí způsob, kterým jsme neuronovou síť zkonstruovali se samozřejmě v reálu nikdy nepoužívá.\n",
    "\n",
    "Pro konstrukci a trénování neuronových sítí se používají knihovny, pomocí kterých je nejenom možné síť snadno zkonstruovat, ale především ji také snadno a efektivně trénovat. Hlavní princip je založen na tom, že tyto knihovny umí automaticky počítat gradient.\n",
    "\n",
    "Nejpoužívanější knihovny pro python jsou [TensorFlow](https://www.tensorflow.org/) a [PyTorch](https://pytorch.org/).\n",
    "Obě jsou v mnoha věcech podobné. V našem případě budeme dále používat knihovnu `PyTorch`.\n",
    "Detailní tutoriály k mnoha případům použití najdete zde: [oficiální tutoriály](https://pytorch.org/tutorials/index.html).\n",
    "\n",
    "Začneme importem základních prvků."
   ]
  },
  {
   "cell_type": "code",
   "execution_count": null,
   "id": "5173173a-b9d6-45a4-b5b3-0a7c58cade6d",
   "metadata": {
    "tags": []
   },
   "outputs": [],
   "source": [
    "import torch\n",
    "from torch.utils.data import DataLoader"
   ]
  },
  {
   "cell_type": "markdown",
   "id": "7d449b13-a94e-4277-b125-1a2563179a00",
   "metadata": {
    "tags": []
   },
   "source": [
    "## Tenzory a práce s nimi v PyTorch\n",
    "\n",
    "Nejprve se podívejme na to, co se vlastně při standardním využití děje na pozadí - manipulace s tenzory a automatické počítání gradientu.\n",
    "\n",
    "Tenzor je vlastně název pro $n$ rozměrné pole - tj. jako `ndarray` v numpy.\n",
    "\n",
    "### Vytváření tenzorů\n",
    "Tenzory můžeme vytvářet různými způsoby:\n",
    "* Z existujících Python nebo numpy polí.\n",
    "* Se všemi složkami stejnými při zadaných rozměrech.\n",
    "* S náhodně vygenerovanými složkami při zadaných rozměrech.\n",
    "* Jako speciální matice - např. jednotkové."
   ]
  },
  {
   "cell_type": "code",
   "execution_count": null,
   "id": "d6011b21-f255-4faf-839e-1622aba6c0e2",
   "metadata": {
    "tags": []
   },
   "outputs": [],
   "source": [
    "# Převod numpy nebo python matice na konstantní tenzor\n",
    "a = torch.tensor([[1, 2], [3,4]])\n",
    "print(a)\n",
    "\n",
    "np_array = np.array(a)\n",
    "b = torch.from_numpy(np_array)\n",
    "print(b)"
   ]
  },
  {
   "cell_type": "code",
   "execution_count": null,
   "id": "e3985b38-f024-48ee-8342-50abe6c3ac1b",
   "metadata": {
    "tags": []
   },
   "outputs": [],
   "source": [
    "x_ones = torch.ones_like(a) # retains the properties of x_data\n",
    "print(f\"Tensor samých jedniček o stejném rozměru jako existující tenzor: \\n {x_ones} \\n\")\n",
    "\n",
    "x_rand = torch.rand_like(a, dtype=torch.float) # overrides the datatype of x_data\n",
    "print(f\"Tenzor s náhodnými složkami o stejném rozměru jako existující tenzor: \\n {x_rand} \\n\")"
   ]
  },
  {
   "cell_type": "code",
   "execution_count": null,
   "id": "327dfd62-3e0d-4c0e-af9e-aa2f35d19395",
   "metadata": {
    "tags": []
   },
   "outputs": [],
   "source": [
    "shape = (2,3,)\n",
    "rand_tensor = torch.rand(shape)\n",
    "ones_tensor = torch.ones(shape)\n",
    "zeros_tensor = torch.zeros(shape)\n",
    "\n",
    "print(f\"Náhodný Tensor se zadanými rozměry: \\n {rand_tensor} \\n\")\n",
    "print(f\"Tensor jedniček se zadanými rozměry: \\n {ones_tensor} \\n\")\n",
    "print(f\"Tensor nul se zadanými rozměry: \\n {zeros_tensor}\")"
   ]
  },
  {
   "cell_type": "markdown",
   "id": "380efd13-aa33-4e79-a721-528219cf0c10",
   "metadata": {},
   "source": [
    "### Atributy tenzorů\n",
    "Tenzory podporují klasické atributy jako `shape` a `dtype`. Atribut `device` navíc umí vrátit na kterém zařízení (CPU nebo GPU) se tenzor nachází."
   ]
  },
  {
   "cell_type": "code",
   "execution_count": null,
   "id": "d83e4506-0dcd-46d6-abb1-390fd0fe2282",
   "metadata": {
    "tags": []
   },
   "outputs": [],
   "source": [
    "tensor = torch.rand(3,4)\n",
    "\n",
    "print(f\"Shape of tensor: {tensor.shape}\")\n",
    "print(f\"Datatype of tensor: {tensor.dtype}\")\n",
    "print(f\"Device tensor is stored on: {tensor.device}\")"
   ]
  },
  {
   "cell_type": "markdown",
   "id": "62cb520c-fb84-4ad0-8e4c-3d01c954ab4e",
   "metadata": {},
   "source": [
    "### Nastavení datového typu tenzoru\n",
    "\n",
    "Při vytváření nového tenzoru nebo u existujícího je možné nastavit/změnit datový typ jeho složek.\n",
    "\n",
    "Nejčastěji používané typu jsou `torch.float` (= `torch.float32`) a `torch.long` (=`torch.int64`)."
   ]
  },
  {
   "cell_type": "code",
   "execution_count": null,
   "id": "857c14f4-66c5-4464-a430-dc7dd2abf57c",
   "metadata": {
    "tags": []
   },
   "outputs": [],
   "source": [
    "a = torch.tensor([[1, 2], [3,4]])\n",
    "print(a, a.dtype)\n",
    "\n",
    "a = torch.tensor([[1, 2], [3,4]], dtype = torch.float)\n",
    "print(a, a.dtype)\n",
    "\n",
    "a = a.type(torch.long)\n",
    "print(a, a.dtype)"
   ]
  },
  {
   "cell_type": "markdown",
   "id": "162e5fd8-8b31-482e-811d-155b8d9266da",
   "metadata": {},
   "source": [
    "### Operace s tenzory\n",
    "S tenzory je možné dělat nepřeberné množství operací [viz zde](https://pytorch.org/docs/stable/torch.html).\n",
    "\n",
    "Zejména různé indexace, změny tvaru, skládání a matematické operace."
   ]
  },
  {
   "cell_type": "code",
   "execution_count": null,
   "id": "3aa904a9-4dc3-4e61-853f-6432cb8c05f4",
   "metadata": {
    "tags": []
   },
   "outputs": [],
   "source": [
    "tensor = torch.eye(4)\n",
    "print(tensor)\n",
    "\n",
    "print(f\"První řádek: {tensor[0,:]}\")\n",
    "print(f\"Druhý sloupec: {tensor[:, 1]}\")\n",
    "print(f\"Poslední sloupec: {tensor[..., -1]}\")"
   ]
  },
  {
   "cell_type": "markdown",
   "id": "0b14347f-1bc7-4f21-999c-ea0df9996711",
   "metadata": {},
   "source": [
    "**Obsah tenzoru je měnitelný**"
   ]
  },
  {
   "cell_type": "code",
   "execution_count": null,
   "id": "8a0bcf3a-cbb6-4263-904a-66565daf81a7",
   "metadata": {
    "tags": []
   },
   "outputs": [],
   "source": [
    "tensor[:,1] = 10\n",
    "print(tensor)"
   ]
  },
  {
   "cell_type": "code",
   "execution_count": null,
   "id": "a5454e36-1324-4286-ac1c-4bcc26f31a21",
   "metadata": {
    "tags": []
   },
   "outputs": [],
   "source": [
    "t1 = torch.cat([tensor, tensor, tensor], dim=1)\n",
    "print(t1)"
   ]
  },
  {
   "cell_type": "markdown",
   "id": "5fed9d04-5f72-4010-99ff-cb2a3bdf7571",
   "metadata": {},
   "source": [
    "### Kopírování tenzoru\n",
    "Při kopírování je třeba použít funkci `.clone()` jinak získáme pouze nový ukazatel na původní tenzor."
   ]
  },
  {
   "cell_type": "code",
   "execution_count": null,
   "id": "6fd74eaf-7dd3-45b2-838c-c791dddf7446",
   "metadata": {
    "tags": []
   },
   "outputs": [],
   "source": [
    "a = torch.tensor([[1, 2], [3,4]])\n",
    "print(a)\n",
    "b = a\n",
    "b[0,0] = 10\n",
    "print(b)\n",
    "print(a)\n",
    "\n",
    "print(\"\\nSprávné kopírování\")\n",
    "a = torch.tensor([[1, 2], [3,4]])\n",
    "b = a.clone()\n",
    "b[0,0] = 10\n",
    "print(b)\n",
    "print(a)"
   ]
  },
  {
   "cell_type": "markdown",
   "id": "a00b46d9-befc-48d7-b23e-97ca4b3409e9",
   "metadata": {},
   "source": [
    "#### Maticové násobení a násobení po složkách"
   ]
  },
  {
   "cell_type": "code",
   "execution_count": null,
   "id": "242b2026-65cc-4a76-ae0d-b8db84627d6f",
   "metadata": {
    "tags": []
   },
   "outputs": [],
   "source": [
    "print(tensor)\n",
    "\n",
    "print(\"\\nMaticové násobení\\n\")\n",
    "# This computes the matrix multiplication between two tensors. y1, y2, y3 will have the same value\n",
    "# ``tensor.T`` returns the transpose of a tensor\n",
    "y1 = tensor @ tensor.T\n",
    "print(y1)\n",
    "y2 = tensor.matmul(tensor.T)\n",
    "print(y2)\n",
    "\n",
    "y3 = torch.rand_like(y1)\n",
    "torch.matmul(tensor, tensor.T, out = y3)\n",
    "print(y3)\n",
    "y4 = torch.matmul(tensor, tensor.T)\n",
    "print(y4)\n",
    "\n",
    "\n",
    "print(\"\\nNásobení po složkách\\n\")\n",
    "# This computes the element-wise product. z1, z2, z3 will have the same value\n",
    "z1 = tensor * tensor\n",
    "z2 = tensor.mul(tensor)\n",
    "print(z1)\n",
    "print(z2)\n",
    "\n",
    "z3 = torch.mul(tensor, tensor)\n",
    "print(z3)"
   ]
  },
  {
   "cell_type": "code",
   "execution_count": null,
   "id": "0c9ce4d5-0671-439d-b734-83a021a1b0d6",
   "metadata": {
    "tags": []
   },
   "outputs": [],
   "source": [
    "print(tensor)\n",
    "print(tensor.sum())\n",
    "print(tensor.sum(dim = 0))\n",
    "print(tensor.sum(dim = 1))"
   ]
  },
  {
   "cell_type": "markdown",
   "id": "2106103e-afe5-4cd1-ba2b-e428e5debaf3",
   "metadata": {},
   "source": [
    "### Převod do numpy array"
   ]
  },
  {
   "cell_type": "code",
   "execution_count": null,
   "id": "35e2f54d-2253-4e7f-927c-a0c564394ae9",
   "metadata": {
    "tags": []
   },
   "outputs": [],
   "source": [
    "t = torch.ones(5)\n",
    "print(f\"t: {t}\")\n",
    "n = t.numpy()\n",
    "print(f\"n: {n}\")"
   ]
  },
  {
   "cell_type": "markdown",
   "id": "08f02602-3398-4030-b0dc-b9ed7cb63dd9",
   "metadata": {},
   "source": [
    "## Automatické počítání gradientu\n",
    "\n",
    "Největší síla knihovny PyTorch je ale v možnosti atutomaticky počítat gradient podle složek tenzoru, u kterého si to při inicializaci zapneme pomocí parametru `requires_grad`.\n",
    "\n",
    "Poté provedeme výpočet hodnot nějaké funkce a když na této funkci zavoláme `.backward()` dojde k výpočtu gradientu, který potom máme u daného tenzoru dostupný v property `grad`."
   ]
  },
  {
   "cell_type": "code",
   "execution_count": null,
   "id": "3673798f-e425-4bc3-89b7-1d3e5c87b36a",
   "metadata": {
    "tags": []
   },
   "outputs": [],
   "source": [
    "# vyrobíme proměnnou (vécerozměrnou)\n",
    "x = torch.tensor([1.0,2,3], requires_grad=True)\n",
    "print(x)\n",
    "\n",
    "# sestrojíme funkci, kterou chceme derivovat\n",
    "y = torch.sum(torch.square(x))\n",
    "print(y)\n",
    "\n",
    "# provedeme zpětný chod\n",
    "y.backward()\n",
    "\n",
    "# výsledný gradient podle složek vstupní proměnné\n",
    "print(x.grad)"
   ]
  },
  {
   "cell_type": "markdown",
   "id": "0a64c495-a884-40c0-9a0f-175480532565",
   "metadata": {},
   "source": [
    "### Úkol\n",
    "Proveďte to samé pro funkci $\\sin(x)$ a porovnejte se správným řešením."
   ]
  },
  {
   "cell_type": "code",
   "execution_count": null,
   "id": "665037c1-8a7a-4348-ae08-f8e06470f755",
   "metadata": {
    "tags": []
   },
   "outputs": [],
   "source": [
    "# vyrobíme proměnnou (vécerozměrnou)\n",
    "x = torch.tensor([1.0,2,3], requires_grad=True)\n",
    "print(x)\n",
    "\n",
    "..."
   ]
  },
  {
   "cell_type": "markdown",
   "id": "e8fc9828-b58f-4647-a616-578bffc26929",
   "metadata": {},
   "source": [
    "#### Pozor\n",
    "Při opakovaném použití stejného tenzoru (proměnné) ve výpočtech a následném volání `.backward()` se gradient akumuluje - je tedy součtem všech gradientů získaných zpětným chodem.\n",
    "\n",
    "V případě, že toto chování nechceme, je potřeba gradient resetovat na None."
   ]
  },
  {
   "cell_type": "code",
   "execution_count": null,
   "id": "4fd9690c-9e3b-4e63-8725-972057bbcbdb",
   "metadata": {
    "tags": []
   },
   "outputs": [],
   "source": [
    "y = torch.sum(torch.sin(x))\n",
    "# provedeme zpětný chod\n",
    "y.backward()\n",
    "\n",
    "# výsledný gradient podle složek vstupní proměnné\n",
    "print(x.grad)\n",
    "\n",
    "# Provnání se správným řešením\n",
    "print(torch.cos(x))"
   ]
  },
  {
   "cell_type": "code",
   "execution_count": null,
   "id": "5caad3e4-396e-49da-8c3a-fc1798a698ad",
   "metadata": {
    "tags": []
   },
   "outputs": [],
   "source": [
    "x.grad = None\n",
    "y = torch.sum(torch.sin(x))\n",
    "# provedeme zpětný chod\n",
    "y.backward()\n",
    "\n",
    "# výsledný gradient podle složek vstupní proměnné\n",
    "print(x.grad)\n",
    "\n",
    "# Provnání se správným řešením\n",
    "print(torch.cos(x))"
   ]
  },
  {
   "cell_type": "markdown",
   "id": "977197d9-ce41-4256-8b74-356e10d6ffb7",
   "metadata": {},
   "source": [
    "### Výpočty bez požadavku na gradient\n",
    "Vidíme, že pokud tenzor `x` použijeme v nějakém dalším výpočtu - například v `torch.cos(x)`, ukazuje nám to u výsledku atribut `grad_fn`. \n",
    "\n",
    "Je to z důvodu, že je u `x` zapnuté _requires_grad = True_. Tedy u všech výpočtů, kam `x` vstupuje, se automaticky sleduje a vytváří výpočetní graf, \n",
    "aby bylo možné později provést zpětný chod.\n",
    "\n",
    "Pokud toto chování nechceme a nějaký konkrétní výpočet sledovat necheme (protože ho nebudeme chtít derivovat), musíme buď místo `x` použít `x.detach()` \n",
    "nebo výpočet provést ve `with` bloku s  `torch.no_grad()`."
   ]
  },
  {
   "cell_type": "code",
   "execution_count": null,
   "id": "de68f99f-84ce-48b0-9342-b50d2dc20398",
   "metadata": {
    "tags": []
   },
   "outputs": [],
   "source": [
    "with torch.no_grad():\n",
    "    print(torch.cos(x))\n",
    "\n",
    "print(torch.cos(x.detach()))"
   ]
  },
  {
   "cell_type": "markdown",
   "id": "228ca647-8e44-44d3-a5c3-b8402bc5fc99",
   "metadata": {
    "tags": []
   },
   "source": [
    "# Model neuronové sítě v PyTorch\n",
    "\n",
    "Nyní použijeme knihovnu PyTorch pro sestrojení modelu stejné neuronové sítě, jako jsme vytvářeli ručně na minulém cvičení.\n",
    "\n",
    "### XOR data\n",
    "\n",
    "Opět si připravíme data ve dvou variantách."
   ]
  },
  {
   "cell_type": "code",
   "execution_count": null,
   "id": "05d84cd6-f454-4a17-83bb-4d73ad6464af",
   "metadata": {
    "tags": []
   },
   "outputs": [],
   "source": [
    "# Příznaky\n",
    "X = np.array([\n",
    "    [0, 0],\n",
    "    [0, 1],\n",
    "    [1, 0],\n",
    "    [1, 1],\n",
    "])\n",
    "\n",
    "# Výstupní třída            \n",
    "y = np.array([0, 1, 1, 0])\n",
    "\n",
    "# Varianta s více body\n",
    "Xm = []\n",
    "ym = []\n",
    "for i in range(len(y)):\n",
    "    for e in np.random.randn(100, len(X[i])):\n",
    "        Xm.append(X[i] + e * 0.1)\n",
    "        ym.append(y[i])\n",
    "Xm = np.array(Xm)\n",
    "ym = np.array(ym)"
   ]
  },
  {
   "cell_type": "code",
   "execution_count": null,
   "id": "dcbb6ca8-6393-47cb-bb44-29332748448a",
   "metadata": {
    "tags": []
   },
   "outputs": [],
   "source": [
    "# funkce na zobrazování\n",
    "def plot_X_y(X, y):\n",
    "    color = { 0: 'blue', 1: 'red' }\n",
    "    colors = [color[y[i]] for i in range(len(y))]\n",
    "    plt.scatter(X[:, 0], X[:, 1], c=colors)\n",
    "    \n",
    "plt.figure(figsize=(6,3))\n",
    "ax1 = plt.subplot(121)\n",
    "plot_X_y(X, y)\n",
    "ax2 = plt.subplot(122)\n",
    "plot_X_y(Xm, ym)\n",
    "plt.show()"
   ]
  },
  {
   "cell_type": "markdown",
   "id": "40e83e1e-3d4f-49eb-8b23-b699b1ac97c0",
   "metadata": {},
   "source": [
    "### Model neuronové sítě\n",
    "\n",
    "Síť sestrojíme z elementů, které odpovídají jednotlivým vrstvám, [torch.nn.Linear](https://pytorch.org/docs/stable/generated/torch.nn.Linear.html#torch.nn.Linear), a aktivačním funkcím, `torch.nn.functional.relu` a `torch.nn.functional.relu` (viz [torch.nn.functional](https://pytorch.org/docs/stable/nn.functional.html#non-linear-activation-functions)).\n",
    "\n",
    "Zároveň tento model vytvoříme jako podtřídu [torch.nn.Module](https://pytorch.org/docs/stable/generated/torch.nn.Module.html), která zajistí automatické rozpoznání parametrů atd.\n",
    "\n",
    "Pro začátek implementujeme dvě metody:\n",
    "* `__init__` - konstruktor, kde definujeme všechny prvky, které obsahují parametry.\n",
    "* `forward` - Dopředný chod - tj. funkci, která ze vstupů spočte výstup.\n",
    "\n",
    "Pro pozdější použití ještě implmentujeme:\n",
    "* `predict` - udělá finální predikce\n",
    "* `predict_proba` - bude pouze wrapper na forward, kdy nebudeme trackovat gradient"
   ]
  },
  {
   "cell_type": "code",
   "execution_count": null,
   "id": "906640f2-09dc-4480-af5f-d6fc5669ac50",
   "metadata": {
    "tags": []
   },
   "outputs": [],
   "source": [
    "from torch import nn\n",
    "import torch.nn.functional as F"
   ]
  },
  {
   "cell_type": "code",
   "execution_count": null,
   "id": "f275e916-3d17-434d-ad21-b766ea26b70b",
   "metadata": {
    "tags": []
   },
   "outputs": [],
   "source": [
    "# Define model\n",
    "class NeuralNetwork(nn.Module):\n",
    "    def __init__(self):\n",
    "        \"\"\"\n",
    "        Constructor - defines all elements with parameters\n",
    "        \"\"\"\n",
    "        super().__init__()\n",
    "        self.fc1 = nn.Linear(2, 2)\n",
    "        self.fc2 = nn.Linear(2, 1)\n",
    "\n",
    "    def forward(self, x):\n",
    "        \"\"\"\n",
    "        Calculation of the output of the network\n",
    "        \"\"\"\n",
    "        ...\n",
    "        return x\n",
    "    \n",
    "    def predict_proba(self, x):\n",
    "        \"\"\"\n",
    "        Wrapper that returns the probabilities\n",
    "        \"\"\"\n",
    "        dataX = ...\n",
    "        return pred.numpy().flatten()\n",
    "    \n",
    "    def predict(self, x):\n",
    "        \"\"\"\n",
    "        Final predictions\n",
    "        \"\"\"\n",
    "        return ...\n",
    "        \n",
    "\n",
    "model = NeuralNetwork()\n",
    "print(model)"
   ]
  },
  {
   "cell_type": "markdown",
   "id": "a0040d2d-9f44-4269-b153-f674518faa8f",
   "metadata": {
    "tags": []
   },
   "source": [
    "### Spuštění modelu na datech\n",
    "Model můžeme snadno **spustit** na data. V takovém případě ho prostě použijeme jako funkci.\n",
    "Protože při tomto kroku nechceme sledovat gradient, uděláme to v kontextu `with torch.no_grad()`.\n",
    "\n",
    "Než to ale provedeme, musíme si data uložit jako tenzory."
   ]
  },
  {
   "cell_type": "code",
   "execution_count": null,
   "id": "d31040dd-53b4-4220-bd35-99026ec53f12",
   "metadata": {
    "tags": []
   },
   "outputs": [],
   "source": [
    "dataX = torch.tensor(X).type(torch.float)\n",
    "datay = torch.tensor(y).type(torch.long)\n",
    "\n",
    "print(\"Vstup\")\n",
    "print(\"x =\",dataX)\n",
    "\n",
    "print(\"\\nVýstup sítě\")\n",
    "with torch.no_grad():\n",
    "    print(model(dataX))"
   ]
  },
  {
   "cell_type": "markdown",
   "id": "a20e4faa-922e-41ce-bd3b-865cf8a4e17c",
   "metadata": {},
   "source": [
    "### Parametry modelu\n",
    "\n",
    "Můžeme se podívat na aktuální hodnoty parametrů modelu, které jsou nějak defaultně inicializovány."
   ]
  },
  {
   "cell_type": "code",
   "execution_count": null,
   "id": "491d992c-034d-425a-b2c4-08a1ec8b0e02",
   "metadata": {
    "tags": []
   },
   "outputs": [],
   "source": [
    "for name, param in model.named_parameters():\n",
    "    print(name,\"\\n\",param)"
   ]
  },
  {
   "cell_type": "markdown",
   "id": "761afab9-a332-488b-8dda-425e24794369",
   "metadata": {},
   "source": [
    "### Náhodná inicializace parametrů\n",
    "Pokud nám defaultní inicializace nevyhovuje (obecně by neměla), může je re-inicializovat.\n",
    "\n",
    "K tomu použijeme funkce v namespace [torch.nn.init](https://pytorch.org/docs/stable/nn.init.html).\n",
    "\n",
    "Zároveň si nastavíme napevno náhodný seed."
   ]
  },
  {
   "cell_type": "code",
   "execution_count": null,
   "id": "b22399d2-f894-4a5f-a088-a0c2ff529526",
   "metadata": {
    "tags": []
   },
   "outputs": [],
   "source": [
    "torch.manual_seed(1)\n",
    "torch.nn.init.normal_(model.fc1.weight)\n",
    "torch.nn.init.zeros_(model.fc1.bias)\n",
    "torch.nn.init.normal_(model.fc2.weight)\n",
    "torch.nn.init.zeros_(model.fc2.bias)\n",
    "\n",
    "for param in model.parameters():\n",
    "    print(param)"
   ]
  },
  {
   "cell_type": "markdown",
   "id": "7f850b85-b6e3-4365-ba71-e633d8375132",
   "metadata": {},
   "source": [
    "### Manuální nastavení parametrů\n",
    "\n",
    "Parametry můžeme také nastavit manuálně."
   ]
  },
  {
   "cell_type": "code",
   "execution_count": null,
   "id": "ef989523-c358-45ac-ae9d-19a82b6edc02",
   "metadata": {
    "tags": []
   },
   "outputs": [],
   "source": [
    "# model.fc1.weight.data = torch.tensor([[ 0.9184, -0.6461], [-0.5820,  1.5953]])\n",
    "# model.fc1.bias.data = torch.tensor([-0.0075,  0.5449])\n",
    "# model.fc2.weight.data = torch.tensor([[-0.4268, -0.2199]])\n",
    "# model.fc2.bias.data = torch.tensor([0.4188])\n",
    "\n",
    "for param in model.parameters():\n",
    "    print(param)"
   ]
  },
  {
   "cell_type": "markdown",
   "id": "bf4a664c-8696-4d4d-b371-a3e0a6c382f0",
   "metadata": {},
   "source": [
    "### Příprava trénování\n",
    "\n",
    "Připravíme si ztrátovou funkci a optimizer.\n",
    "* Jako ztrátovou funkci použijeme [binární relativní entropii](https://pytorch.org/docs/stable/generated/torch.nn.BCELoss.html).\n",
    "* Jako optimizer použijeme obyčejný [SGD](https://pytorch.org/docs/stable/generated/torch.optim.SGD.html)."
   ]
  },
  {
   "cell_type": "code",
   "execution_count": null,
   "id": "e7003b4e-a33c-46ca-b518-02311d323f14",
   "metadata": {
    "tags": []
   },
   "outputs": [],
   "source": [
    "loss_fn = nn.BCELoss()\n",
    "optimizer = torch.optim.SGD(model.parameters(), lr=0.1)"
   ]
  },
  {
   "cell_type": "markdown",
   "id": "11a0ecca-8b74-4c6b-b5d0-452e78853323",
   "metadata": {},
   "source": [
    "### Trénování\n",
    "\n",
    "Připravíme si funkci, která provede trénování v předem zvoleném počtu epoch (kroků)."
   ]
  },
  {
   "cell_type": "code",
   "execution_count": null,
   "id": "53e414cd-8d9f-4184-9688-95347c194767",
   "metadata": {
    "tags": []
   },
   "outputs": [],
   "source": [
    "def train(X, y, model, epochs, loss_fn, optimizer, print_res = True):\n",
    "    dataX = torch.tensor(X, dtype=torch.float)\n",
    "    datay = torch.tensor(y, dtype=torch.float).reshape(-1,1)\n",
    "    losses = []\n",
    "    for i in range(epochs):\n",
    "        # zero the parameter gradients\n",
    "        optimizer.zero_grad()\n",
    "        \n",
    "        # Compute prediction error (forward)\n",
    "        pred = model(dataX)\n",
    "        loss = loss_fn(pred, datay)\n",
    "\n",
    "        # Backpropagation\n",
    "        loss.backward()\n",
    "        \n",
    "        # Optimization step\n",
    "        optimizer.step()\n",
    "        \n",
    "        # Save loss value - loss je tenzor s jedním prvkem. Voláním .item() toto jedno číslo získáme - bez toho aby se trackoval gradient.\n",
    "        loss = loss.item()\n",
    "        losses.append(loss)\n",
    "        \n",
    "        if print_res and (i % 1000 == 999):\n",
    "            print(f\" step {i+1} loss: {loss:.4f}\")\n",
    "        \n",
    "    return losses\n",
    "        \n",
    "losses = train(Xm, ym, model, 5000, loss_fn, optimizer)\n",
    "\n",
    "plt.plot(range(1,len(losses)+1),losses, '.')\n",
    "plt.show()"
   ]
  },
  {
   "cell_type": "markdown",
   "id": "94526337-d7c8-4958-a6ac-60a9a165fa49",
   "metadata": {},
   "source": [
    "### Predikce jednotlivých tříd a vizualizace hranice\n",
    "\n",
    "Podívejme se, jak se model natrénoval."
   ]
  },
  {
   "cell_type": "code",
   "execution_count": null,
   "id": "488b9b8f-0aae-4662-9366-ec2b2ba1ea44",
   "metadata": {
    "tags": []
   },
   "outputs": [],
   "source": [
    "print('Predikce tříd:', model.predict(X))\n",
    "print('Predikce tříd:', model.predict_proba(X))\n",
    "print('Skutečné třídy:', y)\n",
    "\n",
    "from sklearn.metrics import accuracy_score\n",
    "acc = accuracy_score(ym, model.predict(Xm))\n",
    "print(f\"Výsledná přesnost na velkém datasetu: {acc}\")"
   ]
  },
  {
   "cell_type": "code",
   "execution_count": null,
   "id": "7a37a825-573a-40a1-b32d-35a2ad6e4fff",
   "metadata": {
    "tags": []
   },
   "outputs": [],
   "source": [
    "plot_X_y(Xm, ym)\n",
    "nx, ny = 250, 150\n",
    "x_min, x_max = plt.xlim()\n",
    "y_min, y_max = plt.ylim()\n",
    "xx, yy = np.meshgrid(np.linspace(x_min, x_max, nx), np.linspace(y_min, y_max, ny))\n",
    "Z = 1 - model.predict_proba(np.c_[xx.ravel(), yy.ravel()])\n",
    "Z = Z.reshape(xx.shape)\n",
    "plt.pcolormesh(\n",
    "    xx, yy, Z, cmap=\"red_blue_classes\", norm=colors.Normalize(0.0, 1.0), zorder=0\n",
    ")\n",
    "plt.contour(xx, yy, Z, [0.5], linewidths=2.0, colors=\"white\")\n",
    "\n",
    "plt.show()"
   ]
  },
  {
   "cell_type": "markdown",
   "id": "befdc9ea-f9e1-4c98-927f-530ba7ba3c8c",
   "metadata": {},
   "source": [
    "### Důležitost inicializace vah\n",
    "\n",
    "Podívejme se nyní, kdybychom znovu náhodně inicializovali váhy a opakovali trénování, co se stane.\n",
    "\n",
    "Zkusíme to udělat 10x."
   ]
  },
  {
   "cell_type": "code",
   "execution_count": null,
   "id": "1cc5e08b-1c5d-4327-b96e-eab717354d1d",
   "metadata": {},
   "outputs": [],
   "source": [
    "torch.manual_seed(2)\n",
    "for i in range(10):\n",
    "    torch.nn.init.normal_(model.fc1.weight)\n",
    "    torch.nn.init.zeros_(model.fc1.bias)\n",
    "    torch.nn.init.normal_(model.fc2.weight)\n",
    "    torch.nn.init.zeros_(model.fc2.bias)\n",
    "    optimizer = torch.optim.SGD(model.parameters(), lr=0.1)\n",
    "    train(Xm, ym, model, 5000, loss_fn, optimizer, print_res = False)\n",
    "    acc = accuracy_score(ym, model.predict(Xm))\n",
    "    print(acc)"
   ]
  },
  {
   "cell_type": "markdown",
   "id": "8ed2efa3-20ba-4c5e-b13d-14e131e4f9f5",
   "metadata": {},
   "source": [
    "Vidíme, že se ve většině případů nedokáže natrénovat. Nejspíše uvízne okolo nějakých lokálních extrémů.\n",
    "\n",
    "Podívejme se, že se to nezlepší ani když použijeme jinou náhodnou inicializaci a optimizer Adam."
   ]
  },
  {
   "cell_type": "code",
   "execution_count": null,
   "id": "532cfeee-998b-4e64-8129-73fdc0fcea83",
   "metadata": {},
   "outputs": [],
   "source": [
    "torch.manual_seed(2)\n",
    "for i in range(10):\n",
    "    ..."
   ]
  },
  {
   "cell_type": "markdown",
   "id": "248ec588-4df2-45f7-a293-d765dc79a920",
   "metadata": {},
   "source": [
    "# Neuronová síť na reálných datech\n",
    "\n",
    "Použijeme nyní neuronovou síť na dataset MNIST.\n",
    "Vezmeme si ho z knihovny `torchvision` [zde](https://pytorch.org/vision/main/generated/torchvision.datasets.MNIST.html#torchvision.datasets.MNIST)\n",
    "\n",
    "Pak ale uděláme úkrok stranou (to bychom nemuseli) a vezmeme si z něj data do numpy."
   ]
  },
  {
   "cell_type": "code",
   "execution_count": null,
   "id": "71cb78e8-430a-4839-83c7-ee546033e2ff",
   "metadata": {
    "tags": []
   },
   "outputs": [],
   "source": [
    "import torchvision\n",
    "\n",
    "MNIST_data = torchvision.datasets.MNIST('MNIST/', download=True, train=True, transform=torchvision.transforms.ToTensor())\n",
    "\n",
    "source_images = MNIST_data.data.numpy()/255\n",
    "source_labels = MNIST_data.targets.numpy()\n",
    "\n",
    "print(source_images.shape, source_labels.shape)"
   ]
  },
  {
   "cell_type": "markdown",
   "id": "301eccb8-acbc-40e9-8068-33a70075fd65",
   "metadata": {},
   "source": [
    "Změníme rozměry pole s obrázkovými daty na standardní formát [N,C,H,W], kde\n",
    "* N - je počet obrázků (datových bodů)\n",
    "* C - je počet kanálů (u stupňu šedi pouze jeden, u RGB 3)\n",
    "* H - počet pixelů na výšku\n",
    "* W - počet pixelů na šířku"
   ]
  },
  {
   "cell_type": "code",
   "execution_count": null,
   "id": "a9c62970-b7fc-419f-8c93-4cca85421a7e",
   "metadata": {
    "tags": []
   },
   "outputs": [],
   "source": [
    "source_images = source_images.reshape(-1,1, 28,28)\n",
    "print(source_images.shape, source_labels.shape)"
   ]
  },
  {
   "cell_type": "code",
   "execution_count": null,
   "id": "93c3edd7-2b26-4e71-b1cc-75ce97573f3b",
   "metadata": {
    "tags": []
   },
   "outputs": [],
   "source": [
    "figure = plt.figure(figsize=(5, 5))\n",
    "cols, rows = 3, 3\n",
    "for i in range(1, cols * rows + 1):\n",
    "    img = source_images[i,0,:,:]\n",
    "    label = source_labels[i]\n",
    "    figure.add_subplot(rows, cols, i)\n",
    "    plt.title(f\"{label}\")\n",
    "    plt.axis(\"off\")\n",
    "    plt.imshow(img, cmap=\"gray\")\n",
    "plt.show()"
   ]
  },
  {
   "cell_type": "markdown",
   "id": "495d9658-b865-4f74-b049-b0355617f8f2",
   "metadata": {},
   "source": [
    "### Příprava datasetu pro PyTorch\n",
    "\n",
    "Pro práci s daty při trénování, tj. vytváření dávek, iterování přes ně atd., se v knihovně `PyTorch` používají různé podtřídy [torch.utils.data.Dataset](https://pytorch.org/docs/stable/data.html#torch.utils.data.Dataset).\n",
    "\n",
    "Detailní tutoriál je [zde](https://pytorch.org/tutorials/beginner/basics/data_tutorial.html).\n",
    "\n",
    "V našem případě si data převedeme na tensory a použijeme `torch.utils.data.TensorDataset`."
   ]
  },
  {
   "cell_type": "code",
   "execution_count": null,
   "id": "1e08d297-2d4b-4fe3-9da5-12c752b83e03",
   "metadata": {
    "tags": []
   },
   "outputs": [],
   "source": [
    "dataset = torch.utils.data.TensorDataset(torch.tensor(source_images, dtype = torch.float), torch.tensor(source_labels, dtype = torch.long))\n",
    "\n",
    "print(f\"Počet prvků datasetu: {len(dataset)}\")"
   ]
  },
  {
   "cell_type": "code",
   "execution_count": null,
   "id": "98aa64c6-2409-456e-b454-d0d4b0d6d47d",
   "metadata": {
    "tags": []
   },
   "outputs": [],
   "source": [
    "# dataset[0]"
   ]
  },
  {
   "cell_type": "markdown",
   "id": "7f6f9c5d-55ef-42a2-84c6-bc0b22ef4264",
   "metadata": {},
   "source": [
    "### Přístup k bodům datasetu"
   ]
  },
  {
   "cell_type": "code",
   "execution_count": null,
   "id": "81541c89-ab9a-447a-a131-622379901f72",
   "metadata": {
    "tags": []
   },
   "outputs": [],
   "source": [
    "figure = plt.figure(figsize=(5, 5))\n",
    "cols, rows = 3, 3\n",
    "for i in range(1, cols * rows + 1):\n",
    "    img, label = dataset[i]\n",
    "    figure.add_subplot(rows, cols, i)\n",
    "    plt.title(f\"{label}\")\n",
    "    plt.axis(\"off\")\n",
    "    plt.imshow(img[0,:,:], cmap=\"gray\")\n",
    "plt.show()"
   ]
  },
  {
   "cell_type": "markdown",
   "id": "fa1e4a5d-6fb3-412f-a010-180232189432",
   "metadata": {},
   "source": [
    "### Rozdělení dat na trénovací a validační\n",
    "\n",
    "Využijeme `torch.utils.data.random_split` s konrétním seedem."
   ]
  },
  {
   "cell_type": "code",
   "execution_count": null,
   "id": "eaf7853d-4139-4c1a-9d6b-8eb01a3fcedd",
   "metadata": {
    "tags": []
   },
   "outputs": [],
   "source": [
    "generator1 = torch.Generator().manual_seed(42)\n",
    "train_data, val_data = torch.utils.data.random_split(dataset, [0.8, 0.2], generator1)\n",
    "print(\"The length of train data is:\",len(train_data))\n",
    "print(\"The length of val data is:\",len(val_data))"
   ]
  },
  {
   "cell_type": "markdown",
   "id": "34d5d9e7-475c-48c5-9c01-5be30ca8c855",
   "metadata": {},
   "source": [
    "### Data pro dávkové učení\n",
    "\n",
    "Připravíme dávkovač, který je schopný při trénování dodávat dávky. Použijeme k tomu `torch.utils.data.DataLoader`."
   ]
  },
  {
   "cell_type": "code",
   "execution_count": null,
   "id": "dac09080-a129-4a52-8fc5-a0eb9436b0f9",
   "metadata": {
    "tags": []
   },
   "outputs": [],
   "source": [
    "training_loader = torch.utils.data.DataLoader(train_data, batch_size=32, shuffle=True)\n",
    "validation_loader = torch.utils.data.DataLoader(val_data, batch_size=128, shuffle=False)"
   ]
  },
  {
   "cell_type": "code",
   "execution_count": null,
   "id": "95bbe6e7-09cf-45bd-84f7-7b41a63a1e99",
   "metadata": {
    "tags": []
   },
   "outputs": [],
   "source": [
    "dataiter = iter(training_loader)\n",
    "images, labels = next(dataiter)\n",
    "print(images.shape)\n",
    "print(labels.shape)"
   ]
  },
  {
   "cell_type": "markdown",
   "id": "ea2536a5-74be-4670-9d48-742e20243c10",
   "metadata": {
    "tags": []
   },
   "source": [
    "## Model neuronové sítě\n",
    "\n",
    "Vyrobíme klasickou dopřednou síť, která na výstupu bude mít 10 neuronů.\n",
    "Jako ztrátovou funkci použijeme kategorickou relativní entropii v implementaci [torch.nn.CrossEntropyLoss](https://pytorch.org/docs/stable/generated/torch.nn.CrossEntropyLoss.html), která má softmax v sobě - takže na výstupu necháme prostě neurony bez aktivační funkce."
   ]
  },
  {
   "cell_type": "code",
   "execution_count": null,
   "id": "344bd625-397a-4f7a-a483-c9f6985bb7c1",
   "metadata": {
    "tags": []
   },
   "outputs": [],
   "source": [
    "class MyNet(nn.Module):\n",
    "    def __init__(self):\n",
    "        super().__init__()\n",
    "        self.fc1 = nn.Linear(28*28, 16)\n",
    "        self.fco = nn.Linear(16, 10)\n",
    "\n",
    "    def forward(self, x):\n",
    "        ...\n",
    "        return x\n",
    "\n",
    "model = MyNet()\n",
    "\n",
    "# zkusíme tam dát data\n",
    "outputs = model(images)\n",
    "print(images.shape, outputs.shape)"
   ]
  },
  {
   "cell_type": "markdown",
   "id": "b80e7ce8-c3cd-4e3d-96ad-95445fbefbf9",
   "metadata": {},
   "source": [
    "### Parametry a jejich počet\n",
    "\n",
    "Projděme si jednotlivé parametry a jejich počty."
   ]
  },
  {
   "cell_type": "code",
   "execution_count": null,
   "id": "b9a659ef-41ad-4302-95f4-5d0e5efab5d7",
   "metadata": {
    "tags": []
   },
   "outputs": [],
   "source": [
    "num_params = 0\n",
    "for name, param in model.named_parameters():\n",
    "    print(f\"{name}\\n# {param.numel()}\")\n",
    "    num_params += param.numel()\n",
    "    \n",
    "print(f\"\\nCelkový počet parametrů: {num_params}\")"
   ]
  },
  {
   "cell_type": "markdown",
   "id": "33d3b59a-9bda-4c51-b89a-fe08321a7bd8",
   "metadata": {},
   "source": [
    "### Ztrátová funkce\n",
    "\n",
    "\n",
    "Použijeme kategorickou relativní entropii v implementaci [torch.nn.CrossEntropyLoss](https://pytorch.org/docs/stable/generated/torch.nn.CrossEntropyLoss.html).\n",
    "\n",
    "Tato funkce pro každou dávku vrací průměrnou chybu predikce."
   ]
  },
  {
   "cell_type": "code",
   "execution_count": null,
   "id": "75ad82b1-18e2-4c27-bcb6-84d6b3751964",
   "metadata": {
    "tags": []
   },
   "outputs": [],
   "source": [
    "loss_fn = torch.nn.CrossEntropyLoss()\n",
    "\n",
    "loss = loss_fn(outputs, labels)\n",
    "print('Total loss for this batch: {}'.format(loss.item()))"
   ]
  },
  {
   "cell_type": "markdown",
   "id": "a228d6f0-2908-4869-af60-f1b8b8a692f7",
   "metadata": {},
   "source": [
    "### Optimizer\n",
    "\n",
    "Jako optimizer použijeme Adam."
   ]
  },
  {
   "cell_type": "code",
   "execution_count": null,
   "id": "380b02ee-5417-4050-8118-f1b7d802734b",
   "metadata": {
    "tags": []
   },
   "outputs": [],
   "source": [
    "# Optimizers specified in the torch.optim package\n",
    "optimizer = torch.optim.Adam(model.parameters())"
   ]
  },
  {
   "cell_type": "markdown",
   "id": "8b2b22c6-4c29-4f43-9aa6-e762d69deb60",
   "metadata": {},
   "source": [
    "### Trénování jedné epochy\n",
    "\n",
    "Napíšeme funkci, která provede natrénování jedné epochy modelu."
   ]
  },
  {
   "cell_type": "code",
   "execution_count": null,
   "id": "a072ea7c-c496-4241-87e8-1d1541160625",
   "metadata": {
    "tags": []
   },
   "outputs": [],
   "source": [
    "def train_one_epoch(model, loss_fn, optimizer, training_loader):\n",
    "    running_cum_loss = 0.\n",
    "\n",
    "    # Here, we use enumerate(training_loader) instead of\n",
    "    # iter(training_loader) so that we can track the batch\n",
    "    # index and do some intra-epoch reporting\n",
    "    for i, data in enumerate(training_loader):\n",
    "        ...\n",
    "\n",
    "        # Gather data and report\n",
    "        last_mean_loss = loss.item()\n",
    "        running_cum_loss += last_mean_loss * inputs.shape[0]\n",
    "        if i % 300 == 299:\n",
    "            print(f\"  batch {i+1} loss: {last_mean_loss:.3f}\")\n",
    "            \n",
    "    # Return of the average over the whole training set\n",
    "    return running_cum_loss / len(train_data)\n",
    "\n",
    "loss = train_one_epoch(model, loss_fn, optimizer, training_loader)\n",
    "print(f\"Celková trénovací chyba: {loss}\")"
   ]
  },
  {
   "cell_type": "markdown",
   "id": "5526f2b8-c0d5-4ab9-ad80-2cea789975ba",
   "metadata": {},
   "source": [
    "### Trénovací smyčka přes několik epoch\n",
    "\n",
    "Připravíme si cyklus, ktere provede trénování v několika epochách. \n",
    "\n",
    "Na konci každé epochy si na validační množině spočteme: \n",
    "* průměrnou hodnotu ztrátové funkce,\n",
    "* přesnost."
   ]
  },
  {
   "cell_type": "code",
   "execution_count": null,
   "id": "968c300d-98f1-41e5-aa36-0b915396ace3",
   "metadata": {
    "tags": []
   },
   "outputs": [],
   "source": [
    "# Initializing in a separate cell so we can easily add more epochs to the same run\n",
    "EPOCHS = 2\n",
    "\n",
    "for epoch in range(EPOCHS):\n",
    "    print('EPOCH {}:'.format(epoch + 1))\n",
    "\n",
    "    # One training step\n",
    "    avg_loss = train_one_epoch(model, loss_fn, optimizer, training_loader)\n",
    "\n",
    "    # Validation performance\n",
    "    running_cum_vloss = 0.0\n",
    "    vcorrect = 0\n",
    "    for i, vdata in enumerate(validation_loader):\n",
    "        vinputs, vlabels = vdata\n",
    "        with torch.no_grad():\n",
    "            voutputs = model(vinputs)\n",
    "            vloss = loss_fn(voutputs, vlabels)\n",
    "        running_cum_vloss += vloss * vinputs.shape[0]\n",
    "        # count the correctly classified samoples\n",
    "        vcorrect += (voutputs.argmax(1) == vlabels).float().sum()\n",
    "    # Get average loss and accuraccy\n",
    "    avg_vloss = running_cum_vloss / len(val_data)\n",
    "    vacc = vcorrect / len(val_data)\n",
    "    \n",
    "    print(f\"TRAIN loss: {avg_loss:.3f}, VALIDATION loss: {avg_vloss:.3f}, accuraccy: {vacc:.3f}\")"
   ]
  },
  {
   "cell_type": "markdown",
   "id": "09a34875-3e87-402c-9f01-32b27f701262",
   "metadata": {},
   "source": [
    "### Ukázka výsledku na validačních datech\n",
    "\n",
    "Podíváme se, jak model predikuje na první dávce validačních dat."
   ]
  },
  {
   "cell_type": "code",
   "execution_count": null,
   "id": "155ed7d2-869d-4392-b341-f09e194aad22",
   "metadata": {
    "tags": []
   },
   "outputs": [],
   "source": [
    "dataiter = iter(validation_loader)\n",
    "images, labels = next(dataiter)\n",
    "print(images.shape)\n",
    "print(labels.shape)"
   ]
  },
  {
   "cell_type": "markdown",
   "id": "431f13b9-1ad4-4776-9cc7-fcfa5dca48b8",
   "metadata": {},
   "source": [
    "Použijeme funkci `argmax`, která na tenzoru vrátí index prvku, který nabývá maxima."
   ]
  },
  {
   "cell_type": "code",
   "execution_count": null,
   "id": "4be2d03a-9e7c-4d52-8bc6-0449b1276d8f",
   "metadata": {
    "tags": []
   },
   "outputs": [],
   "source": [
    "with torch.no_grad():\n",
    "    print(model(images).argmax(dim = 1))\n",
    "\n",
    "print(labels.flatten())"
   ]
  },
  {
   "cell_type": "markdown",
   "id": "99cac183-2f0a-4ffb-ac2d-f2967ee6bea5",
   "metadata": {},
   "source": [
    "### Predikce pravděpodobností\n",
    "\n",
    "Pomocí funkce `softmax` transformujeme výstup sítě na pravděpodobnosti příslušnosti k jednotlivým třídám."
   ]
  },
  {
   "cell_type": "code",
   "execution_count": null,
   "id": "35469c4a-4bed-4148-8caf-310e7648633a",
   "metadata": {
    "tags": []
   },
   "outputs": [],
   "source": [
    "with torch.no_grad():\n",
    "    probabs = F.softmax(model(images), dim = 1)\n",
    "    \n",
    "print(probabs[0])"
   ]
  },
  {
   "cell_type": "code",
   "execution_count": null,
   "id": "0910cc13-1d23-4290-a6e0-13c55a4dfaf5",
   "metadata": {},
   "outputs": [],
   "source": []
  }
 ],
 "metadata": {
  "kernelspec": {
   "display_name": "Python 3 (ipykernel)",
   "language": "python",
   "name": "python3"
  },
  "language_info": {
   "codemirror_mode": {
    "name": "ipython",
    "version": 3
   },
   "file_extension": ".py",
   "mimetype": "text/x-python",
   "name": "python",
   "nbconvert_exporter": "python",
   "pygments_lexer": "ipython3",
   "version": "3.10.11"
  }
 },
 "nbformat": 4,
 "nbformat_minor": 5
}
