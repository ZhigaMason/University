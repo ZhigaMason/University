{
 "cells": [
  {
   "cell_type": "markdown",
   "metadata": {
    "cell_id": "5bfa35524172495b97e9468b199f5a4b",
    "deepnote_cell_height": 2261,
    "deepnote_cell_type": "markdown"
   },
   "source": [
    "# Homework 2 - balancing, transformations, and dimensionality reduction (deadline 22. 12. 2024, 23:59)\n",
    "\n",
    "In short, the main task is to play with balancing, binning, transformations, and dimensionality reduction to obtain the best results for the binary classification task.\n",
    "  \n",
    "> The instructions are not given in detail: It is up to you to come up with ideas on how to fulfill the particular tasks as best you can!\n",
    "\n",
    "However, we **strongly recommend and require** the following:\n",
    "* Follow the assignment step by step. Number each step.\n",
    "* Properly comment on all your steps. Use Markdown cells and visualizations. Comments are evaluated for 2 points of the total, together with the final presentation of the solution. However, it is not desirable to write novels! \n",
    "* This task is timewise and computationally intensive. Do not leave it to the last minute.\n",
    "* Most steps contain the number of features that should be treated. You can preprocess more features. However, it does not mean the teacher will give you more points. Focus on quality, not quantity.\n",
    "* Hand in a notebook that has already been run (i.e., do not delete outputs before handing in).\n",
    "\n",
    "## What are you supposed to do:\n",
    "\n",
    "  1. Download the dataset [here](https://www.dropbox.com/s/aq08ytozfplb97b/data.csv?dl=0). Split the dataset into a train, validation, and test set and **use these parts correctly (!)** in the following steps.\n",
    "  1. Choose at least one classification algorithm whose performance is to be improved in the following steps.\n",
    "  1. Use at least two binning methods (on features of your choice, with your choice of parameters) and comment on their effects on classification performance. _I.e., one kind of classifier trained for each binning and a comparison of the effect of binning methods against each other._ _(4 points, depends on creativity)_ \n",
    "  1. Use at least two data balancing techniques on the correct part of the dataset and comment on its effects on classification performance. Focus on the comparison of methods between each other. _I.e., one type of classifier trained for each balancing and a comparison of the effect of balancing methods against each other._ **Just copied code from tutorial four will not be accepted.** _(6 points, depends on creativity)_\n",
    "  1. Transform the features appropriately and prepare new ones (i.e., feature engineering) - focus on the increase in the model's performance (possibly in combination with further steps). _(5 points, depends on creativity)_ \n",
    "  1. Try to find some suitable subset of features - use at least two feature selection methods. Evaluate your choice on the validation set and discuss the influence. Do not use PCA (principal component analysis) in this step. Manual selection will not be accepted. _(4 points, depends on creativity)_\n",
    "  1. Use PCA to reduce the dimensionality. Discuss the influence of the number of principal components. _(4 points)_\n",
    "  1. Try to find the best combination of the previous steps and run final classification tests on the correct part of the dataset - first for the original data, second for the best-found combination of the previous preprocessing steps. Compare the results and discuss (give a comment, use graphs, and so on). _(5 points)_\n",
    "\n",
    "All your steps, choices, and the following code **must be commented on!** For text comments (discussion, etc., not code comments), use **Markdown cells**. Comments are evaluated for _2 points_ together with the final presentation of the solution.\n",
    "\n",
    "**If you do all this properly, you will obtain 30 points.**\n",
    "\n",
    "### FAQ\n",
    "\n",
    "* Select the appropriate metric to evaluate the classification results.\n",
    "* In steps 2 and 3, you are comparing methods against each other, not their effect on unadjusted data. However, you can comment on that, too.\n",
    "* You choose the subset of features only in step 2 because of the binning methods. In the other steps, you work with the whole dataset.\n",
    "\n",
    "## Comments\n",
    "\n",
    "  * Please follow the technical instructions from https://courses.fit.cvut.cz/NI-PDD/homeworks/index.html.\n",
    "  * Methods that are more complex and were not shown during the tutorials are considered more creative and should be described in detail.\n",
    "  * English is not compulsory.\n",
    "\n",
    "  \n",
    "## Data description\n",
    "\n",
    "* The dataset can be downloaded [here](https://www.dropbox.com/s/aq08ytozfplb97b/data.csv?dl=0).\n",
    "* The data are devoted to the binary classification task. The aim is to predict the probability that a driver will initiate an auto insurance claim next year.\n",
    "* The target feature is called 'y' and signifies whether or not a claim was filed for that policyholder.\n",
    "* To fulfill the task, one does not need to know the meaning of predictors.\n",
    "* Predictors that belong to similar groupings are tagged as such in the feature names (e.g., ind, reg, car, calc). In addition, feature names include the postfix _bin_ to indicate binary features and the postfix _cat_ to indicate categorical features. Features without these designations are either continuous or ordinal. Values of -1 indicate that the feature was missing from the observation.\n",
    "* While using [train_test_split](https://scikit-learn.org/stable/modules/generated/sklearn.model_selection.train_test_split.html), control the shuffling of data by random_state parameter. Do not use shuffle=False, probably never (can cause systematic error)."
   ]
  },
  {
   "cell_type": "code",
   "execution_count": 1,
   "metadata": {
    "cell_id": "acc3be25edb6410e9f3bdb861f1c51b1",
    "deepnote_cell_height": 184,
    "deepnote_cell_type": "code",
    "deepnote_to_be_reexecuted": false,
    "execution_millis": 44,
    "execution_start": 1662743409241,
    "source_hash": "8db2ee1d"
   },
   "outputs": [],
   "source": [
    "### here comes your code\n",
    "\n",
    "\n",
    "\n",
    "\n",
    "\n"
   ]
  }
 ],
 "metadata": {
  "deepnote": {},
  "deepnote_execution_queue": [],
  "deepnote_notebook_id": "d2feccbc216340dcbbd4eb6f3552a036",
  "kernelspec": {
   "display_name": "Python 3 (ipykernel)",
   "language": "python",
   "name": "python3"
  },
  "language_info": {
   "codemirror_mode": {
    "name": "ipython",
    "version": 3
   },
   "file_extension": ".py",
   "mimetype": "text/x-python",
   "name": "python",
   "nbconvert_exporter": "python",
   "pygments_lexer": "ipython3",
   "version": "3.12.3"
  }
 },
 "nbformat": 4,
 "nbformat_minor": 4
}
